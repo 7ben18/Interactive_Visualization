{
 "cells": [
  {
   "cell_type": "code",
   "execution_count": 3,
   "metadata": {},
   "outputs": [],
   "source": [
    "# Import modules\n",
    "import pandas as pd\n",
    "import seaborn as sns\n",
    "import matplotlib.pyplot as plt\n",
    "import numpy as np\n"
   ]
  },
  {
   "cell_type": "code",
   "execution_count": 4,
   "metadata": {},
   "outputs": [
    {
     "data": {
      "text/html": [
       "<div>\n",
       "<style scoped>\n",
       "    .dataframe tbody tr th:only-of-type {\n",
       "        vertical-align: middle;\n",
       "    }\n",
       "\n",
       "    .dataframe tbody tr th {\n",
       "        vertical-align: top;\n",
       "    }\n",
       "\n",
       "    .dataframe thead th {\n",
       "        text-align: right;\n",
       "    }\n",
       "</style>\n",
       "<table border=\"1\" class=\"dataframe\">\n",
       "  <thead>\n",
       "    <tr style=\"text-align: right;\">\n",
       "      <th></th>\n",
       "      <th>#</th>\n",
       "      <th>Name</th>\n",
       "      <th>Type 1</th>\n",
       "      <th>Type 2</th>\n",
       "      <th>HP</th>\n",
       "      <th>Attack</th>\n",
       "      <th>Defense</th>\n",
       "      <th>Sp. Atk</th>\n",
       "      <th>Sp. Def</th>\n",
       "      <th>Speed</th>\n",
       "      <th>Generation</th>\n",
       "      <th>Legendary</th>\n",
       "    </tr>\n",
       "  </thead>\n",
       "  <tbody>\n",
       "    <tr>\n",
       "      <th>0</th>\n",
       "      <td>1</td>\n",
       "      <td>Bulbasaur</td>\n",
       "      <td>Grass</td>\n",
       "      <td>Poison</td>\n",
       "      <td>45</td>\n",
       "      <td>49</td>\n",
       "      <td>49</td>\n",
       "      <td>65</td>\n",
       "      <td>65</td>\n",
       "      <td>45</td>\n",
       "      <td>1</td>\n",
       "      <td>False</td>\n",
       "    </tr>\n",
       "    <tr>\n",
       "      <th>1</th>\n",
       "      <td>2</td>\n",
       "      <td>Ivysaur</td>\n",
       "      <td>Grass</td>\n",
       "      <td>Poison</td>\n",
       "      <td>60</td>\n",
       "      <td>62</td>\n",
       "      <td>63</td>\n",
       "      <td>80</td>\n",
       "      <td>80</td>\n",
       "      <td>60</td>\n",
       "      <td>1</td>\n",
       "      <td>False</td>\n",
       "    </tr>\n",
       "    <tr>\n",
       "      <th>2</th>\n",
       "      <td>3</td>\n",
       "      <td>Venusaur</td>\n",
       "      <td>Grass</td>\n",
       "      <td>Poison</td>\n",
       "      <td>80</td>\n",
       "      <td>82</td>\n",
       "      <td>83</td>\n",
       "      <td>100</td>\n",
       "      <td>100</td>\n",
       "      <td>80</td>\n",
       "      <td>1</td>\n",
       "      <td>False</td>\n",
       "    </tr>\n",
       "    <tr>\n",
       "      <th>3</th>\n",
       "      <td>3</td>\n",
       "      <td>VenusaurMega Venusaur</td>\n",
       "      <td>Grass</td>\n",
       "      <td>Poison</td>\n",
       "      <td>80</td>\n",
       "      <td>100</td>\n",
       "      <td>123</td>\n",
       "      <td>122</td>\n",
       "      <td>120</td>\n",
       "      <td>80</td>\n",
       "      <td>1</td>\n",
       "      <td>False</td>\n",
       "    </tr>\n",
       "    <tr>\n",
       "      <th>4</th>\n",
       "      <td>4</td>\n",
       "      <td>Charmander</td>\n",
       "      <td>Fire</td>\n",
       "      <td>NaN</td>\n",
       "      <td>39</td>\n",
       "      <td>52</td>\n",
       "      <td>43</td>\n",
       "      <td>60</td>\n",
       "      <td>50</td>\n",
       "      <td>65</td>\n",
       "      <td>1</td>\n",
       "      <td>False</td>\n",
       "    </tr>\n",
       "  </tbody>\n",
       "</table>\n",
       "</div>"
      ],
      "text/plain": [
       "   #                   Name Type 1  Type 2  HP  Attack  Defense  Sp. Atk  \\\n",
       "0  1              Bulbasaur  Grass  Poison  45      49       49       65   \n",
       "1  2                Ivysaur  Grass  Poison  60      62       63       80   \n",
       "2  3               Venusaur  Grass  Poison  80      82       83      100   \n",
       "3  3  VenusaurMega Venusaur  Grass  Poison  80     100      123      122   \n",
       "4  4             Charmander   Fire     NaN  39      52       43       60   \n",
       "\n",
       "   Sp. Def  Speed  Generation  Legendary  \n",
       "0       65     45           1      False  \n",
       "1       80     60           1      False  \n",
       "2      100     80           1      False  \n",
       "3      120     80           1      False  \n",
       "4       50     65           1      False  "
      ]
     },
     "metadata": {},
     "output_type": "display_data"
    },
    {
     "data": {
      "text/html": [
       "<div>\n",
       "<style scoped>\n",
       "    .dataframe tbody tr th:only-of-type {\n",
       "        vertical-align: middle;\n",
       "    }\n",
       "\n",
       "    .dataframe tbody tr th {\n",
       "        vertical-align: top;\n",
       "    }\n",
       "\n",
       "    .dataframe thead th {\n",
       "        text-align: right;\n",
       "    }\n",
       "</style>\n",
       "<table border=\"1\" class=\"dataframe\">\n",
       "  <thead>\n",
       "    <tr style=\"text-align: right;\">\n",
       "      <th></th>\n",
       "      <th>#</th>\n",
       "      <th>Name</th>\n",
       "      <th>Type 1</th>\n",
       "      <th>Type 2</th>\n",
       "      <th>HP</th>\n",
       "      <th>Attack</th>\n",
       "      <th>Defense</th>\n",
       "      <th>Sp. Atk</th>\n",
       "      <th>Sp. Def</th>\n",
       "      <th>Speed</th>\n",
       "      <th>Generation</th>\n",
       "      <th>Legendary</th>\n",
       "    </tr>\n",
       "  </thead>\n",
       "  <tbody>\n",
       "    <tr>\n",
       "      <th>795</th>\n",
       "      <td>719</td>\n",
       "      <td>Diancie</td>\n",
       "      <td>Rock</td>\n",
       "      <td>Fairy</td>\n",
       "      <td>50</td>\n",
       "      <td>100</td>\n",
       "      <td>150</td>\n",
       "      <td>100</td>\n",
       "      <td>150</td>\n",
       "      <td>50</td>\n",
       "      <td>6</td>\n",
       "      <td>True</td>\n",
       "    </tr>\n",
       "    <tr>\n",
       "      <th>796</th>\n",
       "      <td>719</td>\n",
       "      <td>DiancieMega Diancie</td>\n",
       "      <td>Rock</td>\n",
       "      <td>Fairy</td>\n",
       "      <td>50</td>\n",
       "      <td>160</td>\n",
       "      <td>110</td>\n",
       "      <td>160</td>\n",
       "      <td>110</td>\n",
       "      <td>110</td>\n",
       "      <td>6</td>\n",
       "      <td>True</td>\n",
       "    </tr>\n",
       "    <tr>\n",
       "      <th>797</th>\n",
       "      <td>720</td>\n",
       "      <td>HoopaHoopa Confined</td>\n",
       "      <td>Psychic</td>\n",
       "      <td>Ghost</td>\n",
       "      <td>80</td>\n",
       "      <td>110</td>\n",
       "      <td>60</td>\n",
       "      <td>150</td>\n",
       "      <td>130</td>\n",
       "      <td>70</td>\n",
       "      <td>6</td>\n",
       "      <td>True</td>\n",
       "    </tr>\n",
       "    <tr>\n",
       "      <th>798</th>\n",
       "      <td>720</td>\n",
       "      <td>HoopaHoopa Unbound</td>\n",
       "      <td>Psychic</td>\n",
       "      <td>Dark</td>\n",
       "      <td>80</td>\n",
       "      <td>160</td>\n",
       "      <td>60</td>\n",
       "      <td>170</td>\n",
       "      <td>130</td>\n",
       "      <td>80</td>\n",
       "      <td>6</td>\n",
       "      <td>True</td>\n",
       "    </tr>\n",
       "    <tr>\n",
       "      <th>799</th>\n",
       "      <td>721</td>\n",
       "      <td>Volcanion</td>\n",
       "      <td>Fire</td>\n",
       "      <td>Water</td>\n",
       "      <td>80</td>\n",
       "      <td>110</td>\n",
       "      <td>120</td>\n",
       "      <td>130</td>\n",
       "      <td>90</td>\n",
       "      <td>70</td>\n",
       "      <td>6</td>\n",
       "      <td>True</td>\n",
       "    </tr>\n",
       "  </tbody>\n",
       "</table>\n",
       "</div>"
      ],
      "text/plain": [
       "       #                 Name   Type 1 Type 2  HP  Attack  Defense  Sp. Atk  \\\n",
       "795  719              Diancie     Rock  Fairy  50     100      150      100   \n",
       "796  719  DiancieMega Diancie     Rock  Fairy  50     160      110      160   \n",
       "797  720  HoopaHoopa Confined  Psychic  Ghost  80     110       60      150   \n",
       "798  720   HoopaHoopa Unbound  Psychic   Dark  80     160       60      170   \n",
       "799  721            Volcanion     Fire  Water  80     110      120      130   \n",
       "\n",
       "     Sp. Def  Speed  Generation  Legendary  \n",
       "795      150     50           6       True  \n",
       "796      110    110           6       True  \n",
       "797      130     70           6       True  \n",
       "798      130     80           6       True  \n",
       "799       90     70           6       True  "
      ]
     },
     "metadata": {},
     "output_type": "display_data"
    }
   ],
   "source": [
    "# reading pokemon_data.csv\n",
    "df = pd.read_csv(\"pokemon_data.csv\")\n",
    "\n",
    "# print df head and tail\n",
    "display(df.head(), df.tail())"
   ]
  },
  {
   "cell_type": "code",
   "execution_count": 5,
   "metadata": {},
   "outputs": [
    {
     "name": "stdout",
     "output_type": "stream",
     "text": [
      "<class 'pandas.core.frame.DataFrame'>\n",
      "RangeIndex: 800 entries, 0 to 799\n",
      "Data columns (total 12 columns):\n",
      " #   Column      Non-Null Count  Dtype \n",
      "---  ------      --------------  ----- \n",
      " 0   #           800 non-null    int64 \n",
      " 1   Name        800 non-null    object\n",
      " 2   Type 1      800 non-null    object\n",
      " 3   Type 2      414 non-null    object\n",
      " 4   HP          800 non-null    int64 \n",
      " 5   Attack      800 non-null    int64 \n",
      " 6   Defense     800 non-null    int64 \n",
      " 7   Sp. Atk     800 non-null    int64 \n",
      " 8   Sp. Def     800 non-null    int64 \n",
      " 9   Speed       800 non-null    int64 \n",
      " 10  Generation  800 non-null    int64 \n",
      " 11  Legendary   800 non-null    bool  \n",
      "dtypes: bool(1), int64(8), object(3)\n",
      "memory usage: 69.7+ KB\n"
     ]
    },
    {
     "data": {
      "text/plain": [
       "None"
      ]
     },
     "metadata": {},
     "output_type": "display_data"
    }
   ],
   "source": [
    "# print df info\n",
    "display(df.info())\n"
   ]
  },
  {
   "cell_type": "code",
   "execution_count": 6,
   "metadata": {},
   "outputs": [
    {
     "data": {
      "text/html": [
       "<div>\n",
       "<style scoped>\n",
       "    .dataframe tbody tr th:only-of-type {\n",
       "        vertical-align: middle;\n",
       "    }\n",
       "\n",
       "    .dataframe tbody tr th {\n",
       "        vertical-align: top;\n",
       "    }\n",
       "\n",
       "    .dataframe thead th {\n",
       "        text-align: right;\n",
       "    }\n",
       "</style>\n",
       "<table border=\"1\" class=\"dataframe\">\n",
       "  <thead>\n",
       "    <tr style=\"text-align: right;\">\n",
       "      <th></th>\n",
       "      <th>#</th>\n",
       "      <th>Name</th>\n",
       "      <th>Type 1</th>\n",
       "      <th>Type 2</th>\n",
       "      <th>HP</th>\n",
       "      <th>Attack</th>\n",
       "      <th>Defense</th>\n",
       "      <th>Sp. Atk</th>\n",
       "      <th>Sp. Def</th>\n",
       "      <th>Speed</th>\n",
       "      <th>Generation</th>\n",
       "      <th>Legendary</th>\n",
       "      <th>Total</th>\n",
       "    </tr>\n",
       "  </thead>\n",
       "  <tbody>\n",
       "    <tr>\n",
       "      <th>0</th>\n",
       "      <td>1</td>\n",
       "      <td>Bulbasaur</td>\n",
       "      <td>Grass</td>\n",
       "      <td>Poison</td>\n",
       "      <td>45</td>\n",
       "      <td>49</td>\n",
       "      <td>49</td>\n",
       "      <td>65</td>\n",
       "      <td>65</td>\n",
       "      <td>45</td>\n",
       "      <td>1</td>\n",
       "      <td>False</td>\n",
       "      <td>318</td>\n",
       "    </tr>\n",
       "    <tr>\n",
       "      <th>1</th>\n",
       "      <td>2</td>\n",
       "      <td>Ivysaur</td>\n",
       "      <td>Grass</td>\n",
       "      <td>Poison</td>\n",
       "      <td>60</td>\n",
       "      <td>62</td>\n",
       "      <td>63</td>\n",
       "      <td>80</td>\n",
       "      <td>80</td>\n",
       "      <td>60</td>\n",
       "      <td>1</td>\n",
       "      <td>False</td>\n",
       "      <td>405</td>\n",
       "    </tr>\n",
       "    <tr>\n",
       "      <th>2</th>\n",
       "      <td>3</td>\n",
       "      <td>Venusaur</td>\n",
       "      <td>Grass</td>\n",
       "      <td>Poison</td>\n",
       "      <td>80</td>\n",
       "      <td>82</td>\n",
       "      <td>83</td>\n",
       "      <td>100</td>\n",
       "      <td>100</td>\n",
       "      <td>80</td>\n",
       "      <td>1</td>\n",
       "      <td>False</td>\n",
       "      <td>525</td>\n",
       "    </tr>\n",
       "    <tr>\n",
       "      <th>3</th>\n",
       "      <td>3</td>\n",
       "      <td>VenusaurMega Venusaur</td>\n",
       "      <td>Grass</td>\n",
       "      <td>Poison</td>\n",
       "      <td>80</td>\n",
       "      <td>100</td>\n",
       "      <td>123</td>\n",
       "      <td>122</td>\n",
       "      <td>120</td>\n",
       "      <td>80</td>\n",
       "      <td>1</td>\n",
       "      <td>False</td>\n",
       "      <td>625</td>\n",
       "    </tr>\n",
       "    <tr>\n",
       "      <th>4</th>\n",
       "      <td>4</td>\n",
       "      <td>Charmander</td>\n",
       "      <td>Fire</td>\n",
       "      <td>NaN</td>\n",
       "      <td>39</td>\n",
       "      <td>52</td>\n",
       "      <td>43</td>\n",
       "      <td>60</td>\n",
       "      <td>50</td>\n",
       "      <td>65</td>\n",
       "      <td>1</td>\n",
       "      <td>False</td>\n",
       "      <td>309</td>\n",
       "    </tr>\n",
       "  </tbody>\n",
       "</table>\n",
       "</div>"
      ],
      "text/plain": [
       "   #                   Name Type 1  Type 2  HP  Attack  Defense  Sp. Atk  \\\n",
       "0  1              Bulbasaur  Grass  Poison  45      49       49       65   \n",
       "1  2                Ivysaur  Grass  Poison  60      62       63       80   \n",
       "2  3               Venusaur  Grass  Poison  80      82       83      100   \n",
       "3  3  VenusaurMega Venusaur  Grass  Poison  80     100      123      122   \n",
       "4  4             Charmander   Fire     NaN  39      52       43       60   \n",
       "\n",
       "   Sp. Def  Speed  Generation  Legendary  Total  \n",
       "0       65     45           1      False    318  \n",
       "1       80     60           1      False    405  \n",
       "2      100     80           1      False    525  \n",
       "3      120     80           1      False    625  \n",
       "4       50     65           1      False    309  "
      ]
     },
     "metadata": {},
     "output_type": "display_data"
    },
    {
     "data": {
      "text/plain": [
       "dtype('int64')"
      ]
     },
     "metadata": {},
     "output_type": "display_data"
    }
   ],
   "source": [
    "# create total stats column\n",
    "df['Total'] = df['HP'] + df['Attack'] + df['Defense'] + df['Sp. Atk'] + df['Sp. Def'] + df['Speed']\n",
    "\n",
    "# print df head\n",
    "display(df.head())\n",
    "\n",
    "# display datatyp of total\n",
    "display(df['Total'].dtypes)\n"
   ]
  },
  {
   "cell_type": "code",
   "execution_count": 7,
   "metadata": {},
   "outputs": [
    {
     "data": {
      "text/html": [
       "<div>\n",
       "<style scoped>\n",
       "    .dataframe tbody tr th:only-of-type {\n",
       "        vertical-align: middle;\n",
       "    }\n",
       "\n",
       "    .dataframe tbody tr th {\n",
       "        vertical-align: top;\n",
       "    }\n",
       "\n",
       "    .dataframe thead th {\n",
       "        text-align: right;\n",
       "    }\n",
       "</style>\n",
       "<table border=\"1\" class=\"dataframe\">\n",
       "  <thead>\n",
       "    <tr style=\"text-align: right;\">\n",
       "      <th></th>\n",
       "      <th>#</th>\n",
       "      <th>Name</th>\n",
       "      <th>Type 1</th>\n",
       "      <th>Type 2</th>\n",
       "      <th>HP</th>\n",
       "      <th>Attack</th>\n",
       "      <th>Defense</th>\n",
       "      <th>Sp. Atk</th>\n",
       "      <th>Sp. Def</th>\n",
       "      <th>Speed</th>\n",
       "      <th>Generation</th>\n",
       "      <th>Legendary</th>\n",
       "      <th>Total</th>\n",
       "      <th>Dual Type</th>\n",
       "    </tr>\n",
       "  </thead>\n",
       "  <tbody>\n",
       "    <tr>\n",
       "      <th>0</th>\n",
       "      <td>1</td>\n",
       "      <td>Bulbasaur</td>\n",
       "      <td>Grass</td>\n",
       "      <td>Poison</td>\n",
       "      <td>45</td>\n",
       "      <td>49</td>\n",
       "      <td>49</td>\n",
       "      <td>65</td>\n",
       "      <td>65</td>\n",
       "      <td>45</td>\n",
       "      <td>1</td>\n",
       "      <td>False</td>\n",
       "      <td>318</td>\n",
       "      <td>True</td>\n",
       "    </tr>\n",
       "    <tr>\n",
       "      <th>1</th>\n",
       "      <td>2</td>\n",
       "      <td>Ivysaur</td>\n",
       "      <td>Grass</td>\n",
       "      <td>Poison</td>\n",
       "      <td>60</td>\n",
       "      <td>62</td>\n",
       "      <td>63</td>\n",
       "      <td>80</td>\n",
       "      <td>80</td>\n",
       "      <td>60</td>\n",
       "      <td>1</td>\n",
       "      <td>False</td>\n",
       "      <td>405</td>\n",
       "      <td>True</td>\n",
       "    </tr>\n",
       "    <tr>\n",
       "      <th>2</th>\n",
       "      <td>3</td>\n",
       "      <td>Venusaur</td>\n",
       "      <td>Grass</td>\n",
       "      <td>Poison</td>\n",
       "      <td>80</td>\n",
       "      <td>82</td>\n",
       "      <td>83</td>\n",
       "      <td>100</td>\n",
       "      <td>100</td>\n",
       "      <td>80</td>\n",
       "      <td>1</td>\n",
       "      <td>False</td>\n",
       "      <td>525</td>\n",
       "      <td>True</td>\n",
       "    </tr>\n",
       "    <tr>\n",
       "      <th>3</th>\n",
       "      <td>3</td>\n",
       "      <td>VenusaurMega Venusaur</td>\n",
       "      <td>Grass</td>\n",
       "      <td>Poison</td>\n",
       "      <td>80</td>\n",
       "      <td>100</td>\n",
       "      <td>123</td>\n",
       "      <td>122</td>\n",
       "      <td>120</td>\n",
       "      <td>80</td>\n",
       "      <td>1</td>\n",
       "      <td>False</td>\n",
       "      <td>625</td>\n",
       "      <td>True</td>\n",
       "    </tr>\n",
       "    <tr>\n",
       "      <th>4</th>\n",
       "      <td>4</td>\n",
       "      <td>Charmander</td>\n",
       "      <td>Fire</td>\n",
       "      <td>NaN</td>\n",
       "      <td>39</td>\n",
       "      <td>52</td>\n",
       "      <td>43</td>\n",
       "      <td>60</td>\n",
       "      <td>50</td>\n",
       "      <td>65</td>\n",
       "      <td>1</td>\n",
       "      <td>False</td>\n",
       "      <td>309</td>\n",
       "      <td>False</td>\n",
       "    </tr>\n",
       "  </tbody>\n",
       "</table>\n",
       "</div>"
      ],
      "text/plain": [
       "   #                   Name Type 1  Type 2  HP  Attack  Defense  Sp. Atk  \\\n",
       "0  1              Bulbasaur  Grass  Poison  45      49       49       65   \n",
       "1  2                Ivysaur  Grass  Poison  60      62       63       80   \n",
       "2  3               Venusaur  Grass  Poison  80      82       83      100   \n",
       "3  3  VenusaurMega Venusaur  Grass  Poison  80     100      123      122   \n",
       "4  4             Charmander   Fire     NaN  39      52       43       60   \n",
       "\n",
       "   Sp. Def  Speed  Generation  Legendary  Total  Dual Type  \n",
       "0       65     45           1      False    318       True  \n",
       "1       80     60           1      False    405       True  \n",
       "2      100     80           1      False    525       True  \n",
       "3      120     80           1      False    625       True  \n",
       "4       50     65           1      False    309      False  "
      ]
     },
     "metadata": {},
     "output_type": "display_data"
    }
   ],
   "source": [
    "# create coloumn if pokemon is dual type\n",
    "df['Dual Type'] = df['Type 2'].notnull()\n",
    "\n",
    "# print df head\n",
    "display(df.head())\n"
   ]
  },
  {
   "cell_type": "code",
   "execution_count": 8,
   "metadata": {},
   "outputs": [
    {
     "data": {
      "image/png": "[encoded data removed]",
      "text/plain": [
       "<Figure size 720x720 with 1 Axes>"
      ]
     },
     "metadata": {
      "needs_background": "light"
     },
     "output_type": "display_data"
    }
   ],
   "source": [
    "# create scatterplot attack vs defense, size = total stats, shape = dual type, color = type 1\n",
    "sns.scatterplot(x = 'Attack', y = 'Defense', size = 'Total', hue = 'Type 1', style = 'Dual Type', data = df)\n",
    "\n",
    "# adjust size of plot\n",
    "plt.gcf().set_size_inches(10, 10)\n",
    "\n",
    "# add labels\n",
    "plt.xlabel('Attack', fontsize = 15)\n",
    "plt.ylabel('Defense', fontsize = 15)\n",
    "plt.title('Attack vs Defense', fontsize = 20)\n",
    "\n",
    "# legend not on plot\n",
    "plt.legend(bbox_to_anchor=(1.05, 1), loc=2, borderaxespad=0.)\n",
    "\n",
    "# add mean attack and defense lines\n",
    "plt.axvline(df['Attack'].mean(), color = 'black')\n",
    "plt.axhline(df['Defense'].mean(), color = 'black')\n",
    "\n",
    "# show plot\n",
    "plt.show()\n"
   ]
  },
  {
   "cell_type": "code",
   "execution_count": 9,
   "metadata": {},
   "outputs": [
    {
     "name": "stderr",
     "output_type": "stream",
     "text": [
      "No artists with labels found to put in legend.  Note that artists whose label start with an underscore are ignored when legend() is called with no argument.\n",
      "No artists with labels found to put in legend.  Note that artists whose label start with an underscore are ignored when legend() is called with no argument.\n"
     ]
    },
    {
     "data": {
      "image/png": "[encoded data removed]",
      "text/plain": [
       "<Figure size 720x720 with 12 Axes>"
      ]
     },
     "metadata": {
      "needs_background": "light"
     },
     "output_type": "display_data"
    }
   ],
   "source": [
    "# create multiple scatterplots, split by legendary and generation\n",
    "sns.relplot(x = 'Attack', y = 'Defense', size = 'Total', hue = 'Type 1', style = 'Dual Type', col = 'Legendary', row = 'Generation', data = df)\n",
    "\n",
    "# adjust size of plot\n",
    "plt.gcf().set_size_inches(10, 10)\n",
    "\n",
    "\n",
    "# legend not on plot\n",
    "plt.legend(bbox_to_anchor=(1.05, 1), loc=2, borderaxespad=0.)\n",
    "\n",
    "# add mean attack and defense thin lines in every subplot\n",
    "for ax in plt.gcf().axes:\n",
    "    ax.axvline(df['Attack'].mean(), color = 'black', alpha = 0.5)\n",
    "    ax.axhline(df['Defense'].mean(), color = 'black', alpha = 0.5)\n",
    "\n",
    "# label generation and legendary show once\n",
    "plt.legend(bbox_to_anchor=(1.05, 1), loc=2, borderaxespad=0.)\n",
    "\n",
    "# show plot\n",
    "plt.show()\n"
   ]
  },
  {
   "cell_type": "code",
   "execution_count": 10,
   "metadata": {},
   "outputs": [
    {
     "data": {
      "text/html": [
       "<div>\n",
       "<style scoped>\n",
       "    .dataframe tbody tr th:only-of-type {\n",
       "        vertical-align: middle;\n",
       "    }\n",
       "\n",
       "    .dataframe tbody tr th {\n",
       "        vertical-align: top;\n",
       "    }\n",
       "\n",
       "    .dataframe thead th {\n",
       "        text-align: right;\n",
       "    }\n",
       "</style>\n",
       "<table border=\"1\" class=\"dataframe\">\n",
       "  <thead>\n",
       "    <tr style=\"text-align: right;\">\n",
       "      <th></th>\n",
       "      <th>#</th>\n",
       "      <th>Name</th>\n",
       "      <th>Primary Type</th>\n",
       "      <th>Type 2</th>\n",
       "      <th>HP</th>\n",
       "      <th>Attack</th>\n",
       "      <th>Defense</th>\n",
       "      <th>Sp. Atk</th>\n",
       "      <th>Sp. Def</th>\n",
       "      <th>Speed</th>\n",
       "      <th>Generation</th>\n",
       "      <th>Legendary</th>\n",
       "      <th>Total</th>\n",
       "      <th>Dual Type</th>\n",
       "    </tr>\n",
       "  </thead>\n",
       "  <tbody>\n",
       "    <tr>\n",
       "      <th>0</th>\n",
       "      <td>1</td>\n",
       "      <td>Bulbasaur</td>\n",
       "      <td>Grass</td>\n",
       "      <td>Poison</td>\n",
       "      <td>45</td>\n",
       "      <td>49</td>\n",
       "      <td>49</td>\n",
       "      <td>65</td>\n",
       "      <td>65</td>\n",
       "      <td>45</td>\n",
       "      <td>1</td>\n",
       "      <td>False</td>\n",
       "      <td>318</td>\n",
       "      <td>True</td>\n",
       "    </tr>\n",
       "    <tr>\n",
       "      <th>1</th>\n",
       "      <td>2</td>\n",
       "      <td>Ivysaur</td>\n",
       "      <td>Grass</td>\n",
       "      <td>Poison</td>\n",
       "      <td>60</td>\n",
       "      <td>62</td>\n",
       "      <td>63</td>\n",
       "      <td>80</td>\n",
       "      <td>80</td>\n",
       "      <td>60</td>\n",
       "      <td>1</td>\n",
       "      <td>False</td>\n",
       "      <td>405</td>\n",
       "      <td>True</td>\n",
       "    </tr>\n",
       "    <tr>\n",
       "      <th>2</th>\n",
       "      <td>3</td>\n",
       "      <td>Venusaur</td>\n",
       "      <td>Grass</td>\n",
       "      <td>Poison</td>\n",
       "      <td>80</td>\n",
       "      <td>82</td>\n",
       "      <td>83</td>\n",
       "      <td>100</td>\n",
       "      <td>100</td>\n",
       "      <td>80</td>\n",
       "      <td>1</td>\n",
       "      <td>False</td>\n",
       "      <td>525</td>\n",
       "      <td>True</td>\n",
       "    </tr>\n",
       "    <tr>\n",
       "      <th>3</th>\n",
       "      <td>3</td>\n",
       "      <td>VenusaurMega Venusaur</td>\n",
       "      <td>Grass</td>\n",
       "      <td>Poison</td>\n",
       "      <td>80</td>\n",
       "      <td>100</td>\n",
       "      <td>123</td>\n",
       "      <td>122</td>\n",
       "      <td>120</td>\n",
       "      <td>80</td>\n",
       "      <td>1</td>\n",
       "      <td>False</td>\n",
       "      <td>625</td>\n",
       "      <td>True</td>\n",
       "    </tr>\n",
       "    <tr>\n",
       "      <th>4</th>\n",
       "      <td>4</td>\n",
       "      <td>Charmander</td>\n",
       "      <td>Fire</td>\n",
       "      <td>NaN</td>\n",
       "      <td>39</td>\n",
       "      <td>52</td>\n",
       "      <td>43</td>\n",
       "      <td>60</td>\n",
       "      <td>50</td>\n",
       "      <td>65</td>\n",
       "      <td>1</td>\n",
       "      <td>False</td>\n",
       "      <td>309</td>\n",
       "      <td>False</td>\n",
       "    </tr>\n",
       "  </tbody>\n",
       "</table>\n",
       "</div>"
      ],
      "text/plain": [
       "   #                   Name Primary Type  Type 2  HP  Attack  Defense  \\\n",
       "0  1              Bulbasaur        Grass  Poison  45      49       49   \n",
       "1  2                Ivysaur        Grass  Poison  60      62       63   \n",
       "2  3               Venusaur        Grass  Poison  80      82       83   \n",
       "3  3  VenusaurMega Venusaur        Grass  Poison  80     100      123   \n",
       "4  4             Charmander         Fire     NaN  39      52       43   \n",
       "\n",
       "   Sp. Atk  Sp. Def  Speed  Generation  Legendary  Total  Dual Type  \n",
       "0       65       65     45           1      False    318       True  \n",
       "1       80       80     60           1      False    405       True  \n",
       "2      100      100     80           1      False    525       True  \n",
       "3      122      120     80           1      False    625       True  \n",
       "4       60       50     65           1      False    309      False  "
      ]
     },
     "metadata": {},
     "output_type": "display_data"
    }
   ],
   "source": [
    "# rename coloumn name type 1 to primary type\n",
    "df.rename(columns = {'Type 1': 'Primary Type'}, inplace = True)\n",
    "\n",
    "# print df head\n",
    "display(df.head())\n"
   ]
  },
  {
   "cell_type": "code",
   "execution_count": 11,
   "metadata": {},
   "outputs": [
    {
     "data": {
      "application/vnd.plotly.v1+json": {
       "config": {
        "plotlyServerURL": "https://plot.ly"
       },
       "data": [
        {
         "hovertemplate": "<b>%{hovertext}</b><br><br>Primary Type=Grass<br>Legendary=False<br>Generation=1<br>Attack=%{x}<br>Defense=%{y}<br>Total=%{marker.size}<extra></extra>",
         "hovertext": [
          "Bulbasaur",
          "Ivysaur",
          "Venusaur",
          "VenusaurMega Venusaur",
          "Oddish",
          "Gloom",
          "Vileplume",
          "Bellsprout",
          "Weepinbell",
          "Victreebel",
          "Exeggcute",
          "Exeggutor",
          "Tangela"
         ],
         "legendgroup": "Grass",
         "marker": {
          "color": "#636efa",
          "size": [
           318,
           405,
           525,
           625,
           320,
           395,
           490,
           300,
           390,
           490,
           325,
           520,
           435
          ],
          "sizemode": "area",
          "sizeref": 1.95,
          "symbol": "circle"
         },
         "mode": "markers",
         "name": "Grass",
         "orientation": "v",
         "showlegend": true,
         "type": "scatter",
         "x": [
          49,
          62,
          82,
          100,
          50,
          65,
          80,
          75,
          90,
          105,
          40,
          95,
          55
         ],
         "xaxis": "x7",
         "y": [
          49,
          63,
          83,
          123,
          55,
          70,
          85,
          35,
          50,
          65,
          80,
          85,
          115
         ],
         "yaxis": "y7"
        },
        {
         "hovertemplate": "<b>%{hovertext}</b><br><br>Primary Type=Grass<br>Legendary=False<br>Generation=2<br>Attack=%{x}<br>Defense=%{y}<br>Total=%{marker.size}<extra></extra>",
         "hovertext": [
          "Chikorita",
          "Bayleef",
          "Meganium",
          "Bellossom",
          "Hoppip",
          "Skiploom",
          "Jumpluff",
          "Sunkern",
          "Sunflora"
         ],
         "legendgroup": "Grass",
         "marker": {
          "color": "#636efa",
          "size": [
           318,
           405,
           525,
           490,
           250,
           340,
           460,
           180,
           425
          ],
          "sizemode": "area",
          "sizeref": 1.95,
          "symbol": "circle"
         },
         "mode": "markers",
         "name": "Grass",
         "orientation": "v",
         "showlegend": false,
         "type": "scatter",
         "x": [
          49,
          62,
          82,
          80,
          35,
          45,
          55,
          30,
          75
         ],
         "xaxis": "x8",
         "y": [
          65,
          80,
          100,
          95,
          40,
          50,
          70,
          30,
          55
         ],
         "yaxis": "y8"
        },
        {
         "hovertemplate": "<b>%{hovertext}</b><br><br>Primary Type=Grass<br>Legendary=False<br>Generation=3<br>Attack=%{x}<br>Defense=%{y}<br>Total=%{marker.size}<extra></extra>",
         "hovertext": [
          "Treecko",
          "Grovyle",
          "Sceptile",
          "SceptileMega Sceptile",
          "Seedot",
          "Nuzleaf",
          "Shiftry",
          "Shroomish",
          "Breloom",
          "Roselia",
          "Cacnea",
          "Cacturne",
          "Tropius"
         ],
         "legendgroup": "Grass",
         "marker": {
          "color": "#636efa",
          "size": [
           310,
           405,
           530,
           630,
           220,
           340,
           480,
           295,
           460,
           400,
           335,
           475,
           460
          ],
          "sizemode": "area",
          "sizeref": 1.95,
          "symbol": "circle"
         },
         "mode": "markers",
         "name": "Grass",
         "orientation": "v",
         "showlegend": false,
         "type": "scatter",
         "x": [
          45,
          65,
          85,
          110,
          40,
          70,
          100,
          40,
          130,
          60,
          85,
          115,
          68
         ],
         "xaxis": "x9",
         "y": [
          35,
          45,
          65,
          75,
          50,
          40,
          60,
          60,
          80,
          45,
          40,
          60,
          83
         ],
         "yaxis": "y9"
        },
        {
         "hovertemplate": "<b>%{hovertext}</b><br><br>Primary Type=Grass<br>Legendary=False<br>Generation=4<br>Attack=%{x}<br>Defense=%{y}<br>Total=%{marker.size}<extra></extra>",
         "hovertext": [
          "Turtwig",
          "Grotle",
          "Torterra",
          "Budew",
          "Roserade",
          "Cherubi",
          "Cherrim",
          "Carnivine",
          "Snover",
          "Abomasnow",
          "AbomasnowMega Abomasnow",
          "Tangrowth",
          "Leafeon"
         ],
         "legendgroup": "Grass",
         "marker": {
          "color": "#636efa",
          "size": [
           318,
           405,
           525,
           280,
           515,
           275,
           450,
           454,
           334,
           494,
           594,
           535,
           525
          ],
          "sizemode": "area",
          "sizeref": 1.95,
          "symbol": "circle"
         },
         "mode": "markers",
         "name": "Grass",
         "orientation": "v",
         "showlegend": false,
         "type": "scatter",
         "x": [
          68,
          89,
          109,
          30,
          70,
          35,
          60,
          100,
          62,
          92,
          132,
          100,
          110
         ],
         "xaxis": "x10",
         "y": [
          64,
          85,
          105,
          35,
          65,
          45,
          70,
          72,
          50,
          75,
          105,
          125,
          130
         ],
         "yaxis": "y10"
        },
        {
         "hovertemplate": "<b>%{hovertext}</b><br><br>Primary Type=Grass<br>Legendary=False<br>Generation=5<br>Attack=%{x}<br>Defense=%{y}<br>Total=%{marker.size}<extra></extra>",
         "hovertext": [
          "Snivy",
          "Servine",
          "Serperior",
          "Pansage",
          "Simisage",
          "Cottonee",
          "Whimsicott",
          "Petilil",
          "Lilligant",
          "Maractus",
          "Foongus",
          "Amoonguss",
          "Ferroseed",
          "Ferrothorn"
         ],
         "legendgroup": "Grass",
         "marker": {
          "color": "#636efa",
          "size": [
           308,
           413,
           528,
           316,
           498,
           280,
           480,
           280,
           480,
           461,
           294,
           464,
           305,
           489
          ],
          "sizemode": "area",
          "sizeref": 1.95,
          "symbol": "circle"
         },
         "mode": "markers",
         "name": "Grass",
         "orientation": "v",
         "showlegend": false,
         "type": "scatter",
         "x": [
          45,
          60,
          75,
          53,
          98,
          27,
          67,
          35,
          60,
          86,
          55,
          85,
          50,
          94
         ],
         "xaxis": "x11",
         "y": [
          55,
          75,
          95,
          48,
          63,
          60,
          85,
          50,
          75,
          67,
          45,
          70,
          91,
          131
         ],
         "yaxis": "y11"
        },
        {
         "hovertemplate": "<b>%{hovertext}</b><br><br>Primary Type=Grass<br>Legendary=False<br>Generation=6<br>Attack=%{x}<br>Defense=%{y}<br>Total=%{marker.size}<extra></extra>",
         "hovertext": [
          "Chespin",
          "Quilladin",
          "Chesnaught",
          "Skiddo",
          "Gogoat"
         ],
         "legendgroup": "Grass",
         "marker": {
          "color": "#636efa",
          "size": [
           313,
           405,
           530,
           350,
           531
          ],
          "sizemode": "area",
          "sizeref": 1.95,
          "symbol": "circle"
         },
         "mode": "markers",
         "name": "Grass",
         "orientation": "v",
         "showlegend": false,
         "type": "scatter",
         "x": [
          61,
          78,
          107,
          65,
          100
         ],
         "xaxis": "x12",
         "y": [
          65,
          95,
          122,
          48,
          62
         ],
         "yaxis": "y12"
        },
        {
         "hovertemplate": "<b>%{hovertext}</b><br><br>Primary Type=Grass<br>Legendary=True<br>Generation=4<br>Attack=%{x}<br>Defense=%{y}<br>Total=%{marker.size}<extra></extra>",
         "hovertext": [
          "ShayminLand Forme",
          "ShayminSky Forme"
         ],
         "legendgroup": "Grass",
         "marker": {
          "color": "#636efa",
          "size": [
           600,
           600
          ],
          "sizemode": "area",
          "sizeref": 1.95,
          "symbol": "circle"
         },
         "mode": "markers",
         "name": "Grass",
         "orientation": "v",
         "showlegend": false,
         "type": "scatter",
         "x": [
          100,
          103
         ],
         "xaxis": "x4",
         "y": [
          100,
          75
         ],
         "yaxis": "y4"
        },
        {
         "hovertemplate": "<b>%{hovertext}</b><br><br>Primary Type=Grass<br>Legendary=True<br>Generation=5<br>Attack=%{x}<br>Defense=%{y}<br>Total=%{marker.size}<extra></extra>",
         "hovertext": [
          "Virizion"
         ],
         "legendgroup": "Grass",
         "marker": {
          "color": "#636efa",
          "size": [
           580
          ],
          "sizemode": "area",
          "sizeref": 1.95,
          "symbol": "circle"
         },
         "mode": "markers",
         "name": "Grass",
         "orientation": "v",
         "showlegend": false,
         "type": "scatter",
         "x": [
          90
         ],
         "xaxis": "x5",
         "y": [
          72
         ],
         "yaxis": "y5"
        },
        {
         "hovertemplate": "<b>%{hovertext}</b><br><br>Primary Type=Fire<br>Legendary=False<br>Generation=1<br>Attack=%{x}<br>Defense=%{y}<br>Total=%{marker.size}<extra></extra>",
         "hovertext": [
          "Charmander",
          "Charmeleon",
          "Charizard",
          "CharizardMega Charizard X",
          "CharizardMega Charizard Y",
          "Vulpix",
          "Ninetales",
          "Growlithe",
          "Arcanine",
          "Ponyta",
          "Rapidash",
          "Magmar",
          "Flareon"
         ],
         "legendgroup": "Fire",
         "marker": {
          "color": "#EF553B",
          "size": [
           309,
           405,
           534,
           634,
           634,
           299,
           505,
           350,
           555,
           410,
           500,
           495,
           525
          ],
          "sizemode": "area",
          "sizeref": 1.95,
          "symbol": "circle"
         },
         "mode": "markers",
         "name": "Fire",
         "orientation": "v",
         "showlegend": true,
         "type": "scatter",
         "x": [
          52,
          64,
          84,
          130,
          104,
          41,
          76,
          70,
          110,
          85,
          100,
          95,
          130
         ],
         "xaxis": "x7",
         "y": [
          43,
          58,
          78,
          111,
          78,
          40,
          75,
          45,
          80,
          55,
          70,
          57,
          60
         ],
         "yaxis": "y7"
        },
        {
         "hovertemplate": "<b>%{hovertext}</b><br><br>Primary Type=Fire<br>Legendary=False<br>Generation=2<br>Attack=%{x}<br>Defense=%{y}<br>Total=%{marker.size}<extra></extra>",
         "hovertext": [
          "Cyndaquil",
          "Quilava",
          "Typhlosion",
          "Slugma",
          "Magcargo",
          "Magby"
         ],
         "legendgroup": "Fire",
         "marker": {
          "color": "#EF553B",
          "size": [
           309,
           405,
           534,
           250,
           410,
           365
          ],
          "sizemode": "area",
          "sizeref": 1.95,
          "symbol": "circle"
         },
         "mode": "markers",
         "name": "Fire",
         "orientation": "v",
         "showlegend": false,
         "type": "scatter",
         "x": [
          52,
          64,
          84,
          40,
          50,
          75
         ],
         "xaxis": "x8",
         "y": [
          43,
          58,
          78,
          40,
          120,
          37
         ],
         "yaxis": "y8"
        },
        {
         "hovertemplate": "<b>%{hovertext}</b><br><br>Primary Type=Fire<br>Legendary=False<br>Generation=3<br>Attack=%{x}<br>Defense=%{y}<br>Total=%{marker.size}<extra></extra>",
         "hovertext": [
          "Torchic",
          "Combusken",
          "Blaziken",
          "BlazikenMega Blaziken",
          "Numel",
          "Camerupt",
          "CameruptMega Camerupt",
          "Torkoal"
         ],
         "legendgroup": "Fire",
         "marker": {
          "color": "#EF553B",
          "size": [
           310,
           405,
           530,
           630,
           305,
           460,
           560,
           470
          ],
          "sizemode": "area",
          "sizeref": 1.95,
          "symbol": "circle"
         },
         "mode": "markers",
         "name": "Fire",
         "orientation": "v",
         "showlegend": false,
         "type": "scatter",
         "x": [
          60,
          85,
          120,
          160,
          60,
          100,
          120,
          85
         ],
         "xaxis": "x9",
         "y": [
          40,
          60,
          70,
          80,
          40,
          70,
          100,
          140
         ],
         "yaxis": "y9"
        },
        {
         "hovertemplate": "<b>%{hovertext}</b><br><br>Primary Type=Fire<br>Legendary=False<br>Generation=4<br>Attack=%{x}<br>Defense=%{y}<br>Total=%{marker.size}<extra></extra>",
         "hovertext": [
          "Chimchar",
          "Monferno",
          "Infernape",
          "Magmortar"
         ],
         "legendgroup": "Fire",
         "marker": {
          "color": "#EF553B",
          "size": [
           309,
           405,
           534,
           540
          ],
          "sizemode": "area",
          "sizeref": 1.95,
          "symbol": "circle"
         },
         "mode": "markers",
         "name": "Fire",
         "orientation": "v",
         "showlegend": false,
         "type": "scatter",
         "x": [
          58,
          78,
          104,
          95
         ],
         "xaxis": "x10",
         "y": [
          44,
          52,
          71,
          67
         ],
         "yaxis": "y10"
        },
        {
         "hovertemplate": "<b>%{hovertext}</b><br><br>Primary Type=Fire<br>Legendary=False<br>Generation=5<br>Attack=%{x}<br>Defense=%{y}<br>Total=%{marker.size}<extra></extra>",
         "hovertext": [
          "Tepig",
          "Pignite",
          "Emboar",
          "Pansear",
          "Simisear",
          "Darumaka",
          "DarmanitanStandard Mode",
          "DarmanitanZen Mode",
          "Heatmor"
         ],
         "legendgroup": "Fire",
         "marker": {
          "color": "#EF553B",
          "size": [
           308,
           418,
           528,
           316,
           498,
           315,
           480,
           540,
           484
          ],
          "sizemode": "area",
          "sizeref": 1.95,
          "symbol": "circle"
         },
         "mode": "markers",
         "name": "Fire",
         "orientation": "v",
         "showlegend": false,
         "type": "scatter",
         "x": [
          63,
          93,
          123,
          53,
          98,
          90,
          140,
          30,
          97
         ],
         "xaxis": "x11",
         "y": [
          45,
          55,
          65,
          48,
          63,
          45,
          55,
          105,
          66
         ],
         "yaxis": "y11"
        },
        {
         "hovertemplate": "<b>%{hovertext}</b><br><br>Primary Type=Fire<br>Legendary=False<br>Generation=6<br>Attack=%{x}<br>Defense=%{y}<br>Total=%{marker.size}<extra></extra>",
         "hovertext": [
          "Fennekin",
          "Braixen",
          "Delphox",
          "Fletchinder",
          "Talonflame",
          "Litleo",
          "Pyroar"
         ],
         "legendgroup": "Fire",
         "marker": {
          "color": "#EF553B",
          "size": [
           307,
           409,
           534,
           382,
           499,
           369,
           507
          ],
          "sizemode": "area",
          "sizeref": 1.95,
          "symbol": "circle"
         },
         "mode": "markers",
         "name": "Fire",
         "orientation": "v",
         "showlegend": false,
         "type": "scatter",
         "x": [
          45,
          59,
          69,
          73,
          81,
          50,
          68
         ],
         "xaxis": "x12",
         "y": [
          40,
          58,
          72,
          55,
          71,
          58,
          72
         ],
         "yaxis": "y12"
        },
        {
         "hovertemplate": "<b>%{hovertext}</b><br><br>Primary Type=Fire<br>Legendary=True<br>Generation=1<br>Attack=%{x}<br>Defense=%{y}<br>Total=%{marker.size}<extra></extra>",
         "hovertext": [
          "Moltres"
         ],
         "legendgroup": "Fire",
         "marker": {
          "color": "#EF553B",
          "size": [
           580
          ],
          "sizemode": "area",
          "sizeref": 1.95,
          "symbol": "circle"
         },
         "mode": "markers",
         "name": "Fire",
         "orientation": "v",
         "showlegend": false,
         "type": "scatter",
         "x": [
          100
         ],
         "xaxis": "x",
         "y": [
          90
         ],
         "yaxis": "y"
        },
        {
         "hovertemplate": "<b>%{hovertext}</b><br><br>Primary Type=Fire<br>Legendary=True<br>Generation=2<br>Attack=%{x}<br>Defense=%{y}<br>Total=%{marker.size}<extra></extra>",
         "hovertext": [
          "Entei",
          "Ho-oh"
         ],
         "legendgroup": "Fire",
         "marker": {
          "color": "#EF553B",
          "size": [
           580,
           680
          ],
          "sizemode": "area",
          "sizeref": 1.95,
          "symbol": "circle"
         },
         "mode": "markers",
         "name": "Fire",
         "orientation": "v",
         "showlegend": false,
         "type": "scatter",
         "x": [
          115,
          130
         ],
         "xaxis": "x2",
         "y": [
          85,
          90
         ],
         "yaxis": "y2"
        },
        {
         "hovertemplate": "<b>%{hovertext}</b><br><br>Primary Type=Fire<br>Legendary=True<br>Generation=4<br>Attack=%{x}<br>Defense=%{y}<br>Total=%{marker.size}<extra></extra>",
         "hovertext": [
          "Heatran"
         ],
         "legendgroup": "Fire",
         "marker": {
          "color": "#EF553B",
          "size": [
           600
          ],
          "sizemode": "area",
          "sizeref": 1.95,
          "symbol": "circle"
         },
         "mode": "markers",
         "name": "Fire",
         "orientation": "v",
         "showlegend": false,
         "type": "scatter",
         "x": [
          90
         ],
         "xaxis": "x4",
         "y": [
          106
         ],
         "yaxis": "y4"
        },
        {
         "hovertemplate": "<b>%{hovertext}</b><br><br>Primary Type=Fire<br>Legendary=True<br>Generation=6<br>Attack=%{x}<br>Defense=%{y}<br>Total=%{marker.size}<extra></extra>",
         "hovertext": [
          "Volcanion"
         ],
         "legendgroup": "Fire",
         "marker": {
          "color": "#EF553B",
          "size": [
           600
          ],
          "sizemode": "area",
          "sizeref": 1.95,
          "symbol": "circle"
         },
         "mode": "markers",
         "name": "Fire",
         "orientation": "v",
         "showlegend": false,
         "type": "scatter",
         "x": [
          110
         ],
         "xaxis": "x6",
         "y": [
          120
         ],
         "yaxis": "y6"
        },
        {
         "hovertemplate": "<b>%{hovertext}</b><br><br>Primary Type=Water<br>Legendary=False<br>Generation=1<br>Attack=%{x}<br>Defense=%{y}<br>Total=%{marker.size}<extra></extra>",
         "hovertext": [
          "Squirtle",
          "Wartortle",
          "Blastoise",
          "BlastoiseMega Blastoise",
          "Psyduck",
          "Golduck",
          "Poliwag",
          "Poliwhirl",
          "Poliwrath",
          "Tentacool",
          "Tentacruel",
          "Slowpoke",
          "Slowbro",
          "SlowbroMega Slowbro",
          "Seel",
          "Dewgong",
          "Shellder",
          "Cloyster",
          "Krabby",
          "Kingler",
          "Horsea",
          "Seadra",
          "Goldeen",
          "Seaking",
          "Staryu",
          "Starmie",
          "Magikarp",
          "Gyarados",
          "GyaradosMega Gyarados",
          "Lapras",
          "Vaporeon"
         ],
         "legendgroup": "Water",
         "marker": {
          "color": "#00cc96",
          "size": [
           314,
           405,
           530,
           630,
           320,
           500,
           300,
           385,
           510,
           335,
           515,
           315,
           490,
           590,
           325,
           475,
           305,
           525,
           325,
           475,
           295,
           440,
           320,
           450,
           340,
           520,
           200,
           540,
           640,
           535,
           525
          ],
          "sizemode": "area",
          "sizeref": 1.95,
          "symbol": "circle"
         },
         "mode": "markers",
         "name": "Water",
         "orientation": "v",
         "showlegend": true,
         "type": "scatter",
         "x": [
          48,
          63,
          83,
          103,
          52,
          82,
          50,
          65,
          95,
          40,
          70,
          65,
          75,
          75,
          45,
          70,
          65,
          95,
          105,
          130,
          40,
          65,
          67,
          92,
          45,
          75,
          10,
          125,
          155,
          85,
          65
         ],
         "xaxis": "x7",
         "y": [
          65,
          80,
          100,
          120,
          48,
          78,
          40,
          65,
          95,
          35,
          65,
          65,
          110,
          180,
          55,
          80,
          100,
          180,
          90,
          115,
          70,
          95,
          60,
          65,
          55,
          85,
          55,
          79,
          109,
          80,
          60
         ],
         "yaxis": "y7"
        },
        {
         "hovertemplate": "<b>%{hovertext}</b><br><br>Primary Type=Water<br>Legendary=False<br>Generation=2<br>Attack=%{x}<br>Defense=%{y}<br>Total=%{marker.size}<extra></extra>",
         "hovertext": [
          "Totodile",
          "Croconaw",
          "Feraligatr",
          "Chinchou",
          "Lanturn",
          "Marill",
          "Azumarill",
          "Politoed",
          "Wooper",
          "Quagsire",
          "Slowking",
          "Qwilfish",
          "Corsola",
          "Remoraid",
          "Octillery",
          "Mantine",
          "Kingdra"
         ],
         "legendgroup": "Water",
         "marker": {
          "color": "#00cc96",
          "size": [
           314,
           405,
           530,
           330,
           460,
           250,
           420,
           500,
           210,
           430,
           490,
           430,
           380,
           300,
           480,
           465,
           540
          ],
          "sizemode": "area",
          "sizeref": 1.95,
          "symbol": "circle"
         },
         "mode": "markers",
         "name": "Water",
         "orientation": "v",
         "showlegend": false,
         "type": "scatter",
         "x": [
          65,
          80,
          105,
          38,
          58,
          20,
          50,
          75,
          45,
          85,
          75,
          95,
          55,
          65,
          105,
          40,
          95
         ],
         "xaxis": "x8",
         "y": [
          64,
          80,
          100,
          38,
          58,
          50,
          80,
          75,
          45,
          85,
          80,
          75,
          85,
          35,
          75,
          70,
          95
         ],
         "yaxis": "y8"
        },
        {
         "hovertemplate": "<b>%{hovertext}</b><br><br>Primary Type=Water<br>Legendary=False<br>Generation=3<br>Attack=%{x}<br>Defense=%{y}<br>Total=%{marker.size}<extra></extra>",
         "hovertext": [
          "Mudkip",
          "Marshtomp",
          "Swampert",
          "SwampertMega Swampert",
          "Lotad",
          "Lombre",
          "Ludicolo",
          "Wingull",
          "Pelipper",
          "Carvanha",
          "Sharpedo",
          "SharpedoMega Sharpedo",
          "Wailmer",
          "Wailord",
          "Barboach",
          "Whiscash",
          "Corphish",
          "Crawdaunt",
          "Feebas",
          "Milotic",
          "Clamperl",
          "Huntail",
          "Gorebyss",
          "Relicanth",
          "Luvdisc"
         ],
         "legendgroup": "Water",
         "marker": {
          "color": "#00cc96",
          "size": [
           310,
           405,
           535,
           635,
           220,
           340,
           480,
           270,
           430,
           305,
           460,
           560,
           400,
           500,
           288,
           468,
           308,
           468,
           200,
           540,
           345,
           485,
           485,
           485,
           330
          ],
          "sizemode": "area",
          "sizeref": 1.95,
          "symbol": "circle"
         },
         "mode": "markers",
         "name": "Water",
         "orientation": "v",
         "showlegend": false,
         "type": "scatter",
         "x": [
          70,
          85,
          110,
          150,
          30,
          50,
          70,
          30,
          50,
          90,
          120,
          140,
          70,
          90,
          48,
          78,
          80,
          120,
          15,
          60,
          64,
          104,
          84,
          90,
          30
         ],
         "xaxis": "x9",
         "y": [
          50,
          70,
          90,
          110,
          30,
          50,
          70,
          30,
          100,
          20,
          40,
          70,
          35,
          45,
          43,
          73,
          65,
          85,
          20,
          79,
          85,
          105,
          105,
          130,
          55
         ],
         "yaxis": "y9"
        },
        {
         "hovertemplate": "<b>%{hovertext}</b><br><br>Primary Type=Water<br>Legendary=False<br>Generation=4<br>Attack=%{x}<br>Defense=%{y}<br>Total=%{marker.size}<extra></extra>",
         "hovertext": [
          "Piplup",
          "Prinplup",
          "Empoleon",
          "Buizel",
          "Floatzel",
          "Shellos",
          "Gastrodon",
          "Finneon",
          "Lumineon",
          "Mantyke",
          "Phione",
          "Manaphy"
         ],
         "legendgroup": "Water",
         "marker": {
          "color": "#00cc96",
          "size": [
           314,
           405,
           530,
           330,
           495,
           325,
           475,
           330,
           460,
           345,
           480,
           600
          ],
          "sizemode": "area",
          "sizeref": 1.95,
          "symbol": "circle"
         },
         "mode": "markers",
         "name": "Water",
         "orientation": "v",
         "showlegend": false,
         "type": "scatter",
         "x": [
          51,
          66,
          86,
          65,
          105,
          48,
          83,
          49,
          69,
          20,
          80,
          100
         ],
         "xaxis": "x10",
         "y": [
          53,
          68,
          88,
          35,
          55,
          48,
          68,
          56,
          76,
          50,
          80,
          100
         ],
         "yaxis": "y10"
        },
        {
         "hovertemplate": "<b>%{hovertext}</b><br><br>Primary Type=Water<br>Legendary=False<br>Generation=5<br>Attack=%{x}<br>Defense=%{y}<br>Total=%{marker.size}<extra></extra>",
         "hovertext": [
          "Oshawott",
          "Dewott",
          "Samurott",
          "Panpour",
          "Simipour",
          "Tympole",
          "Palpitoad",
          "Seismitoad",
          "Basculin",
          "Tirtouga",
          "Carracosta",
          "Ducklett",
          "Swanna",
          "Frillish",
          "Jellicent",
          "Alomomola",
          "KeldeoOrdinary Forme",
          "KeldeoResolute Forme"
         ],
         "legendgroup": "Water",
         "marker": {
          "color": "#00cc96",
          "size": [
           308,
           413,
           528,
           316,
           498,
           294,
           384,
           509,
           460,
           355,
           495,
           305,
           473,
           335,
           480,
           470,
           580,
           580
          ],
          "sizemode": "area",
          "sizeref": 1.95,
          "symbol": "circle"
         },
         "mode": "markers",
         "name": "Water",
         "orientation": "v",
         "showlegend": false,
         "type": "scatter",
         "x": [
          55,
          75,
          100,
          53,
          98,
          50,
          65,
          95,
          92,
          78,
          108,
          44,
          87,
          40,
          60,
          75,
          72,
          72
         ],
         "xaxis": "x11",
         "y": [
          45,
          60,
          85,
          48,
          63,
          40,
          55,
          75,
          65,
          103,
          133,
          50,
          63,
          50,
          70,
          80,
          90,
          90
         ],
         "yaxis": "y11"
        },
        {
         "hovertemplate": "<b>%{hovertext}</b><br><br>Primary Type=Water<br>Legendary=False<br>Generation=6<br>Attack=%{x}<br>Defense=%{y}<br>Total=%{marker.size}<extra></extra>",
         "hovertext": [
          "Froakie",
          "Frogadier",
          "Greninja",
          "Clauncher",
          "Clawitzer"
         ],
         "legendgroup": "Water",
         "marker": {
          "color": "#00cc96",
          "size": [
           314,
           405,
           530,
           330,
           500
          ],
          "sizemode": "area",
          "sizeref": 1.95,
          "symbol": "circle"
         },
         "mode": "markers",
         "name": "Water",
         "orientation": "v",
         "showlegend": false,
         "type": "scatter",
         "x": [
          56,
          63,
          95,
          53,
          73
         ],
         "xaxis": "x12",
         "y": [
          40,
          52,
          67,
          62,
          88
         ],
         "yaxis": "y12"
        },
        {
         "hovertemplate": "<b>%{hovertext}</b><br><br>Primary Type=Water<br>Legendary=True<br>Generation=2<br>Attack=%{x}<br>Defense=%{y}<br>Total=%{marker.size}<extra></extra>",
         "hovertext": [
          "Suicune"
         ],
         "legendgroup": "Water",
         "marker": {
          "color": "#00cc96",
          "size": [
           580
          ],
          "sizemode": "area",
          "sizeref": 1.95,
          "symbol": "circle"
         },
         "mode": "markers",
         "name": "Water",
         "orientation": "v",
         "showlegend": false,
         "type": "scatter",
         "x": [
          75
         ],
         "xaxis": "x2",
         "y": [
          115
         ],
         "yaxis": "y2"
        },
        {
         "hovertemplate": "<b>%{hovertext}</b><br><br>Primary Type=Water<br>Legendary=True<br>Generation=3<br>Attack=%{x}<br>Defense=%{y}<br>Total=%{marker.size}<extra></extra>",
         "hovertext": [
          "Kyogre",
          "KyogrePrimal Kyogre"
         ],
         "legendgroup": "Water",
         "marker": {
          "color": "#00cc96",
          "size": [
           670,
           770
          ],
          "sizemode": "area",
          "sizeref": 1.95,
          "symbol": "circle"
         },
         "mode": "markers",
         "name": "Water",
         "orientation": "v",
         "showlegend": false,
         "type": "scatter",
         "x": [
          100,
          150
         ],
         "xaxis": "x3",
         "y": [
          90,
          90
         ],
         "yaxis": "y3"
        },
        {
         "hovertemplate": "<b>%{hovertext}</b><br><br>Primary Type=Water<br>Legendary=True<br>Generation=4<br>Attack=%{x}<br>Defense=%{y}<br>Total=%{marker.size}<extra></extra>",
         "hovertext": [
          "Palkia"
         ],
         "legendgroup": "Water",
         "marker": {
          "color": "#00cc96",
          "size": [
           680
          ],
          "sizemode": "area",
          "sizeref": 1.95,
          "symbol": "circle"
         },
         "mode": "markers",
         "name": "Water",
         "orientation": "v",
         "showlegend": false,
         "type": "scatter",
         "x": [
          120
         ],
         "xaxis": "x4",
         "y": [
          100
         ],
         "yaxis": "y4"
        },
        {
         "hovertemplate": "<b>%{hovertext}</b><br><br>Primary Type=Bug<br>Legendary=False<br>Generation=1<br>Attack=%{x}<br>Defense=%{y}<br>Total=%{marker.size}<extra></extra>",
         "hovertext": [
          "Caterpie",
          "Metapod",
          "Butterfree",
          "Weedle",
          "Kakuna",
          "Beedrill",
          "BeedrillMega Beedrill",
          "Paras",
          "Parasect",
          "Venonat",
          "Venomoth",
          "Scyther",
          "Pinsir",
          "PinsirMega Pinsir"
         ],
         "legendgroup": "Bug",
         "marker": {
          "color": "#ab63fa",
          "size": [
           195,
           205,
           395,
           195,
           205,
           395,
           495,
           285,
           405,
           305,
           450,
           500,
           500,
           600
          ],
          "sizemode": "area",
          "sizeref": 1.95,
          "symbol": "circle"
         },
         "mode": "markers",
         "name": "Bug",
         "orientation": "v",
         "showlegend": true,
         "type": "scatter",
         "x": [
          30,
          20,
          45,
          35,
          25,
          90,
          150,
          70,
          95,
          55,
          65,
          110,
          125,
          155
         ],
         "xaxis": "x7",
         "y": [
          35,
          55,
          50,
          30,
          50,
          40,
          40,
          55,
          80,
          50,
          60,
          80,
          100,
          120
         ],
         "yaxis": "y7"
        },
        {
         "hovertemplate": "<b>%{hovertext}</b><br><br>Primary Type=Bug<br>Legendary=False<br>Generation=2<br>Attack=%{x}<br>Defense=%{y}<br>Total=%{marker.size}<extra></extra>",
         "hovertext": [
          "Ledyba",
          "Ledian",
          "Spinarak",
          "Ariados",
          "Yanma",
          "Pineco",
          "Forretress",
          "Scizor",
          "ScizorMega Scizor",
          "Shuckle",
          "Heracross",
          "HeracrossMega Heracross"
         ],
         "legendgroup": "Bug",
         "marker": {
          "color": "#ab63fa",
          "size": [
           265,
           390,
           250,
           390,
           390,
           290,
           465,
           500,
           600,
           505,
           500,
           600
          ],
          "sizemode": "area",
          "sizeref": 1.95,
          "symbol": "circle"
         },
         "mode": "markers",
         "name": "Bug",
         "orientation": "v",
         "showlegend": false,
         "type": "scatter",
         "x": [
          20,
          35,
          60,
          90,
          65,
          65,
          90,
          130,
          150,
          10,
          125,
          185
         ],
         "xaxis": "x8",
         "y": [
          30,
          50,
          40,
          70,
          45,
          90,
          140,
          100,
          140,
          230,
          75,
          115
         ],
         "yaxis": "y8"
        },
        {
         "hovertemplate": "<b>%{hovertext}</b><br><br>Primary Type=Bug<br>Legendary=False<br>Generation=3<br>Attack=%{x}<br>Defense=%{y}<br>Total=%{marker.size}<extra></extra>",
         "hovertext": [
          "Wurmple",
          "Silcoon",
          "Beautifly",
          "Cascoon",
          "Dustox",
          "Surskit",
          "Masquerain",
          "Nincada",
          "Ninjask",
          "Shedinja",
          "Volbeat",
          "Illumise"
         ],
         "legendgroup": "Bug",
         "marker": {
          "color": "#ab63fa",
          "size": [
           195,
           205,
           395,
           205,
           385,
           269,
           414,
           266,
           456,
           236,
           400,
           400
          ],
          "sizemode": "area",
          "sizeref": 1.95,
          "symbol": "circle"
         },
         "mode": "markers",
         "name": "Bug",
         "orientation": "v",
         "showlegend": false,
         "type": "scatter",
         "x": [
          45,
          35,
          70,
          35,
          50,
          30,
          60,
          45,
          90,
          90,
          73,
          47
         ],
         "xaxis": "x9",
         "y": [
          35,
          55,
          50,
          55,
          70,
          32,
          62,
          90,
          45,
          45,
          55,
          55
         ],
         "yaxis": "y9"
        },
        {
         "hovertemplate": "<b>%{hovertext}</b><br><br>Primary Type=Bug<br>Legendary=False<br>Generation=4<br>Attack=%{x}<br>Defense=%{y}<br>Total=%{marker.size}<extra></extra>",
         "hovertext": [
          "Kricketot",
          "Kricketune",
          "Burmy",
          "WormadamPlant Cloak",
          "WormadamSandy Cloak",
          "WormadamTrash Cloak",
          "Mothim",
          "Combee",
          "Vespiquen",
          "Yanmega"
         ],
         "legendgroup": "Bug",
         "marker": {
          "color": "#ab63fa",
          "size": [
           194,
           384,
           224,
           424,
           424,
           424,
           424,
           244,
           474,
           515
          ],
          "sizemode": "area",
          "sizeref": 1.95,
          "symbol": "circle"
         },
         "mode": "markers",
         "name": "Bug",
         "orientation": "v",
         "showlegend": false,
         "type": "scatter",
         "x": [
          25,
          85,
          29,
          59,
          79,
          69,
          94,
          30,
          80,
          76
         ],
         "xaxis": "x10",
         "y": [
          41,
          51,
          45,
          85,
          105,
          95,
          50,
          42,
          102,
          86
         ],
         "yaxis": "y10"
        },
        {
         "hovertemplate": "<b>%{hovertext}</b><br><br>Primary Type=Bug<br>Legendary=False<br>Generation=5<br>Attack=%{x}<br>Defense=%{y}<br>Total=%{marker.size}<extra></extra>",
         "hovertext": [
          "Sewaddle",
          "Swadloon",
          "Leavanny",
          "Venipede",
          "Whirlipede",
          "Scolipede",
          "Dwebble",
          "Crustle",
          "Karrablast",
          "Escavalier",
          "Joltik",
          "Galvantula",
          "Shelmet",
          "Accelgor",
          "Durant",
          "Larvesta",
          "Volcarona",
          "Genesect"
         ],
         "legendgroup": "Bug",
         "marker": {
          "color": "#ab63fa",
          "size": [
           310,
           380,
           500,
           260,
           360,
           485,
           325,
           475,
           315,
           495,
           319,
           472,
           305,
           495,
           484,
           360,
           550,
           600
          ],
          "sizemode": "area",
          "sizeref": 1.95,
          "symbol": "circle"
         },
         "mode": "markers",
         "name": "Bug",
         "orientation": "v",
         "showlegend": false,
         "type": "scatter",
         "x": [
          53,
          63,
          103,
          45,
          55,
          100,
          65,
          95,
          75,
          135,
          47,
          77,
          40,
          70,
          109,
          85,
          60,
          120
         ],
         "xaxis": "x11",
         "y": [
          70,
          90,
          80,
          59,
          99,
          89,
          85,
          125,
          45,
          105,
          50,
          60,
          85,
          40,
          112,
          55,
          65,
          95
         ],
         "yaxis": "y11"
        },
        {
         "hovertemplate": "<b>%{hovertext}</b><br><br>Primary Type=Bug<br>Legendary=False<br>Generation=6<br>Attack=%{x}<br>Defense=%{y}<br>Total=%{marker.size}<extra></extra>",
         "hovertext": [
          "Scatterbug",
          "Spewpa",
          "Vivillon"
         ],
         "legendgroup": "Bug",
         "marker": {
          "color": "#ab63fa",
          "size": [
           200,
           213,
           411
          ],
          "sizemode": "area",
          "sizeref": 1.95,
          "symbol": "circle"
         },
         "mode": "markers",
         "name": "Bug",
         "orientation": "v",
         "showlegend": false,
         "type": "scatter",
         "x": [
          35,
          22,
          52
         ],
         "xaxis": "x12",
         "y": [
          40,
          60,
          50
         ],
         "yaxis": "y12"
        },
        {
         "hovertemplate": "<b>%{hovertext}</b><br><br>Primary Type=Normal<br>Legendary=False<br>Generation=1<br>Attack=%{x}<br>Defense=%{y}<br>Total=%{marker.size}<extra></extra>",
         "hovertext": [
          "Pidgey",
          "Pidgeotto",
          "Pidgeot",
          "PidgeotMega Pidgeot",
          "Rattata",
          "Raticate",
          "Spearow",
          "Fearow",
          "Jigglypuff",
          "Wigglytuff",
          "Meowth",
          "Persian",
          "Farfetch'd",
          "Doduo",
          "Dodrio",
          "Lickitung",
          "Chansey",
          "Kangaskhan",
          "KangaskhanMega Kangaskhan",
          "Tauros",
          "Ditto",
          "Eevee",
          "Porygon",
          "Snorlax"
         ],
         "legendgroup": "Normal",
         "marker": {
          "color": "#FFA15A",
          "size": [
           251,
           349,
           479,
           579,
           253,
           413,
           262,
           442,
           270,
           435,
           290,
           440,
           352,
           310,
           460,
           385,
           450,
           490,
           590,
           490,
           288,
           325,
           395,
           540
          ],
          "sizemode": "area",
          "sizeref": 1.95,
          "symbol": "circle"
         },
         "mode": "markers",
         "name": "Normal",
         "orientation": "v",
         "showlegend": true,
         "type": "scatter",
         "x": [
          45,
          60,
          80,
          80,
          56,
          81,
          60,
          90,
          45,
          70,
          45,
          70,
          65,
          85,
          110,
          55,
          5,
          95,
          125,
          100,
          48,
          55,
          60,
          110
         ],
         "xaxis": "x7",
         "y": [
          40,
          55,
          75,
          80,
          35,
          60,
          30,
          65,
          20,
          45,
          35,
          60,
          55,
          45,
          70,
          75,
          5,
          80,
          100,
          95,
          48,
          50,
          70,
          65
         ],
         "yaxis": "y7"
        },
        {
         "hovertemplate": "<b>%{hovertext}</b><br><br>Primary Type=Normal<br>Legendary=False<br>Generation=2<br>Attack=%{x}<br>Defense=%{y}<br>Total=%{marker.size}<extra></extra>",
         "hovertext": [
          "Sentret",
          "Furret",
          "Hoothoot",
          "Noctowl",
          "Igglybuff",
          "Aipom",
          "Girafarig",
          "Dunsparce",
          "Teddiursa",
          "Ursaring",
          "Porygon2",
          "Stantler",
          "Smeargle",
          "Miltank",
          "Blissey"
         ],
         "legendgroup": "Normal",
         "marker": {
          "color": "#FFA15A",
          "size": [
           215,
           415,
           262,
           442,
           210,
           360,
           455,
           415,
           330,
           500,
           515,
           465,
           250,
           490,
           540
          ],
          "sizemode": "area",
          "sizeref": 1.95,
          "symbol": "circle"
         },
         "mode": "markers",
         "name": "Normal",
         "orientation": "v",
         "showlegend": false,
         "type": "scatter",
         "x": [
          46,
          76,
          30,
          50,
          30,
          70,
          80,
          70,
          80,
          130,
          80,
          95,
          20,
          80,
          10
         ],
         "xaxis": "x8",
         "y": [
          34,
          64,
          30,
          50,
          15,
          55,
          65,
          70,
          50,
          75,
          90,
          62,
          35,
          105,
          10
         ],
         "yaxis": "y8"
        },
        {
         "hovertemplate": "<b>%{hovertext}</b><br><br>Primary Type=Normal<br>Legendary=False<br>Generation=3<br>Attack=%{x}<br>Defense=%{y}<br>Total=%{marker.size}<extra></extra>",
         "hovertext": [
          "Zigzagoon",
          "Linoone",
          "Taillow",
          "Swellow",
          "Slakoth",
          "Vigoroth",
          "Slaking",
          "Whismur",
          "Loudred",
          "Exploud",
          "Azurill",
          "Skitty",
          "Delcatty",
          "Spinda",
          "Swablu",
          "Zangoose",
          "Castform",
          "Kecleon"
         ],
         "legendgroup": "Normal",
         "marker": {
          "color": "#FFA15A",
          "size": [
           240,
           420,
           270,
           430,
           280,
           440,
           670,
           240,
           360,
           490,
           190,
           260,
           380,
           360,
           310,
           458,
           420,
           440
          ],
          "sizemode": "area",
          "sizeref": 1.95,
          "symbol": "circle"
         },
         "mode": "markers",
         "name": "Normal",
         "orientation": "v",
         "showlegend": false,
         "type": "scatter",
         "x": [
          30,
          70,
          55,
          85,
          60,
          80,
          160,
          51,
          71,
          91,
          20,
          45,
          65,
          60,
          40,
          115,
          70,
          90
         ],
         "xaxis": "x9",
         "y": [
          41,
          61,
          30,
          60,
          60,
          80,
          100,
          23,
          43,
          63,
          40,
          45,
          65,
          60,
          60,
          60,
          70,
          70
         ],
         "yaxis": "y9"
        },
        {
         "hovertemplate": "<b>%{hovertext}</b><br><br>Primary Type=Normal<br>Legendary=False<br>Generation=4<br>Attack=%{x}<br>Defense=%{y}<br>Total=%{marker.size}<extra></extra>",
         "hovertext": [
          "Starly",
          "Staravia",
          "Staraptor",
          "Bidoof",
          "Bibarel",
          "Ambipom",
          "Buneary",
          "Lopunny",
          "LopunnyMega Lopunny",
          "Glameow",
          "Purugly",
          "Happiny",
          "Chatot",
          "Munchlax",
          "Lickilicky",
          "Porygon-Z"
         ],
         "legendgroup": "Normal",
         "marker": {
          "color": "#FFA15A",
          "size": [
           245,
           340,
           485,
           250,
           410,
           482,
           350,
           480,
           580,
           310,
           452,
           220,
           411,
           390,
           515,
           535
          ],
          "sizemode": "area",
          "sizeref": 1.95,
          "symbol": "circle"
         },
         "mode": "markers",
         "name": "Normal",
         "orientation": "v",
         "showlegend": false,
         "type": "scatter",
         "x": [
          55,
          75,
          120,
          45,
          85,
          100,
          66,
          76,
          136,
          55,
          82,
          5,
          65,
          85,
          85,
          80
         ],
         "xaxis": "x10",
         "y": [
          30,
          50,
          70,
          40,
          60,
          66,
          44,
          84,
          94,
          42,
          64,
          5,
          45,
          40,
          95,
          70
         ],
         "yaxis": "y10"
        },
        {
         "hovertemplate": "<b>%{hovertext}</b><br><br>Primary Type=Normal<br>Legendary=False<br>Generation=5<br>Attack=%{x}<br>Defense=%{y}<br>Total=%{marker.size}<extra></extra>",
         "hovertext": [
          "Patrat",
          "Watchog",
          "Lillipup",
          "Herdier",
          "Stoutland",
          "Pidove",
          "Tranquill",
          "Unfezant",
          "Audino",
          "AudinoMega Audino",
          "Minccino",
          "Cinccino",
          "Deerling",
          "Sawsbuck",
          "Bouffalant",
          "Rufflet",
          "Braviary",
          "MeloettaAria Forme",
          "MeloettaPirouette Forme"
         ],
         "legendgroup": "Normal",
         "marker": {
          "color": "#FFA15A",
          "size": [
           255,
           420,
           275,
           370,
           500,
           264,
           358,
           488,
           445,
           545,
           300,
           470,
           335,
           475,
           490,
           350,
           510,
           600,
           600
          ],
          "sizemode": "area",
          "sizeref": 1.95,
          "symbol": "circle"
         },
         "mode": "markers",
         "name": "Normal",
         "orientation": "v",
         "showlegend": false,
         "type": "scatter",
         "x": [
          55,
          85,
          60,
          80,
          110,
          55,
          77,
          115,
          60,
          60,
          50,
          95,
          60,
          100,
          110,
          83,
          123,
          77,
          128
         ],
         "xaxis": "x11",
         "y": [
          39,
          69,
          45,
          65,
          90,
          50,
          62,
          80,
          86,
          126,
          40,
          60,
          50,
          70,
          95,
          50,
          75,
          77,
          90
         ],
         "yaxis": "y11"
        },
        {
         "hovertemplate": "<b>%{hovertext}</b><br><br>Primary Type=Normal<br>Legendary=False<br>Generation=6<br>Attack=%{x}<br>Defense=%{y}<br>Total=%{marker.size}<extra></extra>",
         "hovertext": [
          "Bunnelby",
          "Diggersby",
          "Fletchling",
          "Furfrou"
         ],
         "legendgroup": "Normal",
         "marker": {
          "color": "#FFA15A",
          "size": [
           237,
           423,
           278,
           472
          ],
          "sizemode": "area",
          "sizeref": 1.95,
          "symbol": "circle"
         },
         "mode": "markers",
         "name": "Normal",
         "orientation": "v",
         "showlegend": false,
         "type": "scatter",
         "x": [
          36,
          56,
          50,
          80
         ],
         "xaxis": "x12",
         "y": [
          38,
          77,
          43,
          60
         ],
         "yaxis": "y12"
        },
        {
         "hovertemplate": "<b>%{hovertext}</b><br><br>Primary Type=Normal<br>Legendary=True<br>Generation=4<br>Attack=%{x}<br>Defense=%{y}<br>Total=%{marker.size}<extra></extra>",
         "hovertext": [
          "Regigigas",
          "Arceus"
         ],
         "legendgroup": "Normal",
         "marker": {
          "color": "#FFA15A",
          "size": [
           670,
           720
          ],
          "sizemode": "area",
          "sizeref": 1.95,
          "symbol": "circle"
         },
         "mode": "markers",
         "name": "Normal",
         "orientation": "v",
         "showlegend": false,
         "type": "scatter",
         "x": [
          160,
          120
         ],
         "xaxis": "x4",
         "y": [
          110,
          120
         ],
         "yaxis": "y4"
        },
        {
         "hovertemplate": "<b>%{hovertext}</b><br><br>Primary Type=Poison<br>Legendary=False<br>Generation=1<br>Attack=%{x}<br>Defense=%{y}<br>Total=%{marker.size}<extra></extra>",
         "hovertext": [
          "Ekans",
          "Arbok",
          "Nidoran (Female)",
          "Nidorina",
          "Nidoqueen",
          "Nidoran (Male)",
          "Nidorino",
          "Nidoking",
          "Zubat",
          "Golbat",
          "Grimer",
          "Muk",
          "Koffing",
          "Weezing"
         ],
         "legendgroup": "Poison",
         "marker": {
          "color": "#19d3f3",
          "size": [
           288,
           438,
           275,
           365,
           505,
           273,
           365,
           505,
           245,
           455,
           325,
           500,
           340,
           490
          ],
          "sizemode": "area",
          "sizeref": 1.95,
          "symbol": "circle"
         },
         "mode": "markers",
         "name": "Poison",
         "orientation": "v",
         "showlegend": true,
         "type": "scatter",
         "x": [
          60,
          85,
          47,
          62,
          92,
          57,
          72,
          102,
          45,
          80,
          80,
          105,
          65,
          90
         ],
         "xaxis": "x7",
         "y": [
          44,
          69,
          52,
          67,
          87,
          40,
          57,
          77,
          35,
          70,
          50,
          75,
          95,
          120
         ],
         "yaxis": "y7"
        },
        {
         "hovertemplate": "<b>%{hovertext}</b><br><br>Primary Type=Poison<br>Legendary=False<br>Generation=2<br>Attack=%{x}<br>Defense=%{y}<br>Total=%{marker.size}<extra></extra>",
         "hovertext": [
          "Crobat"
         ],
         "legendgroup": "Poison",
         "marker": {
          "color": "#19d3f3",
          "size": [
           535
          ],
          "sizemode": "area",
          "sizeref": 1.95,
          "symbol": "circle"
         },
         "mode": "markers",
         "name": "Poison",
         "orientation": "v",
         "showlegend": false,
         "type": "scatter",
         "x": [
          90
         ],
         "xaxis": "x8",
         "y": [
          80
         ],
         "yaxis": "y8"
        },
        {
         "hovertemplate": "<b>%{hovertext}</b><br><br>Primary Type=Poison<br>Legendary=False<br>Generation=3<br>Attack=%{x}<br>Defense=%{y}<br>Total=%{marker.size}<extra></extra>",
         "hovertext": [
          "Gulpin",
          "Swalot",
          "Seviper"
         ],
         "legendgroup": "Poison",
         "marker": {
          "color": "#19d3f3",
          "size": [
           302,
           467,
           458
          ],
          "sizemode": "area",
          "sizeref": 1.95,
          "symbol": "circle"
         },
         "mode": "markers",
         "name": "Poison",
         "orientation": "v",
         "showlegend": false,
         "type": "scatter",
         "x": [
          43,
          73,
          100
         ],
         "xaxis": "x9",
         "y": [
          53,
          83,
          60
         ],
         "yaxis": "y9"
        },
        {
         "hovertemplate": "<b>%{hovertext}</b><br><br>Primary Type=Poison<br>Legendary=False<br>Generation=4<br>Attack=%{x}<br>Defense=%{y}<br>Total=%{marker.size}<extra></extra>",
         "hovertext": [
          "Stunky",
          "Skuntank",
          "Skorupi",
          "Drapion",
          "Croagunk",
          "Toxicroak"
         ],
         "legendgroup": "Poison",
         "marker": {
          "color": "#19d3f3",
          "size": [
           329,
           479,
           330,
           500,
           300,
           490
          ],
          "sizemode": "area",
          "sizeref": 1.95,
          "symbol": "circle"
         },
         "mode": "markers",
         "name": "Poison",
         "orientation": "v",
         "showlegend": false,
         "type": "scatter",
         "x": [
          63,
          93,
          50,
          90,
          61,
          106
         ],
         "xaxis": "x10",
         "y": [
          47,
          67,
          90,
          110,
          40,
          65
         ],
         "yaxis": "y10"
        },
        {
         "hovertemplate": "<b>%{hovertext}</b><br><br>Primary Type=Poison<br>Legendary=False<br>Generation=5<br>Attack=%{x}<br>Defense=%{y}<br>Total=%{marker.size}<extra></extra>",
         "hovertext": [
          "Trubbish",
          "Garbodor"
         ],
         "legendgroup": "Poison",
         "marker": {
          "color": "#19d3f3",
          "size": [
           329,
           474
          ],
          "sizemode": "area",
          "sizeref": 1.95,
          "symbol": "circle"
         },
         "mode": "markers",
         "name": "Poison",
         "orientation": "v",
         "showlegend": false,
         "type": "scatter",
         "x": [
          50,
          95
         ],
         "xaxis": "x11",
         "y": [
          62,
          82
         ],
         "yaxis": "y11"
        },
        {
         "hovertemplate": "<b>%{hovertext}</b><br><br>Primary Type=Poison<br>Legendary=False<br>Generation=6<br>Attack=%{x}<br>Defense=%{y}<br>Total=%{marker.size}<extra></extra>",
         "hovertext": [
          "Skrelp",
          "Dragalge"
         ],
         "legendgroup": "Poison",
         "marker": {
          "color": "#19d3f3",
          "size": [
           320,
           494
          ],
          "sizemode": "area",
          "sizeref": 1.95,
          "symbol": "circle"
         },
         "mode": "markers",
         "name": "Poison",
         "orientation": "v",
         "showlegend": false,
         "type": "scatter",
         "x": [
          60,
          75
         ],
         "xaxis": "x12",
         "y": [
          60,
          90
         ],
         "yaxis": "y12"
        },
        {
         "hovertemplate": "<b>%{hovertext}</b><br><br>Primary Type=Electric<br>Legendary=False<br>Generation=1<br>Attack=%{x}<br>Defense=%{y}<br>Total=%{marker.size}<extra></extra>",
         "hovertext": [
          "Pikachu",
          "Raichu",
          "Magnemite",
          "Magneton",
          "Voltorb",
          "Electrode",
          "Electabuzz",
          "Jolteon"
         ],
         "legendgroup": "Electric",
         "marker": {
          "color": "#FF6692",
          "size": [
           320,
           485,
           325,
           465,
           330,
           480,
           490,
           525
          ],
          "sizemode": "area",
          "sizeref": 1.95,
          "symbol": "circle"
         },
         "mode": "markers",
         "name": "Electric",
         "orientation": "v",
         "showlegend": true,
         "type": "scatter",
         "x": [
          55,
          90,
          35,
          60,
          30,
          50,
          83,
          65
         ],
         "xaxis": "x7",
         "y": [
          40,
          55,
          70,
          95,
          50,
          70,
          57,
          60
         ],
         "yaxis": "y7"
        },
        {
         "hovertemplate": "<b>%{hovertext}</b><br><br>Primary Type=Electric<br>Legendary=False<br>Generation=2<br>Attack=%{x}<br>Defense=%{y}<br>Total=%{marker.size}<extra></extra>",
         "hovertext": [
          "Pichu",
          "Mareep",
          "Flaaffy",
          "Ampharos",
          "AmpharosMega Ampharos",
          "Elekid"
         ],
         "legendgroup": "Electric",
         "marker": {
          "color": "#FF6692",
          "size": [
           205,
           280,
           365,
           510,
           610,
           360
          ],
          "sizemode": "area",
          "sizeref": 1.95,
          "symbol": "circle"
         },
         "mode": "markers",
         "name": "Electric",
         "orientation": "v",
         "showlegend": false,
         "type": "scatter",
         "x": [
          40,
          40,
          55,
          75,
          95,
          63
         ],
         "xaxis": "x8",
         "y": [
          15,
          40,
          55,
          85,
          105,
          37
         ],
         "yaxis": "y8"
        },
        {
         "hovertemplate": "<b>%{hovertext}</b><br><br>Primary Type=Electric<br>Legendary=False<br>Generation=3<br>Attack=%{x}<br>Defense=%{y}<br>Total=%{marker.size}<extra></extra>",
         "hovertext": [
          "Electrike",
          "Manectric",
          "ManectricMega Manectric",
          "Plusle",
          "Minun"
         ],
         "legendgroup": "Electric",
         "marker": {
          "color": "#FF6692",
          "size": [
           295,
           475,
           575,
           405,
           405
          ],
          "sizemode": "area",
          "sizeref": 1.95,
          "symbol": "circle"
         },
         "mode": "markers",
         "name": "Electric",
         "orientation": "v",
         "showlegend": false,
         "type": "scatter",
         "x": [
          45,
          75,
          75,
          50,
          40
         ],
         "xaxis": "x9",
         "y": [
          40,
          60,
          80,
          40,
          50
         ],
         "yaxis": "y9"
        },
        {
         "hovertemplate": "<b>%{hovertext}</b><br><br>Primary Type=Electric<br>Legendary=False<br>Generation=4<br>Attack=%{x}<br>Defense=%{y}<br>Total=%{marker.size}<extra></extra>",
         "hovertext": [
          "Shinx",
          "Luxio",
          "Luxray",
          "Pachirisu",
          "Magnezone",
          "Electivire",
          "Rotom",
          "RotomHeat Rotom",
          "RotomWash Rotom",
          "RotomFrost Rotom",
          "RotomFan Rotom",
          "RotomMow Rotom"
         ],
         "legendgroup": "Electric",
         "marker": {
          "color": "#FF6692",
          "size": [
           263,
           363,
           523,
           405,
           535,
           540,
           440,
           520,
           520,
           520,
           520,
           520
          ],
          "sizemode": "area",
          "sizeref": 1.95,
          "symbol": "circle"
         },
         "mode": "markers",
         "name": "Electric",
         "orientation": "v",
         "showlegend": false,
         "type": "scatter",
         "x": [
          65,
          85,
          120,
          45,
          70,
          123,
          50,
          65,
          65,
          65,
          65,
          65
         ],
         "xaxis": "x10",
         "y": [
          34,
          49,
          79,
          70,
          115,
          67,
          77,
          107,
          107,
          107,
          107,
          107
         ],
         "yaxis": "y10"
        },
        {
         "hovertemplate": "<b>%{hovertext}</b><br><br>Primary Type=Electric<br>Legendary=False<br>Generation=5<br>Attack=%{x}<br>Defense=%{y}<br>Total=%{marker.size}<extra></extra>",
         "hovertext": [
          "Blitzle",
          "Zebstrika",
          "Emolga",
          "Tynamo",
          "Eelektrik",
          "Eelektross"
         ],
         "legendgroup": "Electric",
         "marker": {
          "color": "#FF6692",
          "size": [
           295,
           497,
           428,
           275,
           405,
           515
          ],
          "sizemode": "area",
          "sizeref": 1.95,
          "symbol": "circle"
         },
         "mode": "markers",
         "name": "Electric",
         "orientation": "v",
         "showlegend": false,
         "type": "scatter",
         "x": [
          60,
          100,
          75,
          55,
          85,
          115
         ],
         "xaxis": "x11",
         "y": [
          32,
          63,
          60,
          40,
          70,
          80
         ],
         "yaxis": "y11"
        },
        {
         "hovertemplate": "<b>%{hovertext}</b><br><br>Primary Type=Electric<br>Legendary=False<br>Generation=6<br>Attack=%{x}<br>Defense=%{y}<br>Total=%{marker.size}<extra></extra>",
         "hovertext": [
          "Helioptile",
          "Heliolisk",
          "Dedenne"
         ],
         "legendgroup": "Electric",
         "marker": {
          "color": "#FF6692",
          "size": [
           289,
           481,
           431
          ],
          "sizemode": "area",
          "sizeref": 1.95,
          "symbol": "circle"
         },
         "mode": "markers",
         "name": "Electric",
         "orientation": "v",
         "showlegend": false,
         "type": "scatter",
         "x": [
          38,
          55,
          58
         ],
         "xaxis": "x12",
         "y": [
          33,
          52,
          57
         ],
         "yaxis": "y12"
        },
        {
         "hovertemplate": "<b>%{hovertext}</b><br><br>Primary Type=Electric<br>Legendary=True<br>Generation=1<br>Attack=%{x}<br>Defense=%{y}<br>Total=%{marker.size}<extra></extra>",
         "hovertext": [
          "Zapdos"
         ],
         "legendgroup": "Electric",
         "marker": {
          "color": "#FF6692",
          "size": [
           580
          ],
          "sizemode": "area",
          "sizeref": 1.95,
          "symbol": "circle"
         },
         "mode": "markers",
         "name": "Electric",
         "orientation": "v",
         "showlegend": false,
         "type": "scatter",
         "x": [
          90
         ],
         "xaxis": "x",
         "y": [
          85
         ],
         "yaxis": "y"
        },
        {
         "hovertemplate": "<b>%{hovertext}</b><br><br>Primary Type=Electric<br>Legendary=True<br>Generation=2<br>Attack=%{x}<br>Defense=%{y}<br>Total=%{marker.size}<extra></extra>",
         "hovertext": [
          "Raikou"
         ],
         "legendgroup": "Electric",
         "marker": {
          "color": "#FF6692",
          "size": [
           580
          ],
          "sizemode": "area",
          "sizeref": 1.95,
          "symbol": "circle"
         },
         "mode": "markers",
         "name": "Electric",
         "orientation": "v",
         "showlegend": false,
         "type": "scatter",
         "x": [
          85
         ],
         "xaxis": "x2",
         "y": [
          75
         ],
         "yaxis": "y2"
        },
        {
         "hovertemplate": "<b>%{hovertext}</b><br><br>Primary Type=Electric<br>Legendary=True<br>Generation=5<br>Attack=%{x}<br>Defense=%{y}<br>Total=%{marker.size}<extra></extra>",
         "hovertext": [
          "ThundurusIncarnate Forme",
          "ThundurusTherian Forme"
         ],
         "legendgroup": "Electric",
         "marker": {
          "color": "#FF6692",
          "size": [
           580,
           580
          ],
          "sizemode": "area",
          "sizeref": 1.95,
          "symbol": "circle"
         },
         "mode": "markers",
         "name": "Electric",
         "orientation": "v",
         "showlegend": false,
         "type": "scatter",
         "x": [
          115,
          105
         ],
         "xaxis": "x5",
         "y": [
          70,
          70
         ],
         "yaxis": "y5"
        },
        {
         "hovertemplate": "<b>%{hovertext}</b><br><br>Primary Type=Ground<br>Legendary=False<br>Generation=1<br>Attack=%{x}<br>Defense=%{y}<br>Total=%{marker.size}<extra></extra>",
         "hovertext": [
          "Sandshrew",
          "Sandslash",
          "Diglett",
          "Dugtrio",
          "Cubone",
          "Marowak",
          "Rhyhorn",
          "Rhydon"
         ],
         "legendgroup": "Ground",
         "marker": {
          "color": "#B6E880",
          "size": [
           300,
           450,
           265,
           405,
           320,
           425,
           345,
           485
          ],
          "sizemode": "area",
          "sizeref": 1.95,
          "symbol": "circle"
         },
         "mode": "markers",
         "name": "Ground",
         "orientation": "v",
         "showlegend": true,
         "type": "scatter",
         "x": [
          75,
          100,
          55,
          80,
          50,
          80,
          85,
          130
         ],
         "xaxis": "x7",
         "y": [
          85,
          110,
          25,
          50,
          95,
          110,
          95,
          120
         ],
         "yaxis": "y7"
        },
        {
         "hovertemplate": "<b>%{hovertext}</b><br><br>Primary Type=Ground<br>Legendary=False<br>Generation=2<br>Attack=%{x}<br>Defense=%{y}<br>Total=%{marker.size}<extra></extra>",
         "hovertext": [
          "Gligar",
          "Phanpy",
          "Donphan"
         ],
         "legendgroup": "Ground",
         "marker": {
          "color": "#B6E880",
          "size": [
           430,
           330,
           500
          ],
          "sizemode": "area",
          "sizeref": 1.95,
          "symbol": "circle"
         },
         "mode": "markers",
         "name": "Ground",
         "orientation": "v",
         "showlegend": false,
         "type": "scatter",
         "x": [
          75,
          60,
          120
         ],
         "xaxis": "x8",
         "y": [
          105,
          60,
          120
         ],
         "yaxis": "y8"
        },
        {
         "hovertemplate": "<b>%{hovertext}</b><br><br>Primary Type=Ground<br>Legendary=False<br>Generation=3<br>Attack=%{x}<br>Defense=%{y}<br>Total=%{marker.size}<extra></extra>",
         "hovertext": [
          "Trapinch",
          "Vibrava",
          "Flygon",
          "Baltoy",
          "Claydol"
         ],
         "legendgroup": "Ground",
         "marker": {
          "color": "#B6E880",
          "size": [
           290,
           340,
           520,
           300,
           500
          ],
          "sizemode": "area",
          "sizeref": 1.95,
          "symbol": "circle"
         },
         "mode": "markers",
         "name": "Ground",
         "orientation": "v",
         "showlegend": false,
         "type": "scatter",
         "x": [
          100,
          70,
          100,
          40,
          70
         ],
         "xaxis": "x9",
         "y": [
          45,
          50,
          80,
          55,
          105
         ],
         "yaxis": "y9"
        },
        {
         "hovertemplate": "<b>%{hovertext}</b><br><br>Primary Type=Ground<br>Legendary=False<br>Generation=4<br>Attack=%{x}<br>Defense=%{y}<br>Total=%{marker.size}<extra></extra>",
         "hovertext": [
          "Hippopotas",
          "Hippowdon",
          "Rhyperior",
          "Gliscor"
         ],
         "legendgroup": "Ground",
         "marker": {
          "color": "#B6E880",
          "size": [
           330,
           525,
           535,
           510
          ],
          "sizemode": "area",
          "sizeref": 1.95,
          "symbol": "circle"
         },
         "mode": "markers",
         "name": "Ground",
         "orientation": "v",
         "showlegend": false,
         "type": "scatter",
         "x": [
          72,
          112,
          140,
          95
         ],
         "xaxis": "x10",
         "y": [
          78,
          118,
          130,
          125
         ],
         "yaxis": "y10"
        },
        {
         "hovertemplate": "<b>%{hovertext}</b><br><br>Primary Type=Ground<br>Legendary=False<br>Generation=5<br>Attack=%{x}<br>Defense=%{y}<br>Total=%{marker.size}<extra></extra>",
         "hovertext": [
          "Drilbur",
          "Excadrill",
          "Sandile",
          "Krokorok",
          "Krookodile",
          "Stunfisk",
          "Golett",
          "Golurk"
         ],
         "legendgroup": "Ground",
         "marker": {
          "color": "#B6E880",
          "size": [
           328,
           508,
           292,
           351,
           519,
           471,
           303,
           483
          ],
          "sizemode": "area",
          "sizeref": 1.95,
          "symbol": "circle"
         },
         "mode": "markers",
         "name": "Ground",
         "orientation": "v",
         "showlegend": false,
         "type": "scatter",
         "x": [
          85,
          135,
          72,
          82,
          117,
          66,
          74,
          124
         ],
         "xaxis": "x11",
         "y": [
          40,
          60,
          35,
          45,
          80,
          84,
          50,
          80
         ],
         "yaxis": "y11"
        },
        {
         "hovertemplate": "<b>%{hovertext}</b><br><br>Primary Type=Ground<br>Legendary=True<br>Generation=3<br>Attack=%{x}<br>Defense=%{y}<br>Total=%{marker.size}<extra></extra>",
         "hovertext": [
          "Groudon",
          "GroudonPrimal Groudon"
         ],
         "legendgroup": "Ground",
         "marker": {
          "color": "#B6E880",
          "size": [
           670,
           770
          ],
          "sizemode": "area",
          "sizeref": 1.95,
          "symbol": "circle"
         },
         "mode": "markers",
         "name": "Ground",
         "orientation": "v",
         "showlegend": false,
         "type": "scatter",
         "x": [
          150,
          180
         ],
         "xaxis": "x3",
         "y": [
          140,
          160
         ],
         "yaxis": "y3"
        },
        {
         "hovertemplate": "<b>%{hovertext}</b><br><br>Primary Type=Ground<br>Legendary=True<br>Generation=5<br>Attack=%{x}<br>Defense=%{y}<br>Total=%{marker.size}<extra></extra>",
         "hovertext": [
          "LandorusIncarnate Forme",
          "LandorusTherian Forme"
         ],
         "legendgroup": "Ground",
         "marker": {
          "color": "#B6E880",
          "size": [
           600,
           600
          ],
          "sizemode": "area",
          "sizeref": 1.95,
          "symbol": "circle"
         },
         "mode": "markers",
         "name": "Ground",
         "orientation": "v",
         "showlegend": false,
         "type": "scatter",
         "x": [
          125,
          145
         ],
         "xaxis": "x5",
         "y": [
          90,
          90
         ],
         "yaxis": "y5"
        },
        {
         "hovertemplate": "<b>%{hovertext}</b><br><br>Primary Type=Fairy<br>Legendary=False<br>Generation=1<br>Attack=%{x}<br>Defense=%{y}<br>Total=%{marker.size}<extra></extra>",
         "hovertext": [
          "Clefairy",
          "Clefable"
         ],
         "legendgroup": "Fairy",
         "marker": {
          "color": "#FF97FF",
          "size": [
           323,
           483
          ],
          "sizemode": "area",
          "sizeref": 1.95,
          "symbol": "circle"
         },
         "mode": "markers",
         "name": "Fairy",
         "orientation": "v",
         "showlegend": true,
         "type": "scatter",
         "x": [
          45,
          70
         ],
         "xaxis": "x7",
         "y": [
          48,
          73
         ],
         "yaxis": "y7"
        },
        {
         "hovertemplate": "<b>%{hovertext}</b><br><br>Primary Type=Fairy<br>Legendary=False<br>Generation=2<br>Attack=%{x}<br>Defense=%{y}<br>Total=%{marker.size}<extra></extra>",
         "hovertext": [
          "Cleffa",
          "Togepi",
          "Togetic",
          "Snubbull",
          "Granbull"
         ],
         "legendgroup": "Fairy",
         "marker": {
          "color": "#FF97FF",
          "size": [
           218,
           245,
           405,
           300,
           450
          ],
          "sizemode": "area",
          "sizeref": 1.95,
          "symbol": "circle"
         },
         "mode": "markers",
         "name": "Fairy",
         "orientation": "v",
         "showlegend": false,
         "type": "scatter",
         "x": [
          25,
          20,
          40,
          80,
          120
         ],
         "xaxis": "x8",
         "y": [
          28,
          65,
          85,
          50,
          75
         ],
         "yaxis": "y8"
        },
        {
         "hovertemplate": "<b>%{hovertext}</b><br><br>Primary Type=Fairy<br>Legendary=False<br>Generation=4<br>Attack=%{x}<br>Defense=%{y}<br>Total=%{marker.size}<extra></extra>",
         "hovertext": [
          "Togekiss"
         ],
         "legendgroup": "Fairy",
         "marker": {
          "color": "#FF97FF",
          "size": [
           545
          ],
          "sizemode": "area",
          "sizeref": 1.95,
          "symbol": "circle"
         },
         "mode": "markers",
         "name": "Fairy",
         "orientation": "v",
         "showlegend": false,
         "type": "scatter",
         "x": [
          50
         ],
         "xaxis": "x10",
         "y": [
          95
         ],
         "yaxis": "y10"
        },
        {
         "hovertemplate": "<b>%{hovertext}</b><br><br>Primary Type=Fairy<br>Legendary=False<br>Generation=6<br>Attack=%{x}<br>Defense=%{y}<br>Total=%{marker.size}<extra></extra>",
         "hovertext": [
          "Flabébé",
          "Floette",
          "Florges",
          "Spritzee",
          "Aromatisse",
          "Swirlix",
          "Slurpuff",
          "Sylveon"
         ],
         "legendgroup": "Fairy",
         "marker": {
          "color": "#FF97FF",
          "size": [
           303,
           371,
           552,
           341,
           462,
           341,
           480,
           525
          ],
          "sizemode": "area",
          "sizeref": 1.95,
          "symbol": "circle"
         },
         "mode": "markers",
         "name": "Fairy",
         "orientation": "v",
         "showlegend": false,
         "type": "scatter",
         "x": [
          38,
          45,
          65,
          52,
          72,
          48,
          80,
          65
         ],
         "xaxis": "x12",
         "y": [
          39,
          47,
          68,
          60,
          72,
          66,
          86,
          65
         ],
         "yaxis": "y12"
        },
        {
         "hovertemplate": "<b>%{hovertext}</b><br><br>Primary Type=Fairy<br>Legendary=True<br>Generation=6<br>Attack=%{x}<br>Defense=%{y}<br>Total=%{marker.size}<extra></extra>",
         "hovertext": [
          "Xerneas"
         ],
         "legendgroup": "Fairy",
         "marker": {
          "color": "#FF97FF",
          "size": [
           680
          ],
          "sizemode": "area",
          "sizeref": 1.95,
          "symbol": "circle"
         },
         "mode": "markers",
         "name": "Fairy",
         "orientation": "v",
         "showlegend": false,
         "type": "scatter",
         "x": [
          131
         ],
         "xaxis": "x6",
         "y": [
          95
         ],
         "yaxis": "y6"
        },
        {
         "hovertemplate": "<b>%{hovertext}</b><br><br>Primary Type=Fighting<br>Legendary=False<br>Generation=1<br>Attack=%{x}<br>Defense=%{y}<br>Total=%{marker.size}<extra></extra>",
         "hovertext": [
          "Mankey",
          "Primeape",
          "Machop",
          "Machoke",
          "Machamp",
          "Hitmonlee",
          "Hitmonchan"
         ],
         "legendgroup": "Fighting",
         "marker": {
          "color": "#FECB52",
          "size": [
           305,
           455,
           305,
           405,
           505,
           455,
           455
          ],
          "sizemode": "area",
          "sizeref": 1.95,
          "symbol": "circle"
         },
         "mode": "markers",
         "name": "Fighting",
         "orientation": "v",
         "showlegend": true,
         "type": "scatter",
         "x": [
          80,
          105,
          80,
          100,
          130,
          120,
          105
         ],
         "xaxis": "x7",
         "y": [
          35,
          60,
          50,
          70,
          80,
          53,
          79
         ],
         "yaxis": "y7"
        },
        {
         "hovertemplate": "<b>%{hovertext}</b><br><br>Primary Type=Fighting<br>Legendary=False<br>Generation=2<br>Attack=%{x}<br>Defense=%{y}<br>Total=%{marker.size}<extra></extra>",
         "hovertext": [
          "Tyrogue",
          "Hitmontop"
         ],
         "legendgroup": "Fighting",
         "marker": {
          "color": "#FECB52",
          "size": [
           210,
           455
          ],
          "sizemode": "area",
          "sizeref": 1.95,
          "symbol": "circle"
         },
         "mode": "markers",
         "name": "Fighting",
         "orientation": "v",
         "showlegend": false,
         "type": "scatter",
         "x": [
          35,
          95
         ],
         "xaxis": "x8",
         "y": [
          35,
          95
         ],
         "yaxis": "y8"
        },
        {
         "hovertemplate": "<b>%{hovertext}</b><br><br>Primary Type=Fighting<br>Legendary=False<br>Generation=3<br>Attack=%{x}<br>Defense=%{y}<br>Total=%{marker.size}<extra></extra>",
         "hovertext": [
          "Makuhita",
          "Hariyama",
          "Meditite",
          "Medicham",
          "MedichamMega Medicham"
         ],
         "legendgroup": "Fighting",
         "marker": {
          "color": "#FECB52",
          "size": [
           237,
           474,
           280,
           410,
           510
          ],
          "sizemode": "area",
          "sizeref": 1.95,
          "symbol": "circle"
         },
         "mode": "markers",
         "name": "Fighting",
         "orientation": "v",
         "showlegend": false,
         "type": "scatter",
         "x": [
          60,
          120,
          40,
          60,
          100
         ],
         "xaxis": "x9",
         "y": [
          30,
          60,
          55,
          75,
          85
         ],
         "yaxis": "y9"
        },
        {
         "hovertemplate": "<b>%{hovertext}</b><br><br>Primary Type=Fighting<br>Legendary=False<br>Generation=4<br>Attack=%{x}<br>Defense=%{y}<br>Total=%{marker.size}<extra></extra>",
         "hovertext": [
          "Riolu",
          "Lucario",
          "LucarioMega Lucario"
         ],
         "legendgroup": "Fighting",
         "marker": {
          "color": "#FECB52",
          "size": [
           285,
           525,
           625
          ],
          "sizemode": "area",
          "sizeref": 1.95,
          "symbol": "circle"
         },
         "mode": "markers",
         "name": "Fighting",
         "orientation": "v",
         "showlegend": false,
         "type": "scatter",
         "x": [
          70,
          110,
          145
         ],
         "xaxis": "x10",
         "y": [
          40,
          70,
          88
         ],
         "yaxis": "y10"
        },
        {
         "hovertemplate": "<b>%{hovertext}</b><br><br>Primary Type=Fighting<br>Legendary=False<br>Generation=5<br>Attack=%{x}<br>Defense=%{y}<br>Total=%{marker.size}<extra></extra>",
         "hovertext": [
          "Timburr",
          "Gurdurr",
          "Conkeldurr",
          "Throh",
          "Sawk",
          "Mienfoo",
          "Mienshao"
         ],
         "legendgroup": "Fighting",
         "marker": {
          "color": "#FECB52",
          "size": [
           305,
           405,
           505,
           465,
           465,
           350,
           510
          ],
          "sizemode": "area",
          "sizeref": 1.95,
          "symbol": "circle"
         },
         "mode": "markers",
         "name": "Fighting",
         "orientation": "v",
         "showlegend": false,
         "type": "scatter",
         "x": [
          80,
          105,
          140,
          100,
          125,
          85,
          125
         ],
         "xaxis": "x11",
         "y": [
          55,
          85,
          95,
          85,
          75,
          50,
          60
         ],
         "yaxis": "y11"
        },
        {
         "hovertemplate": "<b>%{hovertext}</b><br><br>Primary Type=Fighting<br>Legendary=False<br>Generation=6<br>Attack=%{x}<br>Defense=%{y}<br>Total=%{marker.size}<extra></extra>",
         "hovertext": [
          "Pancham",
          "Pangoro",
          "Hawlucha"
         ],
         "legendgroup": "Fighting",
         "marker": {
          "color": "#FECB52",
          "size": [
           348,
           495,
           500
          ],
          "sizemode": "area",
          "sizeref": 1.95,
          "symbol": "circle"
         },
         "mode": "markers",
         "name": "Fighting",
         "orientation": "v",
         "showlegend": false,
         "type": "scatter",
         "x": [
          82,
          124,
          92
         ],
         "xaxis": "x12",
         "y": [
          62,
          78,
          75
         ],
         "yaxis": "y12"
        },
        {
         "hovertemplate": "<b>%{hovertext}</b><br><br>Primary Type=Psychic<br>Legendary=False<br>Generation=1<br>Attack=%{x}<br>Defense=%{y}<br>Total=%{marker.size}<extra></extra>",
         "hovertext": [
          "Abra",
          "Kadabra",
          "Alakazam",
          "AlakazamMega Alakazam",
          "Drowzee",
          "Hypno",
          "Mr. Mime",
          "Mew"
         ],
         "legendgroup": "Psychic",
         "marker": {
          "color": "#636efa",
          "size": [
           310,
           400,
           500,
           590,
           328,
           483,
           460,
           600
          ],
          "sizemode": "area",
          "sizeref": 1.95,
          "symbol": "circle"
         },
         "mode": "markers",
         "name": "Psychic",
         "orientation": "v",
         "showlegend": true,
         "type": "scatter",
         "x": [
          20,
          35,
          50,
          50,
          48,
          73,
          45,
          100
         ],
         "xaxis": "x7",
         "y": [
          15,
          30,
          45,
          65,
          45,
          70,
          65,
          100
         ],
         "yaxis": "y7"
        },
        {
         "hovertemplate": "<b>%{hovertext}</b><br><br>Primary Type=Psychic<br>Legendary=False<br>Generation=2<br>Attack=%{x}<br>Defense=%{y}<br>Total=%{marker.size}<extra></extra>",
         "hovertext": [
          "Natu",
          "Xatu",
          "Espeon",
          "Unown",
          "Wobbuffet",
          "Celebi"
         ],
         "legendgroup": "Psychic",
         "marker": {
          "color": "#636efa",
          "size": [
           320,
           470,
           525,
           336,
           405,
           600
          ],
          "sizemode": "area",
          "sizeref": 1.95,
          "symbol": "circle"
         },
         "mode": "markers",
         "name": "Psychic",
         "orientation": "v",
         "showlegend": false,
         "type": "scatter",
         "x": [
          50,
          75,
          65,
          72,
          33,
          100
         ],
         "xaxis": "x8",
         "y": [
          45,
          70,
          60,
          48,
          58,
          100
         ],
         "yaxis": "y8"
        },
        {
         "hovertemplate": "<b>%{hovertext}</b><br><br>Primary Type=Psychic<br>Legendary=False<br>Generation=3<br>Attack=%{x}<br>Defense=%{y}<br>Total=%{marker.size}<extra></extra>",
         "hovertext": [
          "Ralts",
          "Kirlia",
          "Gardevoir",
          "GardevoirMega Gardevoir",
          "Spoink",
          "Grumpig",
          "Chimecho",
          "Wynaut"
         ],
         "legendgroup": "Psychic",
         "marker": {
          "color": "#636efa",
          "size": [
           198,
           278,
           518,
           618,
           330,
           470,
           425,
           260
          ],
          "sizemode": "area",
          "sizeref": 1.95,
          "symbol": "circle"
         },
         "mode": "markers",
         "name": "Psychic",
         "orientation": "v",
         "showlegend": false,
         "type": "scatter",
         "x": [
          25,
          35,
          65,
          85,
          25,
          45,
          50,
          23
         ],
         "xaxis": "x9",
         "y": [
          25,
          35,
          65,
          65,
          35,
          65,
          70,
          48
         ],
         "yaxis": "y9"
        },
        {
         "hovertemplate": "<b>%{hovertext}</b><br><br>Primary Type=Psychic<br>Legendary=False<br>Generation=4<br>Attack=%{x}<br>Defense=%{y}<br>Total=%{marker.size}<extra></extra>",
         "hovertext": [
          "Chingling",
          "Mime Jr.",
          "Gallade",
          "GalladeMega Gallade",
          "Cresselia"
         ],
         "legendgroup": "Psychic",
         "marker": {
          "color": "#636efa",
          "size": [
           285,
           310,
           518,
           618,
           600
          ],
          "sizemode": "area",
          "sizeref": 1.95,
          "symbol": "circle"
         },
         "mode": "markers",
         "name": "Psychic",
         "orientation": "v",
         "showlegend": false,
         "type": "scatter",
         "x": [
          30,
          25,
          125,
          165,
          70
         ],
         "xaxis": "x10",
         "y": [
          50,
          45,
          65,
          95,
          120
         ],
         "yaxis": "y10"
        },
        {
         "hovertemplate": "<b>%{hovertext}</b><br><br>Primary Type=Psychic<br>Legendary=False<br>Generation=5<br>Attack=%{x}<br>Defense=%{y}<br>Total=%{marker.size}<extra></extra>",
         "hovertext": [
          "Munna",
          "Musharna",
          "Woobat",
          "Swoobat",
          "Sigilyph",
          "Gothita",
          "Gothorita",
          "Gothitelle",
          "Solosis",
          "Duosion",
          "Reuniclus",
          "Elgyem",
          "Beheeyem"
         ],
         "legendgroup": "Psychic",
         "marker": {
          "color": "#636efa",
          "size": [
           292,
           487,
           313,
           425,
           490,
           290,
           390,
           490,
           290,
           370,
           490,
           335,
           485
          ],
          "sizemode": "area",
          "sizeref": 1.95,
          "symbol": "circle"
         },
         "mode": "markers",
         "name": "Psychic",
         "orientation": "v",
         "showlegend": false,
         "type": "scatter",
         "x": [
          25,
          55,
          45,
          57,
          58,
          30,
          45,
          55,
          30,
          40,
          65,
          55,
          75
         ],
         "xaxis": "x11",
         "y": [
          45,
          85,
          43,
          55,
          80,
          50,
          70,
          95,
          40,
          50,
          75,
          55,
          75
         ],
         "yaxis": "y11"
        },
        {
         "hovertemplate": "<b>%{hovertext}</b><br><br>Primary Type=Psychic<br>Legendary=False<br>Generation=6<br>Attack=%{x}<br>Defense=%{y}<br>Total=%{marker.size}<extra></extra>",
         "hovertext": [
          "Espurr",
          "MeowsticMale",
          "MeowsticFemale"
         ],
         "legendgroup": "Psychic",
         "marker": {
          "color": "#636efa",
          "size": [
           355,
           466,
           466
          ],
          "sizemode": "area",
          "sizeref": 1.95,
          "symbol": "circle"
         },
         "mode": "markers",
         "name": "Psychic",
         "orientation": "v",
         "showlegend": false,
         "type": "scatter",
         "x": [
          48,
          48,
          48
         ],
         "xaxis": "x12",
         "y": [
          54,
          76,
          76
         ],
         "yaxis": "y12"
        },
        {
         "hovertemplate": "<b>%{hovertext}</b><br><br>Primary Type=Psychic<br>Legendary=True<br>Generation=1<br>Attack=%{x}<br>Defense=%{y}<br>Total=%{marker.size}<extra></extra>",
         "hovertext": [
          "Mewtwo",
          "MewtwoMega Mewtwo X",
          "MewtwoMega Mewtwo Y"
         ],
         "legendgroup": "Psychic",
         "marker": {
          "color": "#636efa",
          "size": [
           680,
           780,
           780
          ],
          "sizemode": "area",
          "sizeref": 1.95,
          "symbol": "circle"
         },
         "mode": "markers",
         "name": "Psychic",
         "orientation": "v",
         "showlegend": false,
         "type": "scatter",
         "x": [
          110,
          190,
          150
         ],
         "xaxis": "x",
         "y": [
          90,
          100,
          70
         ],
         "yaxis": "y"
        },
        {
         "hovertemplate": "<b>%{hovertext}</b><br><br>Primary Type=Psychic<br>Legendary=True<br>Generation=2<br>Attack=%{x}<br>Defense=%{y}<br>Total=%{marker.size}<extra></extra>",
         "hovertext": [
          "Lugia"
         ],
         "legendgroup": "Psychic",
         "marker": {
          "color": "#636efa",
          "size": [
           680
          ],
          "sizemode": "area",
          "sizeref": 1.95,
          "symbol": "circle"
         },
         "mode": "markers",
         "name": "Psychic",
         "orientation": "v",
         "showlegend": false,
         "type": "scatter",
         "x": [
          90
         ],
         "xaxis": "x2",
         "y": [
          130
         ],
         "yaxis": "y2"
        },
        {
         "hovertemplate": "<b>%{hovertext}</b><br><br>Primary Type=Psychic<br>Legendary=True<br>Generation=3<br>Attack=%{x}<br>Defense=%{y}<br>Total=%{marker.size}<extra></extra>",
         "hovertext": [
          "DeoxysNormal Forme",
          "DeoxysAttack Forme",
          "DeoxysDefense Forme",
          "DeoxysSpeed Forme"
         ],
         "legendgroup": "Psychic",
         "marker": {
          "color": "#636efa",
          "size": [
           600,
           600,
           600,
           600
          ],
          "sizemode": "area",
          "sizeref": 1.95,
          "symbol": "circle"
         },
         "mode": "markers",
         "name": "Psychic",
         "orientation": "v",
         "showlegend": false,
         "type": "scatter",
         "x": [
          150,
          180,
          70,
          95
         ],
         "xaxis": "x3",
         "y": [
          50,
          20,
          160,
          90
         ],
         "yaxis": "y3"
        },
        {
         "hovertemplate": "<b>%{hovertext}</b><br><br>Primary Type=Psychic<br>Legendary=True<br>Generation=4<br>Attack=%{x}<br>Defense=%{y}<br>Total=%{marker.size}<extra></extra>",
         "hovertext": [
          "Uxie",
          "Mesprit",
          "Azelf"
         ],
         "legendgroup": "Psychic",
         "marker": {
          "color": "#636efa",
          "size": [
           580,
           580,
           580
          ],
          "sizemode": "area",
          "sizeref": 1.95,
          "symbol": "circle"
         },
         "mode": "markers",
         "name": "Psychic",
         "orientation": "v",
         "showlegend": false,
         "type": "scatter",
         "x": [
          75,
          105,
          125
         ],
         "xaxis": "x4",
         "y": [
          130,
          105,
          70
         ],
         "yaxis": "y4"
        },
        {
         "hovertemplate": "<b>%{hovertext}</b><br><br>Primary Type=Psychic<br>Legendary=True<br>Generation=5<br>Attack=%{x}<br>Defense=%{y}<br>Total=%{marker.size}<extra></extra>",
         "hovertext": [
          "Victini"
         ],
         "legendgroup": "Psychic",
         "marker": {
          "color": "#636efa",
          "size": [
           600
          ],
          "sizemode": "area",
          "sizeref": 1.95,
          "symbol": "circle"
         },
         "mode": "markers",
         "name": "Psychic",
         "orientation": "v",
         "showlegend": false,
         "type": "scatter",
         "x": [
          100
         ],
         "xaxis": "x5",
         "y": [
          100
         ],
         "yaxis": "y5"
        },
        {
         "hovertemplate": "<b>%{hovertext}</b><br><br>Primary Type=Psychic<br>Legendary=True<br>Generation=6<br>Attack=%{x}<br>Defense=%{y}<br>Total=%{marker.size}<extra></extra>",
         "hovertext": [
          "HoopaHoopa Confined",
          "HoopaHoopa Unbound"
         ],
         "legendgroup": "Psychic",
         "marker": {
          "color": "#636efa",
          "size": [
           600,
           680
          ],
          "sizemode": "area",
          "sizeref": 1.95,
          "symbol": "circle"
         },
         "mode": "markers",
         "name": "Psychic",
         "orientation": "v",
         "showlegend": false,
         "type": "scatter",
         "x": [
          110,
          160
         ],
         "xaxis": "x6",
         "y": [
          60,
          60
         ],
         "yaxis": "y6"
        },
        {
         "hovertemplate": "<b>%{hovertext}</b><br><br>Primary Type=Rock<br>Legendary=False<br>Generation=1<br>Attack=%{x}<br>Defense=%{y}<br>Total=%{marker.size}<extra></extra>",
         "hovertext": [
          "Geodude",
          "Graveler",
          "Golem",
          "Onix",
          "Omanyte",
          "Omastar",
          "Kabuto",
          "Kabutops",
          "Aerodactyl",
          "AerodactylMega Aerodactyl"
         ],
         "legendgroup": "Rock",
         "marker": {
          "color": "#EF553B",
          "size": [
           300,
           390,
           495,
           385,
           355,
           495,
           355,
           495,
           515,
           615
          ],
          "sizemode": "area",
          "sizeref": 1.95,
          "symbol": "circle"
         },
         "mode": "markers",
         "name": "Rock",
         "orientation": "v",
         "showlegend": true,
         "type": "scatter",
         "x": [
          80,
          95,
          120,
          45,
          40,
          60,
          80,
          115,
          105,
          135
         ],
         "xaxis": "x7",
         "y": [
          100,
          115,
          130,
          160,
          100,
          125,
          90,
          105,
          65,
          85
         ],
         "yaxis": "y7"
        },
        {
         "hovertemplate": "<b>%{hovertext}</b><br><br>Primary Type=Rock<br>Legendary=False<br>Generation=2<br>Attack=%{x}<br>Defense=%{y}<br>Total=%{marker.size}<extra></extra>",
         "hovertext": [
          "Sudowoodo",
          "Larvitar",
          "Pupitar",
          "Tyranitar",
          "TyranitarMega Tyranitar"
         ],
         "legendgroup": "Rock",
         "marker": {
          "color": "#EF553B",
          "size": [
           410,
           300,
           410,
           600,
           700
          ],
          "sizemode": "area",
          "sizeref": 1.95,
          "symbol": "circle"
         },
         "mode": "markers",
         "name": "Rock",
         "orientation": "v",
         "showlegend": false,
         "type": "scatter",
         "x": [
          100,
          64,
          84,
          134,
          164
         ],
         "xaxis": "x8",
         "y": [
          115,
          50,
          70,
          110,
          150
         ],
         "yaxis": "y8"
        },
        {
         "hovertemplate": "<b>%{hovertext}</b><br><br>Primary Type=Rock<br>Legendary=False<br>Generation=3<br>Attack=%{x}<br>Defense=%{y}<br>Total=%{marker.size}<extra></extra>",
         "hovertext": [
          "Nosepass",
          "Lunatone",
          "Solrock",
          "Lileep",
          "Cradily",
          "Anorith",
          "Armaldo"
         ],
         "legendgroup": "Rock",
         "marker": {
          "color": "#EF553B",
          "size": [
           375,
           440,
           440,
           355,
           495,
           355,
           495
          ],
          "sizemode": "area",
          "sizeref": 1.95,
          "symbol": "circle"
         },
         "mode": "markers",
         "name": "Rock",
         "orientation": "v",
         "showlegend": false,
         "type": "scatter",
         "x": [
          45,
          55,
          95,
          41,
          81,
          95,
          125
         ],
         "xaxis": "x9",
         "y": [
          135,
          65,
          85,
          77,
          97,
          50,
          100
         ],
         "yaxis": "y9"
        },
        {
         "hovertemplate": "<b>%{hovertext}</b><br><br>Primary Type=Rock<br>Legendary=False<br>Generation=4<br>Attack=%{x}<br>Defense=%{y}<br>Total=%{marker.size}<extra></extra>",
         "hovertext": [
          "Cranidos",
          "Rampardos",
          "Shieldon",
          "Bastiodon",
          "Bonsly",
          "Probopass"
         ],
         "legendgroup": "Rock",
         "marker": {
          "color": "#EF553B",
          "size": [
           350,
           495,
           350,
           495,
           290,
           525
          ],
          "sizemode": "area",
          "sizeref": 1.95,
          "symbol": "circle"
         },
         "mode": "markers",
         "name": "Rock",
         "orientation": "v",
         "showlegend": false,
         "type": "scatter",
         "x": [
          125,
          165,
          42,
          52,
          80,
          55
         ],
         "xaxis": "x10",
         "y": [
          40,
          60,
          118,
          168,
          95,
          145
         ],
         "yaxis": "y10"
        },
        {
         "hovertemplate": "<b>%{hovertext}</b><br><br>Primary Type=Rock<br>Legendary=False<br>Generation=5<br>Attack=%{x}<br>Defense=%{y}<br>Total=%{marker.size}<extra></extra>",
         "hovertext": [
          "Roggenrola",
          "Boldore",
          "Gigalith",
          "Archen",
          "Archeops"
         ],
         "legendgroup": "Rock",
         "marker": {
          "color": "#EF553B",
          "size": [
           280,
           390,
           515,
           401,
           567
          ],
          "sizemode": "area",
          "sizeref": 1.95,
          "symbol": "circle"
         },
         "mode": "markers",
         "name": "Rock",
         "orientation": "v",
         "showlegend": false,
         "type": "scatter",
         "x": [
          75,
          105,
          135,
          112,
          140
         ],
         "xaxis": "x11",
         "y": [
          85,
          105,
          130,
          45,
          65
         ],
         "yaxis": "y11"
        },
        {
         "hovertemplate": "<b>%{hovertext}</b><br><br>Primary Type=Rock<br>Legendary=False<br>Generation=6<br>Attack=%{x}<br>Defense=%{y}<br>Total=%{marker.size}<extra></extra>",
         "hovertext": [
          "Binacle",
          "Barbaracle",
          "Tyrunt",
          "Tyrantrum",
          "Amaura",
          "Aurorus",
          "Carbink"
         ],
         "legendgroup": "Rock",
         "marker": {
          "color": "#EF553B",
          "size": [
           306,
           500,
           362,
           521,
           362,
           521,
           500
          ],
          "sizemode": "area",
          "sizeref": 1.95,
          "symbol": "circle"
         },
         "mode": "markers",
         "name": "Rock",
         "orientation": "v",
         "showlegend": false,
         "type": "scatter",
         "x": [
          52,
          105,
          89,
          121,
          59,
          77,
          50
         ],
         "xaxis": "x12",
         "y": [
          67,
          115,
          77,
          119,
          50,
          72,
          150
         ],
         "yaxis": "y12"
        },
        {
         "hovertemplate": "<b>%{hovertext}</b><br><br>Primary Type=Rock<br>Legendary=True<br>Generation=3<br>Attack=%{x}<br>Defense=%{y}<br>Total=%{marker.size}<extra></extra>",
         "hovertext": [
          "Regirock"
         ],
         "legendgroup": "Rock",
         "marker": {
          "color": "#EF553B",
          "size": [
           580
          ],
          "sizemode": "area",
          "sizeref": 1.95,
          "symbol": "circle"
         },
         "mode": "markers",
         "name": "Rock",
         "orientation": "v",
         "showlegend": false,
         "type": "scatter",
         "x": [
          100
         ],
         "xaxis": "x3",
         "y": [
          200
         ],
         "yaxis": "y3"
        },
        {
         "hovertemplate": "<b>%{hovertext}</b><br><br>Primary Type=Rock<br>Legendary=True<br>Generation=5<br>Attack=%{x}<br>Defense=%{y}<br>Total=%{marker.size}<extra></extra>",
         "hovertext": [
          "Terrakion"
         ],
         "legendgroup": "Rock",
         "marker": {
          "color": "#EF553B",
          "size": [
           580
          ],
          "sizemode": "area",
          "sizeref": 1.95,
          "symbol": "circle"
         },
         "mode": "markers",
         "name": "Rock",
         "orientation": "v",
         "showlegend": false,
         "type": "scatter",
         "x": [
          129
         ],
         "xaxis": "x5",
         "y": [
          90
         ],
         "yaxis": "y5"
        },
        {
         "hovertemplate": "<b>%{hovertext}</b><br><br>Primary Type=Rock<br>Legendary=True<br>Generation=6<br>Attack=%{x}<br>Defense=%{y}<br>Total=%{marker.size}<extra></extra>",
         "hovertext": [
          "Diancie",
          "DiancieMega Diancie"
         ],
         "legendgroup": "Rock",
         "marker": {
          "color": "#EF553B",
          "size": [
           600,
           700
          ],
          "sizemode": "area",
          "sizeref": 1.95,
          "symbol": "circle"
         },
         "mode": "markers",
         "name": "Rock",
         "orientation": "v",
         "showlegend": false,
         "type": "scatter",
         "x": [
          100,
          160
         ],
         "xaxis": "x6",
         "y": [
          150,
          110
         ],
         "yaxis": "y6"
        },
        {
         "hovertemplate": "<b>%{hovertext}</b><br><br>Primary Type=Ghost<br>Legendary=False<br>Generation=1<br>Attack=%{x}<br>Defense=%{y}<br>Total=%{marker.size}<extra></extra>",
         "hovertext": [
          "Gastly",
          "Haunter",
          "Gengar",
          "GengarMega Gengar"
         ],
         "legendgroup": "Ghost",
         "marker": {
          "color": "#00cc96",
          "size": [
           310,
           405,
           500,
           600
          ],
          "sizemode": "area",
          "sizeref": 1.95,
          "symbol": "circle"
         },
         "mode": "markers",
         "name": "Ghost",
         "orientation": "v",
         "showlegend": true,
         "type": "scatter",
         "x": [
          35,
          50,
          65,
          65
         ],
         "xaxis": "x7",
         "y": [
          30,
          45,
          60,
          80
         ],
         "yaxis": "y7"
        },
        {
         "hovertemplate": "<b>%{hovertext}</b><br><br>Primary Type=Ghost<br>Legendary=False<br>Generation=2<br>Attack=%{x}<br>Defense=%{y}<br>Total=%{marker.size}<extra></extra>",
         "hovertext": [
          "Misdreavus"
         ],
         "legendgroup": "Ghost",
         "marker": {
          "color": "#00cc96",
          "size": [
           435
          ],
          "sizemode": "area",
          "sizeref": 1.95,
          "symbol": "circle"
         },
         "mode": "markers",
         "name": "Ghost",
         "orientation": "v",
         "showlegend": false,
         "type": "scatter",
         "x": [
          60
         ],
         "xaxis": "x8",
         "y": [
          60
         ],
         "yaxis": "y8"
        },
        {
         "hovertemplate": "<b>%{hovertext}</b><br><br>Primary Type=Ghost<br>Legendary=False<br>Generation=3<br>Attack=%{x}<br>Defense=%{y}<br>Total=%{marker.size}<extra></extra>",
         "hovertext": [
          "Shuppet",
          "Banette",
          "BanetteMega Banette",
          "Duskull",
          "Dusclops"
         ],
         "legendgroup": "Ghost",
         "marker": {
          "color": "#00cc96",
          "size": [
           295,
           455,
           555,
           295,
           455
          ],
          "sizemode": "area",
          "sizeref": 1.95,
          "symbol": "circle"
         },
         "mode": "markers",
         "name": "Ghost",
         "orientation": "v",
         "showlegend": false,
         "type": "scatter",
         "x": [
          75,
          115,
          165,
          40,
          70
         ],
         "xaxis": "x9",
         "y": [
          35,
          65,
          75,
          90,
          130
         ],
         "yaxis": "y9"
        },
        {
         "hovertemplate": "<b>%{hovertext}</b><br><br>Primary Type=Ghost<br>Legendary=False<br>Generation=4<br>Attack=%{x}<br>Defense=%{y}<br>Total=%{marker.size}<extra></extra>",
         "hovertext": [
          "Drifloon",
          "Drifblim",
          "Mismagius",
          "Spiritomb",
          "Dusknoir"
         ],
         "legendgroup": "Ghost",
         "marker": {
          "color": "#00cc96",
          "size": [
           348,
           498,
           495,
           485,
           525
          ],
          "sizemode": "area",
          "sizeref": 1.95,
          "symbol": "circle"
         },
         "mode": "markers",
         "name": "Ghost",
         "orientation": "v",
         "showlegend": false,
         "type": "scatter",
         "x": [
          50,
          80,
          60,
          92,
          100
         ],
         "xaxis": "x10",
         "y": [
          34,
          44,
          60,
          108,
          135
         ],
         "yaxis": "y10"
        },
        {
         "hovertemplate": "<b>%{hovertext}</b><br><br>Primary Type=Ghost<br>Legendary=False<br>Generation=5<br>Attack=%{x}<br>Defense=%{y}<br>Total=%{marker.size}<extra></extra>",
         "hovertext": [
          "Yamask",
          "Cofagrigus",
          "Litwick",
          "Lampent",
          "Chandelure"
         ],
         "legendgroup": "Ghost",
         "marker": {
          "color": "#00cc96",
          "size": [
           303,
           483,
           275,
           370,
           520
          ],
          "sizemode": "area",
          "sizeref": 1.95,
          "symbol": "circle"
         },
         "mode": "markers",
         "name": "Ghost",
         "orientation": "v",
         "showlegend": false,
         "type": "scatter",
         "x": [
          30,
          50,
          30,
          40,
          55
         ],
         "xaxis": "x11",
         "y": [
          85,
          145,
          55,
          60,
          90
         ],
         "yaxis": "y11"
        },
        {
         "hovertemplate": "<b>%{hovertext}</b><br><br>Primary Type=Ghost<br>Legendary=False<br>Generation=6<br>Attack=%{x}<br>Defense=%{y}<br>Total=%{marker.size}<extra></extra>",
         "hovertext": [
          "Phantump",
          "Trevenant",
          "PumpkabooAverage Size",
          "PumpkabooSmall Size",
          "PumpkabooLarge Size",
          "PumpkabooSuper Size",
          "GourgeistAverage Size",
          "GourgeistSmall Size",
          "GourgeistLarge Size",
          "GourgeistSuper Size"
         ],
         "legendgroup": "Ghost",
         "marker": {
          "color": "#00cc96",
          "size": [
           309,
           474,
           335,
           335,
           335,
           335,
           494,
           494,
           494,
           494
          ],
          "sizemode": "area",
          "sizeref": 1.95,
          "symbol": "circle"
         },
         "mode": "markers",
         "name": "Ghost",
         "orientation": "v",
         "showlegend": false,
         "type": "scatter",
         "x": [
          70,
          110,
          66,
          66,
          66,
          66,
          90,
          85,
          95,
          100
         ],
         "xaxis": "x12",
         "y": [
          48,
          76,
          70,
          70,
          70,
          70,
          122,
          122,
          122,
          122
         ],
         "yaxis": "y12"
        },
        {
         "hovertemplate": "<b>%{hovertext}</b><br><br>Primary Type=Ghost<br>Legendary=True<br>Generation=4<br>Attack=%{x}<br>Defense=%{y}<br>Total=%{marker.size}<extra></extra>",
         "hovertext": [
          "GiratinaAltered Forme",
          "GiratinaOrigin Forme"
         ],
         "legendgroup": "Ghost",
         "marker": {
          "color": "#00cc96",
          "size": [
           680,
           680
          ],
          "sizemode": "area",
          "sizeref": 1.95,
          "symbol": "circle"
         },
         "mode": "markers",
         "name": "Ghost",
         "orientation": "v",
         "showlegend": false,
         "type": "scatter",
         "x": [
          100,
          120
         ],
         "xaxis": "x4",
         "y": [
          120,
          100
         ],
         "yaxis": "y4"
        },
        {
         "hovertemplate": "<b>%{hovertext}</b><br><br>Primary Type=Ice<br>Legendary=False<br>Generation=1<br>Attack=%{x}<br>Defense=%{y}<br>Total=%{marker.size}<extra></extra>",
         "hovertext": [
          "Jynx"
         ],
         "legendgroup": "Ice",
         "marker": {
          "color": "#ab63fa",
          "size": [
           455
          ],
          "sizemode": "area",
          "sizeref": 1.95,
          "symbol": "circle"
         },
         "mode": "markers",
         "name": "Ice",
         "orientation": "v",
         "showlegend": true,
         "type": "scatter",
         "x": [
          50
         ],
         "xaxis": "x7",
         "y": [
          35
         ],
         "yaxis": "y7"
        },
        {
         "hovertemplate": "<b>%{hovertext}</b><br><br>Primary Type=Ice<br>Legendary=False<br>Generation=2<br>Attack=%{x}<br>Defense=%{y}<br>Total=%{marker.size}<extra></extra>",
         "hovertext": [
          "Swinub",
          "Piloswine",
          "Delibird",
          "Smoochum"
         ],
         "legendgroup": "Ice",
         "marker": {
          "color": "#ab63fa",
          "size": [
           250,
           450,
           330,
           305
          ],
          "sizemode": "area",
          "sizeref": 1.95,
          "symbol": "circle"
         },
         "mode": "markers",
         "name": "Ice",
         "orientation": "v",
         "showlegend": false,
         "type": "scatter",
         "x": [
          50,
          100,
          55,
          30
         ],
         "xaxis": "x8",
         "y": [
          40,
          80,
          45,
          15
         ],
         "yaxis": "y8"
        },
        {
         "hovertemplate": "<b>%{hovertext}</b><br><br>Primary Type=Ice<br>Legendary=False<br>Generation=3<br>Attack=%{x}<br>Defense=%{y}<br>Total=%{marker.size}<extra></extra>",
         "hovertext": [
          "Snorunt",
          "Glalie",
          "GlalieMega Glalie",
          "Spheal",
          "Sealeo",
          "Walrein"
         ],
         "legendgroup": "Ice",
         "marker": {
          "color": "#ab63fa",
          "size": [
           300,
           480,
           580,
           290,
           410,
           530
          ],
          "sizemode": "area",
          "sizeref": 1.95,
          "symbol": "circle"
         },
         "mode": "markers",
         "name": "Ice",
         "orientation": "v",
         "showlegend": false,
         "type": "scatter",
         "x": [
          50,
          80,
          120,
          40,
          60,
          80
         ],
         "xaxis": "x9",
         "y": [
          50,
          80,
          80,
          50,
          70,
          90
         ],
         "yaxis": "y9"
        },
        {
         "hovertemplate": "<b>%{hovertext}</b><br><br>Primary Type=Ice<br>Legendary=False<br>Generation=4<br>Attack=%{x}<br>Defense=%{y}<br>Total=%{marker.size}<extra></extra>",
         "hovertext": [
          "Glaceon",
          "Mamoswine",
          "Froslass"
         ],
         "legendgroup": "Ice",
         "marker": {
          "color": "#ab63fa",
          "size": [
           525,
           530,
           480
          ],
          "sizemode": "area",
          "sizeref": 1.95,
          "symbol": "circle"
         },
         "mode": "markers",
         "name": "Ice",
         "orientation": "v",
         "showlegend": false,
         "type": "scatter",
         "x": [
          60,
          130,
          80
         ],
         "xaxis": "x10",
         "y": [
          110,
          80,
          70
         ],
         "yaxis": "y10"
        },
        {
         "hovertemplate": "<b>%{hovertext}</b><br><br>Primary Type=Ice<br>Legendary=False<br>Generation=5<br>Attack=%{x}<br>Defense=%{y}<br>Total=%{marker.size}<extra></extra>",
         "hovertext": [
          "Vanillite",
          "Vanillish",
          "Vanilluxe",
          "Cubchoo",
          "Beartic",
          "Cryogonal"
         ],
         "legendgroup": "Ice",
         "marker": {
          "color": "#ab63fa",
          "size": [
           305,
           395,
           535,
           305,
           485,
           485
          ],
          "sizemode": "area",
          "sizeref": 1.95,
          "symbol": "circle"
         },
         "mode": "markers",
         "name": "Ice",
         "orientation": "v",
         "showlegend": false,
         "type": "scatter",
         "x": [
          50,
          65,
          95,
          70,
          110,
          50
         ],
         "xaxis": "x11",
         "y": [
          50,
          65,
          85,
          40,
          80,
          30
         ],
         "yaxis": "y11"
        },
        {
         "hovertemplate": "<b>%{hovertext}</b><br><br>Primary Type=Ice<br>Legendary=False<br>Generation=6<br>Attack=%{x}<br>Defense=%{y}<br>Total=%{marker.size}<extra></extra>",
         "hovertext": [
          "Bergmite",
          "Avalugg"
         ],
         "legendgroup": "Ice",
         "marker": {
          "color": "#ab63fa",
          "size": [
           304,
           514
          ],
          "sizemode": "area",
          "sizeref": 1.95,
          "symbol": "circle"
         },
         "mode": "markers",
         "name": "Ice",
         "orientation": "v",
         "showlegend": false,
         "type": "scatter",
         "x": [
          69,
          117
         ],
         "xaxis": "x12",
         "y": [
          85,
          184
         ],
         "yaxis": "y12"
        },
        {
         "hovertemplate": "<b>%{hovertext}</b><br><br>Primary Type=Ice<br>Legendary=True<br>Generation=1<br>Attack=%{x}<br>Defense=%{y}<br>Total=%{marker.size}<extra></extra>",
         "hovertext": [
          "Articuno"
         ],
         "legendgroup": "Ice",
         "marker": {
          "color": "#ab63fa",
          "size": [
           580
          ],
          "sizemode": "area",
          "sizeref": 1.95,
          "symbol": "circle"
         },
         "mode": "markers",
         "name": "Ice",
         "orientation": "v",
         "showlegend": false,
         "type": "scatter",
         "x": [
          85
         ],
         "xaxis": "x",
         "y": [
          100
         ],
         "yaxis": "y"
        },
        {
         "hovertemplate": "<b>%{hovertext}</b><br><br>Primary Type=Ice<br>Legendary=True<br>Generation=3<br>Attack=%{x}<br>Defense=%{y}<br>Total=%{marker.size}<extra></extra>",
         "hovertext": [
          "Regice"
         ],
         "legendgroup": "Ice",
         "marker": {
          "color": "#ab63fa",
          "size": [
           580
          ],
          "sizemode": "area",
          "sizeref": 1.95,
          "symbol": "circle"
         },
         "mode": "markers",
         "name": "Ice",
         "orientation": "v",
         "showlegend": false,
         "type": "scatter",
         "x": [
          50
         ],
         "xaxis": "x3",
         "y": [
          100
         ],
         "yaxis": "y3"
        },
        {
         "hovertemplate": "<b>%{hovertext}</b><br><br>Primary Type=Dragon<br>Legendary=False<br>Generation=1<br>Attack=%{x}<br>Defense=%{y}<br>Total=%{marker.size}<extra></extra>",
         "hovertext": [
          "Dratini",
          "Dragonair",
          "Dragonite"
         ],
         "legendgroup": "Dragon",
         "marker": {
          "color": "#FFA15A",
          "size": [
           300,
           420,
           600
          ],
          "sizemode": "area",
          "sizeref": 1.95,
          "symbol": "circle"
         },
         "mode": "markers",
         "name": "Dragon",
         "orientation": "v",
         "showlegend": true,
         "type": "scatter",
         "x": [
          64,
          84,
          134
         ],
         "xaxis": "x7",
         "y": [
          45,
          65,
          95
         ],
         "yaxis": "y7"
        },
        {
         "hovertemplate": "<b>%{hovertext}</b><br><br>Primary Type=Dragon<br>Legendary=False<br>Generation=3<br>Attack=%{x}<br>Defense=%{y}<br>Total=%{marker.size}<extra></extra>",
         "hovertext": [
          "Altaria",
          "AltariaMega Altaria",
          "Bagon",
          "Shelgon",
          "Salamence",
          "SalamenceMega Salamence"
         ],
         "legendgroup": "Dragon",
         "marker": {
          "color": "#FFA15A",
          "size": [
           490,
           590,
           300,
           420,
           600,
           700
          ],
          "sizemode": "area",
          "sizeref": 1.95,
          "symbol": "circle"
         },
         "mode": "markers",
         "name": "Dragon",
         "orientation": "v",
         "showlegend": false,
         "type": "scatter",
         "x": [
          70,
          110,
          75,
          95,
          135,
          145
         ],
         "xaxis": "x9",
         "y": [
          90,
          110,
          60,
          100,
          80,
          130
         ],
         "yaxis": "y9"
        },
        {
         "hovertemplate": "<b>%{hovertext}</b><br><br>Primary Type=Dragon<br>Legendary=False<br>Generation=4<br>Attack=%{x}<br>Defense=%{y}<br>Total=%{marker.size}<extra></extra>",
         "hovertext": [
          "Gible",
          "Gabite",
          "Garchomp",
          "GarchompMega Garchomp"
         ],
         "legendgroup": "Dragon",
         "marker": {
          "color": "#FFA15A",
          "size": [
           300,
           410,
           600,
           700
          ],
          "sizemode": "area",
          "sizeref": 1.95,
          "symbol": "circle"
         },
         "mode": "markers",
         "name": "Dragon",
         "orientation": "v",
         "showlegend": false,
         "type": "scatter",
         "x": [
          70,
          90,
          130,
          170
         ],
         "xaxis": "x10",
         "y": [
          45,
          65,
          95,
          115
         ],
         "yaxis": "y10"
        },
        {
         "hovertemplate": "<b>%{hovertext}</b><br><br>Primary Type=Dragon<br>Legendary=False<br>Generation=5<br>Attack=%{x}<br>Defense=%{y}<br>Total=%{marker.size}<extra></extra>",
         "hovertext": [
          "Axew",
          "Fraxure",
          "Haxorus",
          "Druddigon"
         ],
         "legendgroup": "Dragon",
         "marker": {
          "color": "#FFA15A",
          "size": [
           320,
           410,
           540,
           485
          ],
          "sizemode": "area",
          "sizeref": 1.95,
          "symbol": "circle"
         },
         "mode": "markers",
         "name": "Dragon",
         "orientation": "v",
         "showlegend": false,
         "type": "scatter",
         "x": [
          87,
          117,
          147,
          120
         ],
         "xaxis": "x11",
         "y": [
          60,
          70,
          90,
          90
         ],
         "yaxis": "y11"
        },
        {
         "hovertemplate": "<b>%{hovertext}</b><br><br>Primary Type=Dragon<br>Legendary=False<br>Generation=6<br>Attack=%{x}<br>Defense=%{y}<br>Total=%{marker.size}<extra></extra>",
         "hovertext": [
          "Goomy",
          "Sliggoo",
          "Goodra"
         ],
         "legendgroup": "Dragon",
         "marker": {
          "color": "#FFA15A",
          "size": [
           300,
           452,
           600
          ],
          "sizemode": "area",
          "sizeref": 1.95,
          "symbol": "circle"
         },
         "mode": "markers",
         "name": "Dragon",
         "orientation": "v",
         "showlegend": false,
         "type": "scatter",
         "x": [
          50,
          75,
          100
         ],
         "xaxis": "x12",
         "y": [
          35,
          53,
          70
         ],
         "yaxis": "y12"
        },
        {
         "hovertemplate": "<b>%{hovertext}</b><br><br>Primary Type=Dragon<br>Legendary=True<br>Generation=3<br>Attack=%{x}<br>Defense=%{y}<br>Total=%{marker.size}<extra></extra>",
         "hovertext": [
          "Latias",
          "LatiasMega Latias",
          "Latios",
          "LatiosMega Latios",
          "Rayquaza",
          "RayquazaMega Rayquaza"
         ],
         "legendgroup": "Dragon",
         "marker": {
          "color": "#FFA15A",
          "size": [
           600,
           700,
           600,
           700,
           680,
           780
          ],
          "sizemode": "area",
          "sizeref": 1.95,
          "symbol": "circle"
         },
         "mode": "markers",
         "name": "Dragon",
         "orientation": "v",
         "showlegend": false,
         "type": "scatter",
         "x": [
          80,
          100,
          90,
          130,
          150,
          180
         ],
         "xaxis": "x3",
         "y": [
          90,
          120,
          80,
          100,
          90,
          100
         ],
         "yaxis": "y3"
        },
        {
         "hovertemplate": "<b>%{hovertext}</b><br><br>Primary Type=Dragon<br>Legendary=True<br>Generation=5<br>Attack=%{x}<br>Defense=%{y}<br>Total=%{marker.size}<extra></extra>",
         "hovertext": [
          "Reshiram",
          "Zekrom",
          "Kyurem",
          "KyuremBlack Kyurem",
          "KyuremWhite Kyurem"
         ],
         "legendgroup": "Dragon",
         "marker": {
          "color": "#FFA15A",
          "size": [
           680,
           680,
           660,
           700,
           700
          ],
          "sizemode": "area",
          "sizeref": 1.95,
          "symbol": "circle"
         },
         "mode": "markers",
         "name": "Dragon",
         "orientation": "v",
         "showlegend": false,
         "type": "scatter",
         "x": [
          120,
          150,
          130,
          170,
          120
         ],
         "xaxis": "x5",
         "y": [
          100,
          120,
          90,
          100,
          90
         ],
         "yaxis": "y5"
        },
        {
         "hovertemplate": "<b>%{hovertext}</b><br><br>Primary Type=Dragon<br>Legendary=True<br>Generation=6<br>Attack=%{x}<br>Defense=%{y}<br>Total=%{marker.size}<extra></extra>",
         "hovertext": [
          "Zygarde50% Forme"
         ],
         "legendgroup": "Dragon",
         "marker": {
          "color": "#FFA15A",
          "size": [
           600
          ],
          "sizemode": "area",
          "sizeref": 1.95,
          "symbol": "circle"
         },
         "mode": "markers",
         "name": "Dragon",
         "orientation": "v",
         "showlegend": false,
         "type": "scatter",
         "x": [
          100
         ],
         "xaxis": "x6",
         "y": [
          121
         ],
         "yaxis": "y6"
        },
        {
         "hovertemplate": "<b>%{hovertext}</b><br><br>Primary Type=Dark<br>Legendary=False<br>Generation=2<br>Attack=%{x}<br>Defense=%{y}<br>Total=%{marker.size}<extra></extra>",
         "hovertext": [
          "Umbreon",
          "Murkrow",
          "Sneasel",
          "Houndour",
          "Houndoom",
          "HoundoomMega Houndoom"
         ],
         "legendgroup": "Dark",
         "marker": {
          "color": "#19d3f3",
          "size": [
           525,
           405,
           430,
           330,
           500,
           600
          ],
          "sizemode": "area",
          "sizeref": 1.95,
          "symbol": "circle"
         },
         "mode": "markers",
         "name": "Dark",
         "orientation": "v",
         "showlegend": true,
         "type": "scatter",
         "x": [
          65,
          85,
          95,
          60,
          90,
          90
         ],
         "xaxis": "x8",
         "y": [
          110,
          42,
          55,
          30,
          50,
          90
         ],
         "yaxis": "y8"
        },
        {
         "hovertemplate": "<b>%{hovertext}</b><br><br>Primary Type=Dark<br>Legendary=False<br>Generation=3<br>Attack=%{x}<br>Defense=%{y}<br>Total=%{marker.size}<extra></extra>",
         "hovertext": [
          "Poochyena",
          "Mightyena",
          "Sableye",
          "SableyeMega Sableye",
          "Absol",
          "AbsolMega Absol"
         ],
         "legendgroup": "Dark",
         "marker": {
          "color": "#19d3f3",
          "size": [
           220,
           420,
           380,
           480,
           465,
           565
          ],
          "sizemode": "area",
          "sizeref": 1.95,
          "symbol": "circle"
         },
         "mode": "markers",
         "name": "Dark",
         "orientation": "v",
         "showlegend": false,
         "type": "scatter",
         "x": [
          55,
          90,
          75,
          85,
          130,
          150
         ],
         "xaxis": "x9",
         "y": [
          35,
          70,
          75,
          125,
          60,
          60
         ],
         "yaxis": "y9"
        },
        {
         "hovertemplate": "<b>%{hovertext}</b><br><br>Primary Type=Dark<br>Legendary=False<br>Generation=4<br>Attack=%{x}<br>Defense=%{y}<br>Total=%{marker.size}<extra></extra>",
         "hovertext": [
          "Honchkrow",
          "Weavile"
         ],
         "legendgroup": "Dark",
         "marker": {
          "color": "#19d3f3",
          "size": [
           505,
           510
          ],
          "sizemode": "area",
          "sizeref": 1.95,
          "symbol": "circle"
         },
         "mode": "markers",
         "name": "Dark",
         "orientation": "v",
         "showlegend": false,
         "type": "scatter",
         "x": [
          125,
          120
         ],
         "xaxis": "x10",
         "y": [
          52,
          65
         ],
         "yaxis": "y10"
        },
        {
         "hovertemplate": "<b>%{hovertext}</b><br><br>Primary Type=Dark<br>Legendary=False<br>Generation=5<br>Attack=%{x}<br>Defense=%{y}<br>Total=%{marker.size}<extra></extra>",
         "hovertext": [
          "Purrloin",
          "Liepard",
          "Scraggy",
          "Scrafty",
          "Zorua",
          "Zoroark",
          "Pawniard",
          "Bisharp",
          "Vullaby",
          "Mandibuzz",
          "Deino",
          "Zweilous",
          "Hydreigon"
         ],
         "legendgroup": "Dark",
         "marker": {
          "color": "#19d3f3",
          "size": [
           281,
           446,
           348,
           488,
           330,
           510,
           340,
           490,
           370,
           510,
           300,
           420,
           600
          ],
          "sizemode": "area",
          "sizeref": 1.95,
          "symbol": "circle"
         },
         "mode": "markers",
         "name": "Dark",
         "orientation": "v",
         "showlegend": false,
         "type": "scatter",
         "x": [
          50,
          88,
          75,
          90,
          65,
          105,
          85,
          125,
          55,
          65,
          65,
          85,
          105
         ],
         "xaxis": "x11",
         "y": [
          37,
          50,
          70,
          115,
          40,
          60,
          70,
          100,
          75,
          105,
          50,
          70,
          90
         ],
         "yaxis": "y11"
        },
        {
         "hovertemplate": "<b>%{hovertext}</b><br><br>Primary Type=Dark<br>Legendary=False<br>Generation=6<br>Attack=%{x}<br>Defense=%{y}<br>Total=%{marker.size}<extra></extra>",
         "hovertext": [
          "Inkay",
          "Malamar"
         ],
         "legendgroup": "Dark",
         "marker": {
          "color": "#19d3f3",
          "size": [
           288,
           482
          ],
          "sizemode": "area",
          "sizeref": 1.95,
          "symbol": "circle"
         },
         "mode": "markers",
         "name": "Dark",
         "orientation": "v",
         "showlegend": false,
         "type": "scatter",
         "x": [
          54,
          92
         ],
         "xaxis": "x12",
         "y": [
          53,
          88
         ],
         "yaxis": "y12"
        },
        {
         "hovertemplate": "<b>%{hovertext}</b><br><br>Primary Type=Dark<br>Legendary=True<br>Generation=4<br>Attack=%{x}<br>Defense=%{y}<br>Total=%{marker.size}<extra></extra>",
         "hovertext": [
          "Darkrai"
         ],
         "legendgroup": "Dark",
         "marker": {
          "color": "#19d3f3",
          "size": [
           600
          ],
          "sizemode": "area",
          "sizeref": 1.95,
          "symbol": "circle"
         },
         "mode": "markers",
         "name": "Dark",
         "orientation": "v",
         "showlegend": false,
         "type": "scatter",
         "x": [
          90
         ],
         "xaxis": "x4",
         "y": [
          90
         ],
         "yaxis": "y4"
        },
        {
         "hovertemplate": "<b>%{hovertext}</b><br><br>Primary Type=Dark<br>Legendary=True<br>Generation=6<br>Attack=%{x}<br>Defense=%{y}<br>Total=%{marker.size}<extra></extra>",
         "hovertext": [
          "Yveltal"
         ],
         "legendgroup": "Dark",
         "marker": {
          "color": "#19d3f3",
          "size": [
           680
          ],
          "sizemode": "area",
          "sizeref": 1.95,
          "symbol": "circle"
         },
         "mode": "markers",
         "name": "Dark",
         "orientation": "v",
         "showlegend": false,
         "type": "scatter",
         "x": [
          131
         ],
         "xaxis": "x6",
         "y": [
          95
         ],
         "yaxis": "y6"
        },
        {
         "hovertemplate": "<b>%{hovertext}</b><br><br>Primary Type=Steel<br>Legendary=False<br>Generation=2<br>Attack=%{x}<br>Defense=%{y}<br>Total=%{marker.size}<extra></extra>",
         "hovertext": [
          "Steelix",
          "SteelixMega Steelix",
          "Skarmory"
         ],
         "legendgroup": "Steel",
         "marker": {
          "color": "#FF6692",
          "size": [
           510,
           610,
           465
          ],
          "sizemode": "area",
          "sizeref": 1.95,
          "symbol": "circle"
         },
         "mode": "markers",
         "name": "Steel",
         "orientation": "v",
         "showlegend": true,
         "type": "scatter",
         "x": [
          85,
          125,
          80
         ],
         "xaxis": "x8",
         "y": [
          200,
          230,
          140
         ],
         "yaxis": "y8"
        },
        {
         "hovertemplate": "<b>%{hovertext}</b><br><br>Primary Type=Steel<br>Legendary=False<br>Generation=3<br>Attack=%{x}<br>Defense=%{y}<br>Total=%{marker.size}<extra></extra>",
         "hovertext": [
          "Mawile",
          "MawileMega Mawile",
          "Aron",
          "Lairon",
          "Aggron",
          "AggronMega Aggron",
          "Beldum",
          "Metang",
          "Metagross",
          "MetagrossMega Metagross"
         ],
         "legendgroup": "Steel",
         "marker": {
          "color": "#FF6692",
          "size": [
           380,
           480,
           330,
           430,
           530,
           630,
           300,
           420,
           600,
           700
          ],
          "sizemode": "area",
          "sizeref": 1.95,
          "symbol": "circle"
         },
         "mode": "markers",
         "name": "Steel",
         "orientation": "v",
         "showlegend": false,
         "type": "scatter",
         "x": [
          85,
          105,
          70,
          90,
          110,
          140,
          55,
          75,
          135,
          145
         ],
         "xaxis": "x9",
         "y": [
          85,
          125,
          100,
          140,
          180,
          230,
          80,
          100,
          130,
          150
         ],
         "yaxis": "y9"
        },
        {
         "hovertemplate": "<b>%{hovertext}</b><br><br>Primary Type=Steel<br>Legendary=False<br>Generation=4<br>Attack=%{x}<br>Defense=%{y}<br>Total=%{marker.size}<extra></extra>",
         "hovertext": [
          "Bronzor",
          "Bronzong"
         ],
         "legendgroup": "Steel",
         "marker": {
          "color": "#FF6692",
          "size": [
           300,
           500
          ],
          "sizemode": "area",
          "sizeref": 1.95,
          "symbol": "circle"
         },
         "mode": "markers",
         "name": "Steel",
         "orientation": "v",
         "showlegend": false,
         "type": "scatter",
         "x": [
          24,
          89
         ],
         "xaxis": "x10",
         "y": [
          86,
          116
         ],
         "yaxis": "y10"
        },
        {
         "hovertemplate": "<b>%{hovertext}</b><br><br>Primary Type=Steel<br>Legendary=False<br>Generation=5<br>Attack=%{x}<br>Defense=%{y}<br>Total=%{marker.size}<extra></extra>",
         "hovertext": [
          "Klink",
          "Klang",
          "Klinklang"
         ],
         "legendgroup": "Steel",
         "marker": {
          "color": "#FF6692",
          "size": [
           300,
           440,
           520
          ],
          "sizemode": "area",
          "sizeref": 1.95,
          "symbol": "circle"
         },
         "mode": "markers",
         "name": "Steel",
         "orientation": "v",
         "showlegend": false,
         "type": "scatter",
         "x": [
          55,
          80,
          100
         ],
         "xaxis": "x11",
         "y": [
          70,
          95,
          115
         ],
         "yaxis": "y11"
        },
        {
         "hovertemplate": "<b>%{hovertext}</b><br><br>Primary Type=Steel<br>Legendary=False<br>Generation=6<br>Attack=%{x}<br>Defense=%{y}<br>Total=%{marker.size}<extra></extra>",
         "hovertext": [
          "Honedge",
          "Doublade",
          "AegislashBlade Forme",
          "AegislashShield Forme",
          "Klefki"
         ],
         "legendgroup": "Steel",
         "marker": {
          "color": "#FF6692",
          "size": [
           325,
           448,
           520,
           520,
           470
          ],
          "sizemode": "area",
          "sizeref": 1.95,
          "symbol": "circle"
         },
         "mode": "markers",
         "name": "Steel",
         "orientation": "v",
         "showlegend": false,
         "type": "scatter",
         "x": [
          80,
          110,
          150,
          50,
          80
         ],
         "xaxis": "x12",
         "y": [
          100,
          150,
          50,
          150,
          91
         ],
         "yaxis": "y12"
        },
        {
         "hovertemplate": "<b>%{hovertext}</b><br><br>Primary Type=Steel<br>Legendary=True<br>Generation=3<br>Attack=%{x}<br>Defense=%{y}<br>Total=%{marker.size}<extra></extra>",
         "hovertext": [
          "Registeel",
          "Jirachi"
         ],
         "legendgroup": "Steel",
         "marker": {
          "color": "#FF6692",
          "size": [
           580,
           600
          ],
          "sizemode": "area",
          "sizeref": 1.95,
          "symbol": "circle"
         },
         "mode": "markers",
         "name": "Steel",
         "orientation": "v",
         "showlegend": false,
         "type": "scatter",
         "x": [
          75,
          100
         ],
         "xaxis": "x3",
         "y": [
          150,
          100
         ],
         "yaxis": "y3"
        },
        {
         "hovertemplate": "<b>%{hovertext}</b><br><br>Primary Type=Steel<br>Legendary=True<br>Generation=4<br>Attack=%{x}<br>Defense=%{y}<br>Total=%{marker.size}<extra></extra>",
         "hovertext": [
          "Dialga"
         ],
         "legendgroup": "Steel",
         "marker": {
          "color": "#FF6692",
          "size": [
           680
          ],
          "sizemode": "area",
          "sizeref": 1.95,
          "symbol": "circle"
         },
         "mode": "markers",
         "name": "Steel",
         "orientation": "v",
         "showlegend": false,
         "type": "scatter",
         "x": [
          120
         ],
         "xaxis": "x4",
         "y": [
          120
         ],
         "yaxis": "y4"
        },
        {
         "hovertemplate": "<b>%{hovertext}</b><br><br>Primary Type=Steel<br>Legendary=True<br>Generation=5<br>Attack=%{x}<br>Defense=%{y}<br>Total=%{marker.size}<extra></extra>",
         "hovertext": [
          "Cobalion"
         ],
         "legendgroup": "Steel",
         "marker": {
          "color": "#FF6692",
          "size": [
           580
          ],
          "sizemode": "area",
          "sizeref": 1.95,
          "symbol": "circle"
         },
         "mode": "markers",
         "name": "Steel",
         "orientation": "v",
         "showlegend": false,
         "type": "scatter",
         "x": [
          90
         ],
         "xaxis": "x5",
         "y": [
          129
         ],
         "yaxis": "y5"
        },
        {
         "hovertemplate": "<b>%{hovertext}</b><br><br>Primary Type=Flying<br>Legendary=False<br>Generation=6<br>Attack=%{x}<br>Defense=%{y}<br>Total=%{marker.size}<extra></extra>",
         "hovertext": [
          "Noibat",
          "Noivern"
         ],
         "legendgroup": "Flying",
         "marker": {
          "color": "#B6E880",
          "size": [
           245,
           535
          ],
          "sizemode": "area",
          "sizeref": 1.95,
          "symbol": "circle"
         },
         "mode": "markers",
         "name": "Flying",
         "orientation": "v",
         "showlegend": true,
         "type": "scatter",
         "x": [
          30,
          70
         ],
         "xaxis": "x12",
         "y": [
          35,
          80
         ],
         "yaxis": "y12"
        },
        {
         "hovertemplate": "<b>%{hovertext}</b><br><br>Primary Type=Flying<br>Legendary=True<br>Generation=5<br>Attack=%{x}<br>Defense=%{y}<br>Total=%{marker.size}<extra></extra>",
         "hovertext": [
          "TornadusIncarnate Forme",
          "TornadusTherian Forme"
         ],
         "legendgroup": "Flying",
         "marker": {
          "color": "#B6E880",
          "size": [
           580,
           580
          ],
          "sizemode": "area",
          "sizeref": 1.95,
          "symbol": "circle"
         },
         "mode": "markers",
         "name": "Flying",
         "orientation": "v",
         "showlegend": false,
         "type": "scatter",
         "x": [
          115,
          100
         ],
         "xaxis": "x5",
         "y": [
          70,
          80
         ],
         "yaxis": "y5"
        }
       ],
       "layout": {
        "annotations": [
         {
          "font": {},
          "showarrow": false,
          "text": "Generation=1",
          "x": 0.07333333333333333,
          "xanchor": "center",
          "xref": "paper",
          "y": 1,
          "yanchor": "bottom",
          "yref": "paper"
         },
         {
          "font": {},
          "showarrow": false,
          "text": "Generation=2",
          "x": 0.24,
          "xanchor": "center",
          "xref": "paper",
          "y": 1,
          "yanchor": "bottom",
          "yref": "paper"
         },
         {
          "font": {},
          "showarrow": false,
          "text": "Generation=3",
          "x": 0.4066666666666666,
          "xanchor": "center",
          "xref": "paper",
          "y": 1,
          "yanchor": "bottom",
          "yref": "paper"
         },
         {
          "font": {},
          "showarrow": false,
          "text": "Generation=4",
          "x": 0.5733333333333334,
          "xanchor": "center",
          "xref": "paper",
          "y": 1,
          "yanchor": "bottom",
          "yref": "paper"
         },
         {
          "font": {},
          "showarrow": false,
          "text": "Generation=5",
          "x": 0.74,
          "xanchor": "center",
          "xref": "paper",
          "y": 1,
          "yanchor": "bottom",
          "yref": "paper"
         },
         {
          "font": {},
          "showarrow": false,
          "text": "Generation=6",
          "x": 0.9066666666666667,
          "xanchor": "center",
          "xref": "paper",
          "y": 1,
          "yanchor": "bottom",
          "yref": "paper"
         },
         {
          "font": {},
          "showarrow": false,
          "text": "Legendary=True",
          "textangle": 90,
          "x": 0.98,
          "xanchor": "left",
          "xref": "paper",
          "y": 0.2425,
          "yanchor": "middle",
          "yref": "paper"
         },
         {
          "font": {},
          "showarrow": false,
          "text": "Legendary=False",
          "textangle": 90,
          "x": 0.98,
          "xanchor": "left",
          "xref": "paper",
          "y": 0.7575000000000001,
          "yanchor": "middle",
          "yref": "paper"
         }
        ],
        "height": 2000,
        "legend": {
         "itemsizing": "constant",
         "title": {
          "text": "Primary Type"
         },
         "tracegroupgap": 0,
         "x": 1,
         "y": 1
        },
        "margin": {
         "t": 60
        },
        "template": {
         "data": {
          "bar": [
           {
            "error_x": {
             "color": "#2a3f5f"
            },
            "error_y": {
             "color": "#2a3f5f"
            },
            "marker": {
             "line": {
              "color": "#E5ECF6",
              "width": 0.5
             },
             "pattern": {
              "fillmode": "overlay",
              "size": 10,
              "solidity": 0.2
             }
            },
            "type": "bar"
           }
          ],
          "barpolar": [
           {
            "marker": {
             "line": {
              "color": "#E5ECF6",
              "width": 0.5
             },
             "pattern": {
              "fillmode": "overlay",
              "size": 10,
              "solidity": 0.2
             }
            },
            "type": "barpolar"
           }
          ],
          "carpet": [
           {
            "aaxis": {
             "endlinecolor": "#2a3f5f",
             "gridcolor": "white",
             "linecolor": "white",
             "minorgridcolor": "white",
             "startlinecolor": "#2a3f5f"
            },
            "baxis": {
             "endlinecolor": "#2a3f5f",
             "gridcolor": "white",
             "linecolor": "white",
             "minorgridcolor": "white",
             "startlinecolor": "#2a3f5f"
            },
            "type": "carpet"
           }
          ],
          "choropleth": [
           {
            "colorbar": {
             "outlinewidth": 0,
             "ticks": ""
            },
            "type": "choropleth"
           }
          ],
          "contour": [
           {
            "colorbar": {
             "outlinewidth": 0,
             "ticks": ""
            },
            "colorscale": [
             [
              0,
              "#0d0887"
             ],
             [
              0.1111111111111111,
              "#46039f"
             ],
             [
              0.2222222222222222,
              "#7201a8"
             ],
             [
              0.3333333333333333,
              "#9c179e"
             ],
             [
              0.4444444444444444,
              "#bd3786"
             ],
             [
              0.5555555555555556,
              "#d8576b"
             ],
             [
              0.6666666666666666,
              "#ed7953"
             ],
             [
              0.7777777777777778,
              "#fb9f3a"
             ],
             [
              0.8888888888888888,
              "#fdca26"
             ],
             [
              1,
              "#f0f921"
             ]
            ],
            "type": "contour"
           }
          ],
          "contourcarpet": [
           {
            "colorbar": {
             "outlinewidth": 0,
             "ticks": ""
            },
            "type": "contourcarpet"
           }
          ],
          "heatmap": [
           {
            "colorbar": {
             "outlinewidth": 0,
             "ticks": ""
            },
            "colorscale": [
             [
              0,
              "#0d0887"
             ],
             [
              0.1111111111111111,
              "#46039f"
             ],
             [
              0.2222222222222222,
              "#7201a8"
             ],
             [
              0.3333333333333333,
              "#9c179e"
             ],
             [
              0.4444444444444444,
              "#bd3786"
             ],
             [
              0.5555555555555556,
              "#d8576b"
             ],
             [
              0.6666666666666666,
              "#ed7953"
             ],
             [
              0.7777777777777778,
              "#fb9f3a"
             ],
             [
              0.8888888888888888,
              "#fdca26"
             ],
             [
              1,
              "#f0f921"
             ]
            ],
            "type": "heatmap"
           }
          ],
          "heatmapgl": [
           {
            "colorbar": {
             "outlinewidth": 0,
             "ticks": ""
            },
            "colorscale": [
             [
              0,
              "#0d0887"
             ],
             [
              0.1111111111111111,
              "#46039f"
             ],
             [
              0.2222222222222222,
              "#7201a8"
             ],
             [
              0.3333333333333333,
              "#9c179e"
             ],
             [
              0.4444444444444444,
              "#bd3786"
             ],
             [
              0.5555555555555556,
              "#d8576b"
             ],
             [
              0.6666666666666666,
              "#ed7953"
             ],
             [
              0.7777777777777778,
              "#fb9f3a"
             ],
             [
              0.8888888888888888,
              "#fdca26"
             ],
             [
              1,
              "#f0f921"
             ]
            ],
            "type": "heatmapgl"
           }
          ],
          "histogram": [
           {
            "marker": {
             "pattern": {
              "fillmode": "overlay",
              "size": 10,
              "solidity": 0.2
             }
            },
            "type": "histogram"
           }
          ],
          "histogram2d": [
           {
            "colorbar": {
             "outlinewidth": 0,
             "ticks": ""
            },
            "colorscale": [
             [
              0,
              "#0d0887"
             ],
             [
              0.1111111111111111,
              "#46039f"
             ],
             [
              0.2222222222222222,
              "#7201a8"
             ],
             [
              0.3333333333333333,
              "#9c179e"
             ],
             [
              0.4444444444444444,
              "#bd3786"
             ],
             [
              0.5555555555555556,
              "#d8576b"
             ],
             [
              0.6666666666666666,
              "#ed7953"
             ],
             [
              0.7777777777777778,
              "#fb9f3a"
             ],
             [
              0.8888888888888888,
              "#fdca26"
             ],
             [
              1,
              "#f0f921"
             ]
            ],
            "type": "histogram2d"
           }
          ],
          "histogram2dcontour": [
           {
            "colorbar": {
             "outlinewidth": 0,
             "ticks": ""
            },
            "colorscale": [
             [
              0,
              "#0d0887"
             ],
             [
              0.1111111111111111,
              "#46039f"
             ],
             [
              0.2222222222222222,
              "#7201a8"
             ],
             [
              0.3333333333333333,
              "#9c179e"
             ],
             [
              0.4444444444444444,
              "#bd3786"
             ],
             [
              0.5555555555555556,
              "#d8576b"
             ],
             [
              0.6666666666666666,
              "#ed7953"
             ],
             [
              0.7777777777777778,
              "#fb9f3a"
             ],
             [
              0.8888888888888888,
              "#fdca26"
             ],
             [
              1,
              "#f0f921"
             ]
            ],
            "type": "histogram2dcontour"
           }
          ],
          "mesh3d": [
           {
            "colorbar": {
             "outlinewidth": 0,
             "ticks": ""
            },
            "type": "mesh3d"
           }
          ],
          "parcoords": [
           {
            "line": {
             "colorbar": {
              "outlinewidth": 0,
              "ticks": ""
             }
            },
            "type": "parcoords"
           }
          ],
          "pie": [
           {
            "automargin": true,
            "type": "pie"
           }
          ],
          "scatter": [
           {
            "fillpattern": {
             "fillmode": "overlay",
             "size": 10,
             "solidity": 0.2
            },
            "type": "scatter"
           }
          ],
          "scatter3d": [
           {
            "line": {
             "colorbar": {
              "outlinewidth": 0,
              "ticks": ""
             }
            },
            "marker": {
             "colorbar": {
              "outlinewidth": 0,
              "ticks": ""
             }
            },
            "type": "scatter3d"
           }
          ],
          "scattercarpet": [
           {
            "marker": {
             "colorbar": {
              "outlinewidth": 0,
              "ticks": ""
             }
            },
            "type": "scattercarpet"
           }
          ],
          "scattergeo": [
           {
            "marker": {
             "colorbar": {
              "outlinewidth": 0,
              "ticks": ""
             }
            },
            "type": "scattergeo"
           }
          ],
          "scattergl": [
           {
            "marker": {
             "colorbar": {
              "outlinewidth": 0,
              "ticks": ""
             }
            },
            "type": "scattergl"
           }
          ],
          "scattermapbox": [
           {
            "marker": {
             "colorbar": {
              "outlinewidth": 0,
              "ticks": ""
             }
            },
            "type": "scattermapbox"
           }
          ],
          "scatterpolar": [
           {
            "marker": {
             "colorbar": {
              "outlinewidth": 0,
              "ticks": ""
             }
            },
            "type": "scatterpolar"
           }
          ],
          "scatterpolargl": [
           {
            "marker": {
             "colorbar": {
              "outlinewidth": 0,
              "ticks": ""
             }
            },
            "type": "scatterpolargl"
           }
          ],
          "scatterternary": [
           {
            "marker": {
             "colorbar": {
              "outlinewidth": 0,
              "ticks": ""
             }
            },
            "type": "scatterternary"
           }
          ],
          "surface": [
           {
            "colorbar": {
             "outlinewidth": 0,
             "ticks": ""
            },
            "colorscale": [
             [
              0,
              "#0d0887"
             ],
             [
              0.1111111111111111,
              "#46039f"
             ],
             [
              0.2222222222222222,
              "#7201a8"
             ],
             [
              0.3333333333333333,
              "#9c179e"
             ],
             [
              0.4444444444444444,
              "#bd3786"
             ],
             [
              0.5555555555555556,
              "#d8576b"
             ],
             [
              0.6666666666666666,
              "#ed7953"
             ],
             [
              0.7777777777777778,
              "#fb9f3a"
             ],
             [
              0.8888888888888888,
              "#fdca26"
             ],
             [
              1,
              "#f0f921"
             ]
            ],
            "type": "surface"
           }
          ],
          "table": [
           {
            "cells": {
             "fill": {
              "color": "#EBF0F8"
             },
             "line": {
              "color": "white"
             }
            },
            "header": {
             "fill": {
              "color": "#C8D4E3"
             },
             "line": {
              "color": "white"
             }
            },
            "type": "table"
           }
          ]
         },
         "layout": {
          "annotationdefaults": {
           "arrowcolor": "#2a3f5f",
           "arrowhead": 0,
           "arrowwidth": 1
          },
          "autotypenumbers": "strict",
          "coloraxis": {
           "colorbar": {
            "outlinewidth": 0,
            "ticks": ""
           }
          },
          "colorscale": {
           "diverging": [
            [
             0,
             "#8e0152"
            ],
            [
             0.1,
             "#c51b7d"
            ],
            [
             0.2,
             "#de77ae"
            ],
            [
             0.3,
             "#f1b6da"
            ],
            [
             0.4,
             "#fde0ef"
            ],
            [
             0.5,
             "#f7f7f7"
            ],
            [
             0.6,
             "#e6f5d0"
            ],
            [
             0.7,
             "#b8e186"
            ],
            [
             0.8,
             "#7fbc41"
            ],
            [
             0.9,
             "#4d9221"
            ],
            [
             1,
             "#276419"
            ]
           ],
           "sequential": [
            [
             0,
             "#0d0887"
            ],
            [
             0.1111111111111111,
             "#46039f"
            ],
            [
             0.2222222222222222,
             "#7201a8"
            ],
            [
             0.3333333333333333,
             "#9c179e"
            ],
            [
             0.4444444444444444,
             "#bd3786"
            ],
            [
             0.5555555555555556,
             "#d8576b"
            ],
            [
             0.6666666666666666,
             "#ed7953"
            ],
            [
             0.7777777777777778,
             "#fb9f3a"
            ],
            [
             0.8888888888888888,
             "#fdca26"
            ],
            [
             1,
             "#f0f921"
            ]
           ],
           "sequentialminus": [
            [
             0,
             "#0d0887"
            ],
            [
             0.1111111111111111,
             "#46039f"
            ],
            [
             0.2222222222222222,
             "#7201a8"
            ],
            [
             0.3333333333333333,
             "#9c179e"
            ],
            [
             0.4444444444444444,
             "#bd3786"
            ],
            [
             0.5555555555555556,
             "#d8576b"
            ],
            [
             0.6666666666666666,
             "#ed7953"
            ],
            [
             0.7777777777777778,
             "#fb9f3a"
            ],
            [
             0.8888888888888888,
             "#fdca26"
            ],
            [
             1,
             "#f0f921"
            ]
           ]
          },
          "colorway": [
           "#636efa",
           "#EF553B",
           "#00cc96",
           "#ab63fa",
           "#FFA15A",
           "#19d3f3",
           "#FF6692",
           "#B6E880",
           "#FF97FF",
           "#FECB52"
          ],
          "font": {
           "color": "#2a3f5f"
          },
          "geo": {
           "bgcolor": "white",
           "lakecolor": "white",
           "landcolor": "#E5ECF6",
           "showlakes": true,
           "showland": true,
           "subunitcolor": "white"
          },
          "hoverlabel": {
           "align": "left"
          },
          "hovermode": "closest",
          "mapbox": {
           "style": "light"
          },
          "paper_bgcolor": "white",
          "plot_bgcolor": "#E5ECF6",
          "polar": {
           "angularaxis": {
            "gridcolor": "white",
            "linecolor": "white",
            "ticks": ""
           },
           "bgcolor": "#E5ECF6",
           "radialaxis": {
            "gridcolor": "white",
            "linecolor": "white",
            "ticks": ""
           }
          },
          "scene": {
           "xaxis": {
            "backgroundcolor": "#E5ECF6",
            "gridcolor": "white",
            "gridwidth": 2,
            "linecolor": "white",
            "showbackground": true,
            "ticks": "",
            "zerolinecolor": "white"
           },
           "yaxis": {
            "backgroundcolor": "#E5ECF6",
            "gridcolor": "white",
            "gridwidth": 2,
            "linecolor": "white",
            "showbackground": true,
            "ticks": "",
            "zerolinecolor": "white"
           },
           "zaxis": {
            "backgroundcolor": "#E5ECF6",
            "gridcolor": "white",
            "gridwidth": 2,
            "linecolor": "white",
            "showbackground": true,
            "ticks": "",
            "zerolinecolor": "white"
           }
          },
          "shapedefaults": {
           "line": {
            "color": "#2a3f5f"
           }
          },
          "ternary": {
           "aaxis": {
            "gridcolor": "white",
            "linecolor": "white",
            "ticks": ""
           },
           "baxis": {
            "gridcolor": "white",
            "linecolor": "white",
            "ticks": ""
           },
           "bgcolor": "#E5ECF6",
           "caxis": {
            "gridcolor": "white",
            "linecolor": "white",
            "ticks": ""
           }
          },
          "title": {
           "x": 0.05
          },
          "xaxis": {
           "automargin": true,
           "gridcolor": "white",
           "linecolor": "white",
           "ticks": "",
           "title": {
            "standoff": 15
           },
           "zerolinecolor": "white",
           "zerolinewidth": 2
          },
          "yaxis": {
           "automargin": true,
           "gridcolor": "white",
           "linecolor": "white",
           "ticks": "",
           "title": {
            "standoff": 15
           },
           "zerolinecolor": "white",
           "zerolinewidth": 2
          }
         }
        },
        "width": 2000,
        "xaxis": {
         "anchor": "y",
         "domain": [
          0,
          0.14666666666666667
         ],
         "title": {
          "text": "Attack"
         }
        },
        "xaxis10": {
         "anchor": "y10",
         "domain": [
          0.5,
          0.6466666666666667
         ],
         "matches": "x",
         "showticklabels": false
        },
        "xaxis11": {
         "anchor": "y11",
         "domain": [
          0.6666666666666666,
          0.8133333333333332
         ],
         "matches": "x",
         "showticklabels": false
        },
        "xaxis12": {
         "anchor": "y12",
         "domain": [
          0.8333333333333334,
          0.98
         ],
         "matches": "x",
         "showticklabels": false
        },
        "xaxis2": {
         "anchor": "y2",
         "domain": [
          0.16666666666666666,
          0.31333333333333335
         ],
         "matches": "x",
         "title": {
          "text": "Attack"
         }
        },
        "xaxis3": {
         "anchor": "y3",
         "domain": [
          0.3333333333333333,
          0.48
         ],
         "matches": "x",
         "title": {
          "text": "Attack"
         }
        },
        "xaxis4": {
         "anchor": "y4",
         "domain": [
          0.5,
          0.6466666666666667
         ],
         "matches": "x",
         "title": {
          "text": "Attack"
         }
        },
        "xaxis5": {
         "anchor": "y5",
         "domain": [
          0.6666666666666666,
          0.8133333333333332
         ],
         "matches": "x",
         "title": {
          "text": "Attack"
         }
        },
        "xaxis6": {
         "anchor": "y6",
         "domain": [
          0.8333333333333334,
          0.98
         ],
         "matches": "x",
         "title": {
          "text": "Attack"
         }
        },
        "xaxis7": {
         "anchor": "y7",
         "domain": [
          0,
          0.14666666666666667
         ],
         "matches": "x",
         "showticklabels": false
        },
        "xaxis8": {
         "anchor": "y8",
         "domain": [
          0.16666666666666666,
          0.31333333333333335
         ],
         "matches": "x",
         "showticklabels": false
        },
        "xaxis9": {
         "anchor": "y9",
         "domain": [
          0.3333333333333333,
          0.48
         ],
         "matches": "x",
         "showticklabels": false
        },
        "yaxis": {
         "anchor": "x",
         "domain": [
          0,
          0.485
         ],
         "title": {
          "text": "Defense"
         }
        },
        "yaxis10": {
         "anchor": "x10",
         "domain": [
          0.515,
          1
         ],
         "matches": "y",
         "showticklabels": false
        },
        "yaxis11": {
         "anchor": "x11",
         "domain": [
          0.515,
          1
         ],
         "matches": "y",
         "showticklabels": false
        },
        "yaxis12": {
         "anchor": "x12",
         "domain": [
          0.515,
          1
         ],
         "matches": "y",
         "showticklabels": false
        },
        "yaxis2": {
         "anchor": "x2",
         "domain": [
          0,
          0.485
         ],
         "matches": "y",
         "showticklabels": false
        },
        "yaxis3": {
         "anchor": "x3",
         "domain": [
          0,
          0.485
         ],
         "matches": "y",
         "showticklabels": false
        },
        "yaxis4": {
         "anchor": "x4",
         "domain": [
          0,
          0.485
         ],
         "matches": "y",
         "showticklabels": false
        },
        "yaxis5": {
         "anchor": "x5",
         "domain": [
          0,
          0.485
         ],
         "matches": "y",
         "showticklabels": false
        },
        "yaxis6": {
         "anchor": "x6",
         "domain": [
          0,
          0.485
         ],
         "matches": "y",
         "showticklabels": false
        },
        "yaxis7": {
         "anchor": "x7",
         "domain": [
          0.515,
          1
         ],
         "matches": "y",
         "title": {
          "text": "Defense"
         }
        },
        "yaxis8": {
         "anchor": "x8",
         "domain": [
          0.515,
          1
         ],
         "matches": "y",
         "showticklabels": false
        },
        "yaxis9": {
         "anchor": "x9",
         "domain": [
          0.515,
          1
         ],
         "matches": "y",
         "showticklabels": false
        }
       }
      }
     },
     "metadata": {},
     "output_type": "display_data"
    }
   ],
   "source": [
    "# make that plot interactive\n",
    "from turtle import shape\n",
    "import plotly.express as px\n",
    "\n",
    "# create interactive scatterplot\n",
    "fig = px.scatter(df, x = 'Attack', y = 'Defense', \n",
    "                 size = 'Total', color = 'Primary Type',\n",
    "                 hover_name = 'Name', facet_col = 'Generation', facet_row = 'Legendary')\n",
    "\n",
    "# add legend out of plot\n",
    "fig.update_layout(legend=dict(x=1, y=1))\n",
    "\n",
    "# adjust size of plot\n",
    "fig.update_layout(width = 2000, height = 2000)\n",
    "\n",
    "# show plot\n",
    "fig.show()\n",
    "\n",
    "# export plot to dashboard html\n",
    "fig.write_html(\"LE2_pokemon_dashboard.html\")\n"
   ]
  },
  {
   "cell_type": "code",
   "execution_count": 12,
   "metadata": {},
   "outputs": [
    {
     "data": {
      "application/vnd.plotly.v1+json": {
       "config": {
        "plotlyServerURL": "https://plot.ly"
       },
       "data": [
        {
         "hovertemplate": "<b>%{hovertext}</b><br><br>Primary Type=Grass<br>#=%{x}<br>Total=%{marker.size}<extra></extra>",
         "hovertext": [
          "Bulbasaur",
          "Ivysaur",
          "Venusaur",
          "VenusaurMega Venusaur",
          "Oddish",
          "Gloom",
          "Vileplume",
          "Bellsprout",
          "Weepinbell",
          "Victreebel",
          "Exeggcute",
          "Exeggutor",
          "Tangela",
          "Chikorita",
          "Bayleef",
          "Meganium",
          "Bellossom",
          "Hoppip",
          "Skiploom",
          "Jumpluff",
          "Sunkern",
          "Sunflora",
          "Treecko",
          "Grovyle",
          "Sceptile",
          "SceptileMega Sceptile",
          "Seedot",
          "Nuzleaf",
          "Shiftry",
          "Shroomish",
          "Breloom",
          "Roselia",
          "Cacnea",
          "Cacturne",
          "Tropius",
          "Turtwig",
          "Grotle",
          "Torterra",
          "Budew",
          "Roserade",
          "Cherubi",
          "Cherrim",
          "Carnivine",
          "Snover",
          "Abomasnow",
          "AbomasnowMega Abomasnow",
          "Tangrowth",
          "Leafeon",
          "ShayminLand Forme",
          "ShayminSky Forme",
          "Snivy",
          "Servine",
          "Serperior",
          "Pansage",
          "Simisage",
          "Cottonee",
          "Whimsicott",
          "Petilil",
          "Lilligant",
          "Maractus",
          "Foongus",
          "Amoonguss",
          "Ferroseed",
          "Ferrothorn",
          "Virizion",
          "Chespin",
          "Quilladin",
          "Chesnaught",
          "Skiddo",
          "Gogoat"
         ],
         "legendgroup": "Grass",
         "marker": {
          "color": "#636efa",
          "size": [
           318,
           405,
           525,
           625,
           320,
           395,
           490,
           300,
           390,
           490,
           325,
           520,
           435,
           318,
           405,
           525,
           490,
           250,
           340,
           460,
           180,
           425,
           310,
           405,
           530,
           630,
           220,
           340,
           480,
           295,
           460,
           400,
           335,
           475,
           460,
           318,
           405,
           525,
           280,
           515,
           275,
           450,
           454,
           334,
           494,
           594,
           535,
           525,
           600,
           600,
           308,
           413,
           528,
           316,
           498,
           280,
           480,
           280,
           480,
           461,
           294,
           464,
           305,
           489,
           580,
           313,
           405,
           530,
           350,
           531
          ],
          "sizemode": "area",
          "sizeref": 1.95,
          "symbol": "circle"
         },
         "mode": "markers",
         "name": "Grass",
         "orientation": "v",
         "showlegend": true,
         "type": "scatter",
         "x": [
          1,
          2,
          3,
          3,
          43,
          44,
          45,
          69,
          70,
          71,
          102,
          103,
          114,
          152,
          153,
          154,
          182,
          187,
          188,
          189,
          191,
          192,
          252,
          253,
          254,
          254,
          273,
          274,
          275,
          285,
          286,
          315,
          331,
          332,
          357,
          387,
          388,
          389,
          406,
          407,
          420,
          421,
          455,
          459,
          460,
          460,
          465,
          470,
          492,
          492,
          495,
          496,
          497,
          511,
          512,
          546,
          547,
          548,
          549,
          556,
          590,
          591,
          597,
          598,
          640,
          650,
          651,
          652,
          672,
          673
         ],
         "xaxis": "x",
         "y": [
          318,
          405,
          525,
          625,
          320,
          395,
          490,
          300,
          390,
          490,
          325,
          520,
          435,
          318,
          405,
          525,
          490,
          250,
          340,
          460,
          180,
          425,
          310,
          405,
          530,
          630,
          220,
          340,
          480,
          295,
          460,
          400,
          335,
          475,
          460,
          318,
          405,
          525,
          280,
          515,
          275,
          450,
          454,
          334,
          494,
          594,
          535,
          525,
          600,
          600,
          308,
          413,
          528,
          316,
          498,
          280,
          480,
          280,
          480,
          461,
          294,
          464,
          305,
          489,
          580,
          313,
          405,
          530,
          350,
          531
         ],
         "yaxis": "y"
        },
        {
         "hovertemplate": "<b>%{hovertext}</b><br><br>Primary Type=Fire<br>#=%{x}<br>Total=%{marker.size}<extra></extra>",
         "hovertext": [
          "Charmander",
          "Charmeleon",
          "Charizard",
          "CharizardMega Charizard X",
          "CharizardMega Charizard Y",
          "Vulpix",
          "Ninetales",
          "Growlithe",
          "Arcanine",
          "Ponyta",
          "Rapidash",
          "Magmar",
          "Flareon",
          "Moltres",
          "Cyndaquil",
          "Quilava",
          "Typhlosion",
          "Slugma",
          "Magcargo",
          "Magby",
          "Entei",
          "Ho-oh",
          "Torchic",
          "Combusken",
          "Blaziken",
          "BlazikenMega Blaziken",
          "Numel",
          "Camerupt",
          "CameruptMega Camerupt",
          "Torkoal",
          "Chimchar",
          "Monferno",
          "Infernape",
          "Magmortar",
          "Heatran",
          "Tepig",
          "Pignite",
          "Emboar",
          "Pansear",
          "Simisear",
          "Darumaka",
          "DarmanitanStandard Mode",
          "DarmanitanZen Mode",
          "Heatmor",
          "Fennekin",
          "Braixen",
          "Delphox",
          "Fletchinder",
          "Talonflame",
          "Litleo",
          "Pyroar",
          "Volcanion"
         ],
         "legendgroup": "Fire",
         "marker": {
          "color": "#EF553B",
          "size": [
           309,
           405,
           534,
           634,
           634,
           299,
           505,
           350,
           555,
           410,
           500,
           495,
           525,
           580,
           309,
           405,
           534,
           250,
           410,
           365,
           580,
           680,
           310,
           405,
           530,
           630,
           305,
           460,
           560,
           470,
           309,
           405,
           534,
           540,
           600,
           308,
           418,
           528,
           316,
           498,
           315,
           480,
           540,
           484,
           307,
           409,
           534,
           382,
           499,
           369,
           507,
           600
          ],
          "sizemode": "area",
          "sizeref": 1.95,
          "symbol": "circle"
         },
         "mode": "markers",
         "name": "Fire",
         "orientation": "v",
         "showlegend": true,
         "type": "scatter",
         "x": [
          4,
          5,
          6,
          6,
          6,
          37,
          38,
          58,
          59,
          77,
          78,
          126,
          136,
          146,
          155,
          156,
          157,
          218,
          219,
          240,
          244,
          250,
          255,
          256,
          257,
          257,
          322,
          323,
          323,
          324,
          390,
          391,
          392,
          467,
          485,
          498,
          499,
          500,
          513,
          514,
          554,
          555,
          555,
          631,
          653,
          654,
          655,
          662,
          663,
          667,
          668,
          721
         ],
         "xaxis": "x",
         "y": [
          309,
          405,
          534,
          634,
          634,
          299,
          505,
          350,
          555,
          410,
          500,
          495,
          525,
          580,
          309,
          405,
          534,
          250,
          410,
          365,
          580,
          680,
          310,
          405,
          530,
          630,
          305,
          460,
          560,
          470,
          309,
          405,
          534,
          540,
          600,
          308,
          418,
          528,
          316,
          498,
          315,
          480,
          540,
          484,
          307,
          409,
          534,
          382,
          499,
          369,
          507,
          600
         ],
         "yaxis": "y"
        },
        {
         "hovertemplate": "<b>%{hovertext}</b><br><br>Primary Type=Water<br>#=%{x}<br>Total=%{marker.size}<extra></extra>",
         "hovertext": [
          "Squirtle",
          "Wartortle",
          "Blastoise",
          "BlastoiseMega Blastoise",
          "Psyduck",
          "Golduck",
          "Poliwag",
          "Poliwhirl",
          "Poliwrath",
          "Tentacool",
          "Tentacruel",
          "Slowpoke",
          "Slowbro",
          "SlowbroMega Slowbro",
          "Seel",
          "Dewgong",
          "Shellder",
          "Cloyster",
          "Krabby",
          "Kingler",
          "Horsea",
          "Seadra",
          "Goldeen",
          "Seaking",
          "Staryu",
          "Starmie",
          "Magikarp",
          "Gyarados",
          "GyaradosMega Gyarados",
          "Lapras",
          "Vaporeon",
          "Totodile",
          "Croconaw",
          "Feraligatr",
          "Chinchou",
          "Lanturn",
          "Marill",
          "Azumarill",
          "Politoed",
          "Wooper",
          "Quagsire",
          "Slowking",
          "Qwilfish",
          "Corsola",
          "Remoraid",
          "Octillery",
          "Mantine",
          "Kingdra",
          "Suicune",
          "Mudkip",
          "Marshtomp",
          "Swampert",
          "SwampertMega Swampert",
          "Lotad",
          "Lombre",
          "Ludicolo",
          "Wingull",
          "Pelipper",
          "Carvanha",
          "Sharpedo",
          "SharpedoMega Sharpedo",
          "Wailmer",
          "Wailord",
          "Barboach",
          "Whiscash",
          "Corphish",
          "Crawdaunt",
          "Feebas",
          "Milotic",
          "Clamperl",
          "Huntail",
          "Gorebyss",
          "Relicanth",
          "Luvdisc",
          "Kyogre",
          "KyogrePrimal Kyogre",
          "Piplup",
          "Prinplup",
          "Empoleon",
          "Buizel",
          "Floatzel",
          "Shellos",
          "Gastrodon",
          "Finneon",
          "Lumineon",
          "Mantyke",
          "Palkia",
          "Phione",
          "Manaphy",
          "Oshawott",
          "Dewott",
          "Samurott",
          "Panpour",
          "Simipour",
          "Tympole",
          "Palpitoad",
          "Seismitoad",
          "Basculin",
          "Tirtouga",
          "Carracosta",
          "Ducklett",
          "Swanna",
          "Frillish",
          "Jellicent",
          "Alomomola",
          "KeldeoOrdinary Forme",
          "KeldeoResolute Forme",
          "Froakie",
          "Frogadier",
          "Greninja",
          "Clauncher",
          "Clawitzer"
         ],
         "legendgroup": "Water",
         "marker": {
          "color": "#00cc96",
          "size": [
           314,
           405,
           530,
           630,
           320,
           500,
           300,
           385,
           510,
           335,
           515,
           315,
           490,
           590,
           325,
           475,
           305,
           525,
           325,
           475,
           295,
           440,
           320,
           450,
           340,
           520,
           200,
           540,
           640,
           535,
           525,
           314,
           405,
           530,
           330,
           460,
           250,
           420,
           500,
           210,
           430,
           490,
           430,
           380,
           300,
           480,
           465,
           540,
           580,
           310,
           405,
           535,
           635,
           220,
           340,
           480,
           270,
           430,
           305,
           460,
           560,
           400,
           500,
           288,
           468,
           308,
           468,
           200,
           540,
           345,
           485,
           485,
           485,
           330,
           670,
           770,
           314,
           405,
           530,
           330,
           495,
           325,
           475,
           330,
           460,
           345,
           680,
           480,
           600,
           308,
           413,
           528,
           316,
           498,
           294,
           384,
           509,
           460,
           355,
           495,
           305,
           473,
           335,
           480,
           470,
           580,
           580,
           314,
           405,
           530,
           330,
           500
          ],
          "sizemode": "area",
          "sizeref": 1.95,
          "symbol": "circle"
         },
         "mode": "markers",
         "name": "Water",
         "orientation": "v",
         "showlegend": true,
         "type": "scatter",
         "x": [
          7,
          8,
          9,
          9,
          54,
          55,
          60,
          61,
          62,
          72,
          73,
          79,
          80,
          80,
          86,
          87,
          90,
          91,
          98,
          99,
          116,
          117,
          118,
          119,
          120,
          121,
          129,
          130,
          130,
          131,
          134,
          158,
          159,
          160,
          170,
          171,
          183,
          184,
          186,
          194,
          195,
          199,
          211,
          222,
          223,
          224,
          226,
          230,
          245,
          258,
          259,
          260,
          260,
          270,
          271,
          272,
          278,
          279,
          318,
          319,
          319,
          320,
          321,
          339,
          340,
          341,
          342,
          349,
          350,
          366,
          367,
          368,
          369,
          370,
          382,
          382,
          393,
          394,
          395,
          418,
          419,
          422,
          423,
          456,
          457,
          458,
          484,
          489,
          490,
          501,
          502,
          503,
          515,
          516,
          535,
          536,
          537,
          550,
          564,
          565,
          580,
          581,
          592,
          593,
          594,
          647,
          647,
          656,
          657,
          658,
          692,
          693
         ],
         "xaxis": "x",
         "y": [
          314,
          405,
          530,
          630,
          320,
          500,
          300,
          385,
          510,
          335,
          515,
          315,
          490,
          590,
          325,
          475,
          305,
          525,
          325,
          475,
          295,
          440,
          320,
          450,
          340,
          520,
          200,
          540,
          640,
          535,
          525,
          314,
          405,
          530,
          330,
          460,
          250,
          420,
          500,
          210,
          430,
          490,
          430,
          380,
          300,
          480,
          465,
          540,
          580,
          310,
          405,
          535,
          635,
          220,
          340,
          480,
          270,
          430,
          305,
          460,
          560,
          400,
          500,
          288,
          468,
          308,
          468,
          200,
          540,
          345,
          485,
          485,
          485,
          330,
          670,
          770,
          314,
          405,
          530,
          330,
          495,
          325,
          475,
          330,
          460,
          345,
          680,
          480,
          600,
          308,
          413,
          528,
          316,
          498,
          294,
          384,
          509,
          460,
          355,
          495,
          305,
          473,
          335,
          480,
          470,
          580,
          580,
          314,
          405,
          530,
          330,
          500
         ],
         "yaxis": "y"
        },
        {
         "hovertemplate": "<b>%{hovertext}</b><br><br>Primary Type=Bug<br>#=%{x}<br>Total=%{marker.size}<extra></extra>",
         "hovertext": [
          "Caterpie",
          "Metapod",
          "Butterfree",
          "Weedle",
          "Kakuna",
          "Beedrill",
          "BeedrillMega Beedrill",
          "Paras",
          "Parasect",
          "Venonat",
          "Venomoth",
          "Scyther",
          "Pinsir",
          "PinsirMega Pinsir",
          "Ledyba",
          "Ledian",
          "Spinarak",
          "Ariados",
          "Yanma",
          "Pineco",
          "Forretress",
          "Scizor",
          "ScizorMega Scizor",
          "Shuckle",
          "Heracross",
          "HeracrossMega Heracross",
          "Wurmple",
          "Silcoon",
          "Beautifly",
          "Cascoon",
          "Dustox",
          "Surskit",
          "Masquerain",
          "Nincada",
          "Ninjask",
          "Shedinja",
          "Volbeat",
          "Illumise",
          "Kricketot",
          "Kricketune",
          "Burmy",
          "WormadamPlant Cloak",
          "WormadamSandy Cloak",
          "WormadamTrash Cloak",
          "Mothim",
          "Combee",
          "Vespiquen",
          "Yanmega",
          "Sewaddle",
          "Swadloon",
          "Leavanny",
          "Venipede",
          "Whirlipede",
          "Scolipede",
          "Dwebble",
          "Crustle",
          "Karrablast",
          "Escavalier",
          "Joltik",
          "Galvantula",
          "Shelmet",
          "Accelgor",
          "Durant",
          "Larvesta",
          "Volcarona",
          "Genesect",
          "Scatterbug",
          "Spewpa",
          "Vivillon"
         ],
         "legendgroup": "Bug",
         "marker": {
          "color": "#ab63fa",
          "size": [
           195,
           205,
           395,
           195,
           205,
           395,
           495,
           285,
           405,
           305,
           450,
           500,
           500,
           600,
           265,
           390,
           250,
           390,
           390,
           290,
           465,
           500,
           600,
           505,
           500,
           600,
           195,
           205,
           395,
           205,
           385,
           269,
           414,
           266,
           456,
           236,
           400,
           400,
           194,
           384,
           224,
           424,
           424,
           424,
           424,
           244,
           474,
           515,
           310,
           380,
           500,
           260,
           360,
           485,
           325,
           475,
           315,
           495,
           319,
           472,
           305,
           495,
           484,
           360,
           550,
           600,
           200,
           213,
           411
          ],
          "sizemode": "area",
          "sizeref": 1.95,
          "symbol": "circle"
         },
         "mode": "markers",
         "name": "Bug",
         "orientation": "v",
         "showlegend": true,
         "type": "scatter",
         "x": [
          10,
          11,
          12,
          13,
          14,
          15,
          15,
          46,
          47,
          48,
          49,
          123,
          127,
          127,
          165,
          166,
          167,
          168,
          193,
          204,
          205,
          212,
          212,
          213,
          214,
          214,
          265,
          266,
          267,
          268,
          269,
          283,
          284,
          290,
          291,
          292,
          313,
          314,
          401,
          402,
          412,
          413,
          413,
          413,
          414,
          415,
          416,
          469,
          540,
          541,
          542,
          543,
          544,
          545,
          557,
          558,
          588,
          589,
          595,
          596,
          616,
          617,
          632,
          636,
          637,
          649,
          664,
          665,
          666
         ],
         "xaxis": "x",
         "y": [
          195,
          205,
          395,
          195,
          205,
          395,
          495,
          285,
          405,
          305,
          450,
          500,
          500,
          600,
          265,
          390,
          250,
          390,
          390,
          290,
          465,
          500,
          600,
          505,
          500,
          600,
          195,
          205,
          395,
          205,
          385,
          269,
          414,
          266,
          456,
          236,
          400,
          400,
          194,
          384,
          224,
          424,
          424,
          424,
          424,
          244,
          474,
          515,
          310,
          380,
          500,
          260,
          360,
          485,
          325,
          475,
          315,
          495,
          319,
          472,
          305,
          495,
          484,
          360,
          550,
          600,
          200,
          213,
          411
         ],
         "yaxis": "y"
        },
        {
         "hovertemplate": "<b>%{hovertext}</b><br><br>Primary Type=Normal<br>#=%{x}<br>Total=%{marker.size}<extra></extra>",
         "hovertext": [
          "Pidgey",
          "Pidgeotto",
          "Pidgeot",
          "PidgeotMega Pidgeot",
          "Rattata",
          "Raticate",
          "Spearow",
          "Fearow",
          "Jigglypuff",
          "Wigglytuff",
          "Meowth",
          "Persian",
          "Farfetch'd",
          "Doduo",
          "Dodrio",
          "Lickitung",
          "Chansey",
          "Kangaskhan",
          "KangaskhanMega Kangaskhan",
          "Tauros",
          "Ditto",
          "Eevee",
          "Porygon",
          "Snorlax",
          "Sentret",
          "Furret",
          "Hoothoot",
          "Noctowl",
          "Igglybuff",
          "Aipom",
          "Girafarig",
          "Dunsparce",
          "Teddiursa",
          "Ursaring",
          "Porygon2",
          "Stantler",
          "Smeargle",
          "Miltank",
          "Blissey",
          "Zigzagoon",
          "Linoone",
          "Taillow",
          "Swellow",
          "Slakoth",
          "Vigoroth",
          "Slaking",
          "Whismur",
          "Loudred",
          "Exploud",
          "Azurill",
          "Skitty",
          "Delcatty",
          "Spinda",
          "Swablu",
          "Zangoose",
          "Castform",
          "Kecleon",
          "Starly",
          "Staravia",
          "Staraptor",
          "Bidoof",
          "Bibarel",
          "Ambipom",
          "Buneary",
          "Lopunny",
          "LopunnyMega Lopunny",
          "Glameow",
          "Purugly",
          "Happiny",
          "Chatot",
          "Munchlax",
          "Lickilicky",
          "Porygon-Z",
          "Regigigas",
          "Arceus",
          "Patrat",
          "Watchog",
          "Lillipup",
          "Herdier",
          "Stoutland",
          "Pidove",
          "Tranquill",
          "Unfezant",
          "Audino",
          "AudinoMega Audino",
          "Minccino",
          "Cinccino",
          "Deerling",
          "Sawsbuck",
          "Bouffalant",
          "Rufflet",
          "Braviary",
          "MeloettaAria Forme",
          "MeloettaPirouette Forme",
          "Bunnelby",
          "Diggersby",
          "Fletchling",
          "Furfrou"
         ],
         "legendgroup": "Normal",
         "marker": {
          "color": "#FFA15A",
          "size": [
           251,
           349,
           479,
           579,
           253,
           413,
           262,
           442,
           270,
           435,
           290,
           440,
           352,
           310,
           460,
           385,
           450,
           490,
           590,
           490,
           288,
           325,
           395,
           540,
           215,
           415,
           262,
           442,
           210,
           360,
           455,
           415,
           330,
           500,
           515,
           465,
           250,
           490,
           540,
           240,
           420,
           270,
           430,
           280,
           440,
           670,
           240,
           360,
           490,
           190,
           260,
           380,
           360,
           310,
           458,
           420,
           440,
           245,
           340,
           485,
           250,
           410,
           482,
           350,
           480,
           580,
           310,
           452,
           220,
           411,
           390,
           515,
           535,
           670,
           720,
           255,
           420,
           275,
           370,
           500,
           264,
           358,
           488,
           445,
           545,
           300,
           470,
           335,
           475,
           490,
           350,
           510,
           600,
           600,
           237,
           423,
           278,
           472
          ],
          "sizemode": "area",
          "sizeref": 1.95,
          "symbol": "circle"
         },
         "mode": "markers",
         "name": "Normal",
         "orientation": "v",
         "showlegend": true,
         "type": "scatter",
         "x": [
          16,
          17,
          18,
          18,
          19,
          20,
          21,
          22,
          39,
          40,
          52,
          53,
          83,
          84,
          85,
          108,
          113,
          115,
          115,
          128,
          132,
          133,
          137,
          143,
          161,
          162,
          163,
          164,
          174,
          190,
          203,
          206,
          216,
          217,
          233,
          234,
          235,
          241,
          242,
          263,
          264,
          276,
          277,
          287,
          288,
          289,
          293,
          294,
          295,
          298,
          300,
          301,
          327,
          333,
          335,
          351,
          352,
          396,
          397,
          398,
          399,
          400,
          424,
          427,
          428,
          428,
          431,
          432,
          440,
          441,
          446,
          463,
          474,
          486,
          493,
          504,
          505,
          506,
          507,
          508,
          519,
          520,
          521,
          531,
          531,
          572,
          573,
          585,
          586,
          626,
          627,
          628,
          648,
          648,
          659,
          660,
          661,
          676
         ],
         "xaxis": "x",
         "y": [
          251,
          349,
          479,
          579,
          253,
          413,
          262,
          442,
          270,
          435,
          290,
          440,
          352,
          310,
          460,
          385,
          450,
          490,
          590,
          490,
          288,
          325,
          395,
          540,
          215,
          415,
          262,
          442,
          210,
          360,
          455,
          415,
          330,
          500,
          515,
          465,
          250,
          490,
          540,
          240,
          420,
          270,
          430,
          280,
          440,
          670,
          240,
          360,
          490,
          190,
          260,
          380,
          360,
          310,
          458,
          420,
          440,
          245,
          340,
          485,
          250,
          410,
          482,
          350,
          480,
          580,
          310,
          452,
          220,
          411,
          390,
          515,
          535,
          670,
          720,
          255,
          420,
          275,
          370,
          500,
          264,
          358,
          488,
          445,
          545,
          300,
          470,
          335,
          475,
          490,
          350,
          510,
          600,
          600,
          237,
          423,
          278,
          472
         ],
         "yaxis": "y"
        },
        {
         "hovertemplate": "<b>%{hovertext}</b><br><br>Primary Type=Poison<br>#=%{x}<br>Total=%{marker.size}<extra></extra>",
         "hovertext": [
          "Ekans",
          "Arbok",
          "Nidoran (Female)",
          "Nidorina",
          "Nidoqueen",
          "Nidoran (Male)",
          "Nidorino",
          "Nidoking",
          "Zubat",
          "Golbat",
          "Grimer",
          "Muk",
          "Koffing",
          "Weezing",
          "Crobat",
          "Gulpin",
          "Swalot",
          "Seviper",
          "Stunky",
          "Skuntank",
          "Skorupi",
          "Drapion",
          "Croagunk",
          "Toxicroak",
          "Trubbish",
          "Garbodor",
          "Skrelp",
          "Dragalge"
         ],
         "legendgroup": "Poison",
         "marker": {
          "color": "#19d3f3",
          "size": [
           288,
           438,
           275,
           365,
           505,
           273,
           365,
           505,
           245,
           455,
           325,
           500,
           340,
           490,
           535,
           302,
           467,
           458,
           329,
           479,
           330,
           500,
           300,
           490,
           329,
           474,
           320,
           494
          ],
          "sizemode": "area",
          "sizeref": 1.95,
          "symbol": "circle"
         },
         "mode": "markers",
         "name": "Poison",
         "orientation": "v",
         "showlegend": true,
         "type": "scatter",
         "x": [
          23,
          24,
          29,
          30,
          31,
          32,
          33,
          34,
          41,
          42,
          88,
          89,
          109,
          110,
          169,
          316,
          317,
          336,
          434,
          435,
          451,
          452,
          453,
          454,
          568,
          569,
          690,
          691
         ],
         "xaxis": "x",
         "y": [
          288,
          438,
          275,
          365,
          505,
          273,
          365,
          505,
          245,
          455,
          325,
          500,
          340,
          490,
          535,
          302,
          467,
          458,
          329,
          479,
          330,
          500,
          300,
          490,
          329,
          474,
          320,
          494
         ],
         "yaxis": "y"
        },
        {
         "hovertemplate": "<b>%{hovertext}</b><br><br>Primary Type=Electric<br>#=%{x}<br>Total=%{marker.size}<extra></extra>",
         "hovertext": [
          "Pikachu",
          "Raichu",
          "Magnemite",
          "Magneton",
          "Voltorb",
          "Electrode",
          "Electabuzz",
          "Jolteon",
          "Zapdos",
          "Pichu",
          "Mareep",
          "Flaaffy",
          "Ampharos",
          "AmpharosMega Ampharos",
          "Elekid",
          "Raikou",
          "Electrike",
          "Manectric",
          "ManectricMega Manectric",
          "Plusle",
          "Minun",
          "Shinx",
          "Luxio",
          "Luxray",
          "Pachirisu",
          "Magnezone",
          "Electivire",
          "Rotom",
          "RotomHeat Rotom",
          "RotomWash Rotom",
          "RotomFrost Rotom",
          "RotomFan Rotom",
          "RotomMow Rotom",
          "Blitzle",
          "Zebstrika",
          "Emolga",
          "Tynamo",
          "Eelektrik",
          "Eelektross",
          "ThundurusIncarnate Forme",
          "ThundurusTherian Forme",
          "Helioptile",
          "Heliolisk",
          "Dedenne"
         ],
         "legendgroup": "Electric",
         "marker": {
          "color": "#FF6692",
          "size": [
           320,
           485,
           325,
           465,
           330,
           480,
           490,
           525,
           580,
           205,
           280,
           365,
           510,
           610,
           360,
           580,
           295,
           475,
           575,
           405,
           405,
           263,
           363,
           523,
           405,
           535,
           540,
           440,
           520,
           520,
           520,
           520,
           520,
           295,
           497,
           428,
           275,
           405,
           515,
           580,
           580,
           289,
           481,
           431
          ],
          "sizemode": "area",
          "sizeref": 1.95,
          "symbol": "circle"
         },
         "mode": "markers",
         "name": "Electric",
         "orientation": "v",
         "showlegend": true,
         "type": "scatter",
         "x": [
          25,
          26,
          81,
          82,
          100,
          101,
          125,
          135,
          145,
          172,
          179,
          180,
          181,
          181,
          239,
          243,
          309,
          310,
          310,
          311,
          312,
          403,
          404,
          405,
          417,
          462,
          466,
          479,
          479,
          479,
          479,
          479,
          479,
          522,
          523,
          587,
          602,
          603,
          604,
          642,
          642,
          694,
          695,
          702
         ],
         "xaxis": "x",
         "y": [
          320,
          485,
          325,
          465,
          330,
          480,
          490,
          525,
          580,
          205,
          280,
          365,
          510,
          610,
          360,
          580,
          295,
          475,
          575,
          405,
          405,
          263,
          363,
          523,
          405,
          535,
          540,
          440,
          520,
          520,
          520,
          520,
          520,
          295,
          497,
          428,
          275,
          405,
          515,
          580,
          580,
          289,
          481,
          431
         ],
         "yaxis": "y"
        },
        {
         "hovertemplate": "<b>%{hovertext}</b><br><br>Primary Type=Ground<br>#=%{x}<br>Total=%{marker.size}<extra></extra>",
         "hovertext": [
          "Sandshrew",
          "Sandslash",
          "Diglett",
          "Dugtrio",
          "Cubone",
          "Marowak",
          "Rhyhorn",
          "Rhydon",
          "Gligar",
          "Phanpy",
          "Donphan",
          "Trapinch",
          "Vibrava",
          "Flygon",
          "Baltoy",
          "Claydol",
          "Groudon",
          "GroudonPrimal Groudon",
          "Hippopotas",
          "Hippowdon",
          "Rhyperior",
          "Gliscor",
          "Drilbur",
          "Excadrill",
          "Sandile",
          "Krokorok",
          "Krookodile",
          "Stunfisk",
          "Golett",
          "Golurk",
          "LandorusIncarnate Forme",
          "LandorusTherian Forme"
         ],
         "legendgroup": "Ground",
         "marker": {
          "color": "#B6E880",
          "size": [
           300,
           450,
           265,
           405,
           320,
           425,
           345,
           485,
           430,
           330,
           500,
           290,
           340,
           520,
           300,
           500,
           670,
           770,
           330,
           525,
           535,
           510,
           328,
           508,
           292,
           351,
           519,
           471,
           303,
           483,
           600,
           600
          ],
          "sizemode": "area",
          "sizeref": 1.95,
          "symbol": "circle"
         },
         "mode": "markers",
         "name": "Ground",
         "orientation": "v",
         "showlegend": true,
         "type": "scatter",
         "x": [
          27,
          28,
          50,
          51,
          104,
          105,
          111,
          112,
          207,
          231,
          232,
          328,
          329,
          330,
          343,
          344,
          383,
          383,
          449,
          450,
          464,
          472,
          529,
          530,
          551,
          552,
          553,
          618,
          622,
          623,
          645,
          645
         ],
         "xaxis": "x",
         "y": [
          300,
          450,
          265,
          405,
          320,
          425,
          345,
          485,
          430,
          330,
          500,
          290,
          340,
          520,
          300,
          500,
          670,
          770,
          330,
          525,
          535,
          510,
          328,
          508,
          292,
          351,
          519,
          471,
          303,
          483,
          600,
          600
         ],
         "yaxis": "y"
        },
        {
         "hovertemplate": "<b>%{hovertext}</b><br><br>Primary Type=Fairy<br>#=%{x}<br>Total=%{marker.size}<extra></extra>",
         "hovertext": [
          "Clefairy",
          "Clefable",
          "Cleffa",
          "Togepi",
          "Togetic",
          "Snubbull",
          "Granbull",
          "Togekiss",
          "Flabébé",
          "Floette",
          "Florges",
          "Spritzee",
          "Aromatisse",
          "Swirlix",
          "Slurpuff",
          "Sylveon",
          "Xerneas"
         ],
         "legendgroup": "Fairy",
         "marker": {
          "color": "#FF97FF",
          "size": [
           323,
           483,
           218,
           245,
           405,
           300,
           450,
           545,
           303,
           371,
           552,
           341,
           462,
           341,
           480,
           525,
           680
          ],
          "sizemode": "area",
          "sizeref": 1.95,
          "symbol": "circle"
         },
         "mode": "markers",
         "name": "Fairy",
         "orientation": "v",
         "showlegend": true,
         "type": "scatter",
         "x": [
          35,
          36,
          173,
          175,
          176,
          209,
          210,
          468,
          669,
          670,
          671,
          682,
          683,
          684,
          685,
          700,
          716
         ],
         "xaxis": "x",
         "y": [
          323,
          483,
          218,
          245,
          405,
          300,
          450,
          545,
          303,
          371,
          552,
          341,
          462,
          341,
          480,
          525,
          680
         ],
         "yaxis": "y"
        },
        {
         "hovertemplate": "<b>%{hovertext}</b><br><br>Primary Type=Fighting<br>#=%{x}<br>Total=%{marker.size}<extra></extra>",
         "hovertext": [
          "Mankey",
          "Primeape",
          "Machop",
          "Machoke",
          "Machamp",
          "Hitmonlee",
          "Hitmonchan",
          "Tyrogue",
          "Hitmontop",
          "Makuhita",
          "Hariyama",
          "Meditite",
          "Medicham",
          "MedichamMega Medicham",
          "Riolu",
          "Lucario",
          "LucarioMega Lucario",
          "Timburr",
          "Gurdurr",
          "Conkeldurr",
          "Throh",
          "Sawk",
          "Mienfoo",
          "Mienshao",
          "Pancham",
          "Pangoro",
          "Hawlucha"
         ],
         "legendgroup": "Fighting",
         "marker": {
          "color": "#FECB52",
          "size": [
           305,
           455,
           305,
           405,
           505,
           455,
           455,
           210,
           455,
           237,
           474,
           280,
           410,
           510,
           285,
           525,
           625,
           305,
           405,
           505,
           465,
           465,
           350,
           510,
           348,
           495,
           500
          ],
          "sizemode": "area",
          "sizeref": 1.95,
          "symbol": "circle"
         },
         "mode": "markers",
         "name": "Fighting",
         "orientation": "v",
         "showlegend": true,
         "type": "scatter",
         "x": [
          56,
          57,
          66,
          67,
          68,
          106,
          107,
          236,
          237,
          296,
          297,
          307,
          308,
          308,
          447,
          448,
          448,
          532,
          533,
          534,
          538,
          539,
          619,
          620,
          674,
          675,
          701
         ],
         "xaxis": "x",
         "y": [
          305,
          455,
          305,
          405,
          505,
          455,
          455,
          210,
          455,
          237,
          474,
          280,
          410,
          510,
          285,
          525,
          625,
          305,
          405,
          505,
          465,
          465,
          350,
          510,
          348,
          495,
          500
         ],
         "yaxis": "y"
        },
        {
         "hovertemplate": "<b>%{hovertext}</b><br><br>Primary Type=Psychic<br>#=%{x}<br>Total=%{marker.size}<extra></extra>",
         "hovertext": [
          "Abra",
          "Kadabra",
          "Alakazam",
          "AlakazamMega Alakazam",
          "Drowzee",
          "Hypno",
          "Mr. Mime",
          "Mewtwo",
          "MewtwoMega Mewtwo X",
          "MewtwoMega Mewtwo Y",
          "Mew",
          "Natu",
          "Xatu",
          "Espeon",
          "Unown",
          "Wobbuffet",
          "Lugia",
          "Celebi",
          "Ralts",
          "Kirlia",
          "Gardevoir",
          "GardevoirMega Gardevoir",
          "Spoink",
          "Grumpig",
          "Chimecho",
          "Wynaut",
          "DeoxysNormal Forme",
          "DeoxysAttack Forme",
          "DeoxysDefense Forme",
          "DeoxysSpeed Forme",
          "Chingling",
          "Mime Jr.",
          "Gallade",
          "GalladeMega Gallade",
          "Uxie",
          "Mesprit",
          "Azelf",
          "Cresselia",
          "Victini",
          "Munna",
          "Musharna",
          "Woobat",
          "Swoobat",
          "Sigilyph",
          "Gothita",
          "Gothorita",
          "Gothitelle",
          "Solosis",
          "Duosion",
          "Reuniclus",
          "Elgyem",
          "Beheeyem",
          "Espurr",
          "MeowsticMale",
          "MeowsticFemale",
          "HoopaHoopa Confined",
          "HoopaHoopa Unbound"
         ],
         "legendgroup": "Psychic",
         "marker": {
          "color": "#636efa",
          "size": [
           310,
           400,
           500,
           590,
           328,
           483,
           460,
           680,
           780,
           780,
           600,
           320,
           470,
           525,
           336,
           405,
           680,
           600,
           198,
           278,
           518,
           618,
           330,
           470,
           425,
           260,
           600,
           600,
           600,
           600,
           285,
           310,
           518,
           618,
           580,
           580,
           580,
           600,
           600,
           292,
           487,
           313,
           425,
           490,
           290,
           390,
           490,
           290,
           370,
           490,
           335,
           485,
           355,
           466,
           466,
           600,
           680
          ],
          "sizemode": "area",
          "sizeref": 1.95,
          "symbol": "circle"
         },
         "mode": "markers",
         "name": "Psychic",
         "orientation": "v",
         "showlegend": true,
         "type": "scatter",
         "x": [
          63,
          64,
          65,
          65,
          96,
          97,
          122,
          150,
          150,
          150,
          151,
          177,
          178,
          196,
          201,
          202,
          249,
          251,
          280,
          281,
          282,
          282,
          325,
          326,
          358,
          360,
          386,
          386,
          386,
          386,
          433,
          439,
          475,
          475,
          480,
          481,
          482,
          488,
          494,
          517,
          518,
          527,
          528,
          561,
          574,
          575,
          576,
          577,
          578,
          579,
          605,
          606,
          677,
          678,
          678,
          720,
          720
         ],
         "xaxis": "x",
         "y": [
          310,
          400,
          500,
          590,
          328,
          483,
          460,
          680,
          780,
          780,
          600,
          320,
          470,
          525,
          336,
          405,
          680,
          600,
          198,
          278,
          518,
          618,
          330,
          470,
          425,
          260,
          600,
          600,
          600,
          600,
          285,
          310,
          518,
          618,
          580,
          580,
          580,
          600,
          600,
          292,
          487,
          313,
          425,
          490,
          290,
          390,
          490,
          290,
          370,
          490,
          335,
          485,
          355,
          466,
          466,
          600,
          680
         ],
         "yaxis": "y"
        },
        {
         "hovertemplate": "<b>%{hovertext}</b><br><br>Primary Type=Rock<br>#=%{x}<br>Total=%{marker.size}<extra></extra>",
         "hovertext": [
          "Geodude",
          "Graveler",
          "Golem",
          "Onix",
          "Omanyte",
          "Omastar",
          "Kabuto",
          "Kabutops",
          "Aerodactyl",
          "AerodactylMega Aerodactyl",
          "Sudowoodo",
          "Larvitar",
          "Pupitar",
          "Tyranitar",
          "TyranitarMega Tyranitar",
          "Nosepass",
          "Lunatone",
          "Solrock",
          "Lileep",
          "Cradily",
          "Anorith",
          "Armaldo",
          "Regirock",
          "Cranidos",
          "Rampardos",
          "Shieldon",
          "Bastiodon",
          "Bonsly",
          "Probopass",
          "Roggenrola",
          "Boldore",
          "Gigalith",
          "Archen",
          "Archeops",
          "Terrakion",
          "Binacle",
          "Barbaracle",
          "Tyrunt",
          "Tyrantrum",
          "Amaura",
          "Aurorus",
          "Carbink",
          "Diancie",
          "DiancieMega Diancie"
         ],
         "legendgroup": "Rock",
         "marker": {
          "color": "#EF553B",
          "size": [
           300,
           390,
           495,
           385,
           355,
           495,
           355,
           495,
           515,
           615,
           410,
           300,
           410,
           600,
           700,
           375,
           440,
           440,
           355,
           495,
           355,
           495,
           580,
           350,
           495,
           350,
           495,
           290,
           525,
           280,
           390,
           515,
           401,
           567,
           580,
           306,
           500,
           362,
           521,
           362,
           521,
           500,
           600,
           700
          ],
          "sizemode": "area",
          "sizeref": 1.95,
          "symbol": "circle"
         },
         "mode": "markers",
         "name": "Rock",
         "orientation": "v",
         "showlegend": true,
         "type": "scatter",
         "x": [
          74,
          75,
          76,
          95,
          138,
          139,
          140,
          141,
          142,
          142,
          185,
          246,
          247,
          248,
          248,
          299,
          337,
          338,
          345,
          346,
          347,
          348,
          377,
          408,
          409,
          410,
          411,
          438,
          476,
          524,
          525,
          526,
          566,
          567,
          639,
          688,
          689,
          696,
          697,
          698,
          699,
          703,
          719,
          719
         ],
         "xaxis": "x",
         "y": [
          300,
          390,
          495,
          385,
          355,
          495,
          355,
          495,
          515,
          615,
          410,
          300,
          410,
          600,
          700,
          375,
          440,
          440,
          355,
          495,
          355,
          495,
          580,
          350,
          495,
          350,
          495,
          290,
          525,
          280,
          390,
          515,
          401,
          567,
          580,
          306,
          500,
          362,
          521,
          362,
          521,
          500,
          600,
          700
         ],
         "yaxis": "y"
        },
        {
         "hovertemplate": "<b>%{hovertext}</b><br><br>Primary Type=Ghost<br>#=%{x}<br>Total=%{marker.size}<extra></extra>",
         "hovertext": [
          "Gastly",
          "Haunter",
          "Gengar",
          "GengarMega Gengar",
          "Misdreavus",
          "Shuppet",
          "Banette",
          "BanetteMega Banette",
          "Duskull",
          "Dusclops",
          "Drifloon",
          "Drifblim",
          "Mismagius",
          "Spiritomb",
          "Dusknoir",
          "GiratinaAltered Forme",
          "GiratinaOrigin Forme",
          "Yamask",
          "Cofagrigus",
          "Litwick",
          "Lampent",
          "Chandelure",
          "Phantump",
          "Trevenant",
          "PumpkabooAverage Size",
          "PumpkabooSmall Size",
          "PumpkabooLarge Size",
          "PumpkabooSuper Size",
          "GourgeistAverage Size",
          "GourgeistSmall Size",
          "GourgeistLarge Size",
          "GourgeistSuper Size"
         ],
         "legendgroup": "Ghost",
         "marker": {
          "color": "#00cc96",
          "size": [
           310,
           405,
           500,
           600,
           435,
           295,
           455,
           555,
           295,
           455,
           348,
           498,
           495,
           485,
           525,
           680,
           680,
           303,
           483,
           275,
           370,
           520,
           309,
           474,
           335,
           335,
           335,
           335,
           494,
           494,
           494,
           494
          ],
          "sizemode": "area",
          "sizeref": 1.95,
          "symbol": "circle"
         },
         "mode": "markers",
         "name": "Ghost",
         "orientation": "v",
         "showlegend": true,
         "type": "scatter",
         "x": [
          92,
          93,
          94,
          94,
          200,
          353,
          354,
          354,
          355,
          356,
          425,
          426,
          429,
          442,
          477,
          487,
          487,
          562,
          563,
          607,
          608,
          609,
          708,
          709,
          710,
          710,
          710,
          710,
          711,
          711,
          711,
          711
         ],
         "xaxis": "x",
         "y": [
          310,
          405,
          500,
          600,
          435,
          295,
          455,
          555,
          295,
          455,
          348,
          498,
          495,
          485,
          525,
          680,
          680,
          303,
          483,
          275,
          370,
          520,
          309,
          474,
          335,
          335,
          335,
          335,
          494,
          494,
          494,
          494
         ],
         "yaxis": "y"
        },
        {
         "hovertemplate": "<b>%{hovertext}</b><br><br>Primary Type=Ice<br>#=%{x}<br>Total=%{marker.size}<extra></extra>",
         "hovertext": [
          "Jynx",
          "Articuno",
          "Swinub",
          "Piloswine",
          "Delibird",
          "Smoochum",
          "Snorunt",
          "Glalie",
          "GlalieMega Glalie",
          "Spheal",
          "Sealeo",
          "Walrein",
          "Regice",
          "Glaceon",
          "Mamoswine",
          "Froslass",
          "Vanillite",
          "Vanillish",
          "Vanilluxe",
          "Cubchoo",
          "Beartic",
          "Cryogonal",
          "Bergmite",
          "Avalugg"
         ],
         "legendgroup": "Ice",
         "marker": {
          "color": "#ab63fa",
          "size": [
           455,
           580,
           250,
           450,
           330,
           305,
           300,
           480,
           580,
           290,
           410,
           530,
           580,
           525,
           530,
           480,
           305,
           395,
           535,
           305,
           485,
           485,
           304,
           514
          ],
          "sizemode": "area",
          "sizeref": 1.95,
          "symbol": "circle"
         },
         "mode": "markers",
         "name": "Ice",
         "orientation": "v",
         "showlegend": true,
         "type": "scatter",
         "x": [
          124,
          144,
          220,
          221,
          225,
          238,
          361,
          362,
          362,
          363,
          364,
          365,
          378,
          471,
          473,
          478,
          582,
          583,
          584,
          613,
          614,
          615,
          712,
          713
         ],
         "xaxis": "x",
         "y": [
          455,
          580,
          250,
          450,
          330,
          305,
          300,
          480,
          580,
          290,
          410,
          530,
          580,
          525,
          530,
          480,
          305,
          395,
          535,
          305,
          485,
          485,
          304,
          514
         ],
         "yaxis": "y"
        },
        {
         "hovertemplate": "<b>%{hovertext}</b><br><br>Primary Type=Dragon<br>#=%{x}<br>Total=%{marker.size}<extra></extra>",
         "hovertext": [
          "Dratini",
          "Dragonair",
          "Dragonite",
          "Altaria",
          "AltariaMega Altaria",
          "Bagon",
          "Shelgon",
          "Salamence",
          "SalamenceMega Salamence",
          "Latias",
          "LatiasMega Latias",
          "Latios",
          "LatiosMega Latios",
          "Rayquaza",
          "RayquazaMega Rayquaza",
          "Gible",
          "Gabite",
          "Garchomp",
          "GarchompMega Garchomp",
          "Axew",
          "Fraxure",
          "Haxorus",
          "Druddigon",
          "Reshiram",
          "Zekrom",
          "Kyurem",
          "KyuremBlack Kyurem",
          "KyuremWhite Kyurem",
          "Goomy",
          "Sliggoo",
          "Goodra",
          "Zygarde50% Forme"
         ],
         "legendgroup": "Dragon",
         "marker": {
          "color": "#FFA15A",
          "size": [
           300,
           420,
           600,
           490,
           590,
           300,
           420,
           600,
           700,
           600,
           700,
           600,
           700,
           680,
           780,
           300,
           410,
           600,
           700,
           320,
           410,
           540,
           485,
           680,
           680,
           660,
           700,
           700,
           300,
           452,
           600,
           600
          ],
          "sizemode": "area",
          "sizeref": 1.95,
          "symbol": "circle"
         },
         "mode": "markers",
         "name": "Dragon",
         "orientation": "v",
         "showlegend": true,
         "type": "scatter",
         "x": [
          147,
          148,
          149,
          334,
          334,
          371,
          372,
          373,
          373,
          380,
          380,
          381,
          381,
          384,
          384,
          443,
          444,
          445,
          445,
          610,
          611,
          612,
          621,
          643,
          644,
          646,
          646,
          646,
          704,
          705,
          706,
          718
         ],
         "xaxis": "x",
         "y": [
          300,
          420,
          600,
          490,
          590,
          300,
          420,
          600,
          700,
          600,
          700,
          600,
          700,
          680,
          780,
          300,
          410,
          600,
          700,
          320,
          410,
          540,
          485,
          680,
          680,
          660,
          700,
          700,
          300,
          452,
          600,
          600
         ],
         "yaxis": "y"
        },
        {
         "hovertemplate": "<b>%{hovertext}</b><br><br>Primary Type=Dark<br>#=%{x}<br>Total=%{marker.size}<extra></extra>",
         "hovertext": [
          "Umbreon",
          "Murkrow",
          "Sneasel",
          "Houndour",
          "Houndoom",
          "HoundoomMega Houndoom",
          "Poochyena",
          "Mightyena",
          "Sableye",
          "SableyeMega Sableye",
          "Absol",
          "AbsolMega Absol",
          "Honchkrow",
          "Weavile",
          "Darkrai",
          "Purrloin",
          "Liepard",
          "Scraggy",
          "Scrafty",
          "Zorua",
          "Zoroark",
          "Pawniard",
          "Bisharp",
          "Vullaby",
          "Mandibuzz",
          "Deino",
          "Zweilous",
          "Hydreigon",
          "Inkay",
          "Malamar",
          "Yveltal"
         ],
         "legendgroup": "Dark",
         "marker": {
          "color": "#19d3f3",
          "size": [
           525,
           405,
           430,
           330,
           500,
           600,
           220,
           420,
           380,
           480,
           465,
           565,
           505,
           510,
           600,
           281,
           446,
           348,
           488,
           330,
           510,
           340,
           490,
           370,
           510,
           300,
           420,
           600,
           288,
           482,
           680
          ],
          "sizemode": "area",
          "sizeref": 1.95,
          "symbol": "circle"
         },
         "mode": "markers",
         "name": "Dark",
         "orientation": "v",
         "showlegend": true,
         "type": "scatter",
         "x": [
          197,
          198,
          215,
          228,
          229,
          229,
          261,
          262,
          302,
          302,
          359,
          359,
          430,
          461,
          491,
          509,
          510,
          559,
          560,
          570,
          571,
          624,
          625,
          629,
          630,
          633,
          634,
          635,
          686,
          687,
          717
         ],
         "xaxis": "x",
         "y": [
          525,
          405,
          430,
          330,
          500,
          600,
          220,
          420,
          380,
          480,
          465,
          565,
          505,
          510,
          600,
          281,
          446,
          348,
          488,
          330,
          510,
          340,
          490,
          370,
          510,
          300,
          420,
          600,
          288,
          482,
          680
         ],
         "yaxis": "y"
        },
        {
         "hovertemplate": "<b>%{hovertext}</b><br><br>Primary Type=Steel<br>#=%{x}<br>Total=%{marker.size}<extra></extra>",
         "hovertext": [
          "Steelix",
          "SteelixMega Steelix",
          "Skarmory",
          "Mawile",
          "MawileMega Mawile",
          "Aron",
          "Lairon",
          "Aggron",
          "AggronMega Aggron",
          "Beldum",
          "Metang",
          "Metagross",
          "MetagrossMega Metagross",
          "Registeel",
          "Jirachi",
          "Bronzor",
          "Bronzong",
          "Dialga",
          "Klink",
          "Klang",
          "Klinklang",
          "Cobalion",
          "Honedge",
          "Doublade",
          "AegislashBlade Forme",
          "AegislashShield Forme",
          "Klefki"
         ],
         "legendgroup": "Steel",
         "marker": {
          "color": "#FF6692",
          "size": [
           510,
           610,
           465,
           380,
           480,
           330,
           430,
           530,
           630,
           300,
           420,
           600,
           700,
           580,
           600,
           300,
           500,
           680,
           300,
           440,
           520,
           580,
           325,
           448,
           520,
           520,
           470
          ],
          "sizemode": "area",
          "sizeref": 1.95,
          "symbol": "circle"
         },
         "mode": "markers",
         "name": "Steel",
         "orientation": "v",
         "showlegend": true,
         "type": "scatter",
         "x": [
          208,
          208,
          227,
          303,
          303,
          304,
          305,
          306,
          306,
          374,
          375,
          376,
          376,
          379,
          385,
          436,
          437,
          483,
          599,
          600,
          601,
          638,
          679,
          680,
          681,
          681,
          707
         ],
         "xaxis": "x",
         "y": [
          510,
          610,
          465,
          380,
          480,
          330,
          430,
          530,
          630,
          300,
          420,
          600,
          700,
          580,
          600,
          300,
          500,
          680,
          300,
          440,
          520,
          580,
          325,
          448,
          520,
          520,
          470
         ],
         "yaxis": "y"
        },
        {
         "hovertemplate": "<b>%{hovertext}</b><br><br>Primary Type=Flying<br>#=%{x}<br>Total=%{marker.size}<extra></extra>",
         "hovertext": [
          "TornadusIncarnate Forme",
          "TornadusTherian Forme",
          "Noibat",
          "Noivern"
         ],
         "legendgroup": "Flying",
         "marker": {
          "color": "#B6E880",
          "size": [
           580,
           580,
           245,
           535
          ],
          "sizemode": "area",
          "sizeref": 1.95,
          "symbol": "circle"
         },
         "mode": "markers",
         "name": "Flying",
         "orientation": "v",
         "showlegend": true,
         "type": "scatter",
         "x": [
          641,
          641,
          714,
          715
         ],
         "xaxis": "x",
         "y": [
          580,
          580,
          245,
          535
         ],
         "yaxis": "y"
        }
       ],
       "layout": {
        "height": 1000,
        "legend": {
         "itemsizing": "constant",
         "title": {
          "text": "Primary Type"
         },
         "tracegroupgap": 0,
         "x": 1,
         "y": 1
        },
        "margin": {
         "t": 60
        },
        "template": {
         "data": {
          "bar": [
           {
            "error_x": {
             "color": "#2a3f5f"
            },
            "error_y": {
             "color": "#2a3f5f"
            },
            "marker": {
             "line": {
              "color": "#E5ECF6",
              "width": 0.5
             },
             "pattern": {
              "fillmode": "overlay",
              "size": 10,
              "solidity": 0.2
             }
            },
            "type": "bar"
           }
          ],
          "barpolar": [
           {
            "marker": {
             "line": {
              "color": "#E5ECF6",
              "width": 0.5
             },
             "pattern": {
              "fillmode": "overlay",
              "size": 10,
              "solidity": 0.2
             }
            },
            "type": "barpolar"
           }
          ],
          "carpet": [
           {
            "aaxis": {
             "endlinecolor": "#2a3f5f",
             "gridcolor": "white",
             "linecolor": "white",
             "minorgridcolor": "white",
             "startlinecolor": "#2a3f5f"
            },
            "baxis": {
             "endlinecolor": "#2a3f5f",
             "gridcolor": "white",
             "linecolor": "white",
             "minorgridcolor": "white",
             "startlinecolor": "#2a3f5f"
            },
            "type": "carpet"
           }
          ],
          "choropleth": [
           {
            "colorbar": {
             "outlinewidth": 0,
             "ticks": ""
            },
            "type": "choropleth"
           }
          ],
          "contour": [
           {
            "colorbar": {
             "outlinewidth": 0,
             "ticks": ""
            },
            "colorscale": [
             [
              0,
              "#0d0887"
             ],
             [
              0.1111111111111111,
              "#46039f"
             ],
             [
              0.2222222222222222,
              "#7201a8"
             ],
             [
              0.3333333333333333,
              "#9c179e"
             ],
             [
              0.4444444444444444,
              "#bd3786"
             ],
             [
              0.5555555555555556,
              "#d8576b"
             ],
             [
              0.6666666666666666,
              "#ed7953"
             ],
             [
              0.7777777777777778,
              "#fb9f3a"
             ],
             [
              0.8888888888888888,
              "#fdca26"
             ],
             [
              1,
              "#f0f921"
             ]
            ],
            "type": "contour"
           }
          ],
          "contourcarpet": [
           {
            "colorbar": {
             "outlinewidth": 0,
             "ticks": ""
            },
            "type": "contourcarpet"
           }
          ],
          "heatmap": [
           {
            "colorbar": {
             "outlinewidth": 0,
             "ticks": ""
            },
            "colorscale": [
             [
              0,
              "#0d0887"
             ],
             [
              0.1111111111111111,
              "#46039f"
             ],
             [
              0.2222222222222222,
              "#7201a8"
             ],
             [
              0.3333333333333333,
              "#9c179e"
             ],
             [
              0.4444444444444444,
              "#bd3786"
             ],
             [
              0.5555555555555556,
              "#d8576b"
             ],
             [
              0.6666666666666666,
              "#ed7953"
             ],
             [
              0.7777777777777778,
              "#fb9f3a"
             ],
             [
              0.8888888888888888,
              "#fdca26"
             ],
             [
              1,
              "#f0f921"
             ]
            ],
            "type": "heatmap"
           }
          ],
          "heatmapgl": [
           {
            "colorbar": {
             "outlinewidth": 0,
             "ticks": ""
            },
            "colorscale": [
             [
              0,
              "#0d0887"
             ],
             [
              0.1111111111111111,
              "#46039f"
             ],
             [
              0.2222222222222222,
              "#7201a8"
             ],
             [
              0.3333333333333333,
              "#9c179e"
             ],
             [
              0.4444444444444444,
              "#bd3786"
             ],
             [
              0.5555555555555556,
              "#d8576b"
             ],
             [
              0.6666666666666666,
              "#ed7953"
             ],
             [
              0.7777777777777778,
              "#fb9f3a"
             ],
             [
              0.8888888888888888,
              "#fdca26"
             ],
             [
              1,
              "#f0f921"
             ]
            ],
            "type": "heatmapgl"
           }
          ],
          "histogram": [
           {
            "marker": {
             "pattern": {
              "fillmode": "overlay",
              "size": 10,
              "solidity": 0.2
             }
            },
            "type": "histogram"
           }
          ],
          "histogram2d": [
           {
            "colorbar": {
             "outlinewidth": 0,
             "ticks": ""
            },
            "colorscale": [
             [
              0,
              "#0d0887"
             ],
             [
              0.1111111111111111,
              "#46039f"
             ],
             [
              0.2222222222222222,
              "#7201a8"
             ],
             [
              0.3333333333333333,
              "#9c179e"
             ],
             [
              0.4444444444444444,
              "#bd3786"
             ],
             [
              0.5555555555555556,
              "#d8576b"
             ],
             [
              0.6666666666666666,
              "#ed7953"
             ],
             [
              0.7777777777777778,
              "#fb9f3a"
             ],
             [
              0.8888888888888888,
              "#fdca26"
             ],
             [
              1,
              "#f0f921"
             ]
            ],
            "type": "histogram2d"
           }
          ],
          "histogram2dcontour": [
           {
            "colorbar": {
             "outlinewidth": 0,
             "ticks": ""
            },
            "colorscale": [
             [
              0,
              "#0d0887"
             ],
             [
              0.1111111111111111,
              "#46039f"
             ],
             [
              0.2222222222222222,
              "#7201a8"
             ],
             [
              0.3333333333333333,
              "#9c179e"
             ],
             [
              0.4444444444444444,
              "#bd3786"
             ],
             [
              0.5555555555555556,
              "#d8576b"
             ],
             [
              0.6666666666666666,
              "#ed7953"
             ],
             [
              0.7777777777777778,
              "#fb9f3a"
             ],
             [
              0.8888888888888888,
              "#fdca26"
             ],
             [
              1,
              "#f0f921"
             ]
            ],
            "type": "histogram2dcontour"
           }
          ],
          "mesh3d": [
           {
            "colorbar": {
             "outlinewidth": 0,
             "ticks": ""
            },
            "type": "mesh3d"
           }
          ],
          "parcoords": [
           {
            "line": {
             "colorbar": {
              "outlinewidth": 0,
              "ticks": ""
             }
            },
            "type": "parcoords"
           }
          ],
          "pie": [
           {
            "automargin": true,
            "type": "pie"
           }
          ],
          "scatter": [
           {
            "fillpattern": {
             "fillmode": "overlay",
             "size": 10,
             "solidity": 0.2
            },
            "type": "scatter"
           }
          ],
          "scatter3d": [
           {
            "line": {
             "colorbar": {
              "outlinewidth": 0,
              "ticks": ""
             }
            },
            "marker": {
             "colorbar": {
              "outlinewidth": 0,
              "ticks": ""
             }
            },
            "type": "scatter3d"
           }
          ],
          "scattercarpet": [
           {
            "marker": {
             "colorbar": {
              "outlinewidth": 0,
              "ticks": ""
             }
            },
            "type": "scattercarpet"
           }
          ],
          "scattergeo": [
           {
            "marker": {
             "colorbar": {
              "outlinewidth": 0,
              "ticks": ""
             }
            },
            "type": "scattergeo"
           }
          ],
          "scattergl": [
           {
            "marker": {
             "colorbar": {
              "outlinewidth": 0,
              "ticks": ""
             }
            },
            "type": "scattergl"
           }
          ],
          "scattermapbox": [
           {
            "marker": {
             "colorbar": {
              "outlinewidth": 0,
              "ticks": ""
             }
            },
            "type": "scattermapbox"
           }
          ],
          "scatterpolar": [
           {
            "marker": {
             "colorbar": {
              "outlinewidth": 0,
              "ticks": ""
             }
            },
            "type": "scatterpolar"
           }
          ],
          "scatterpolargl": [
           {
            "marker": {
             "colorbar": {
              "outlinewidth": 0,
              "ticks": ""
             }
            },
            "type": "scatterpolargl"
           }
          ],
          "scatterternary": [
           {
            "marker": {
             "colorbar": {
              "outlinewidth": 0,
              "ticks": ""
             }
            },
            "type": "scatterternary"
           }
          ],
          "surface": [
           {
            "colorbar": {
             "outlinewidth": 0,
             "ticks": ""
            },
            "colorscale": [
             [
              0,
              "#0d0887"
             ],
             [
              0.1111111111111111,
              "#46039f"
             ],
             [
              0.2222222222222222,
              "#7201a8"
             ],
             [
              0.3333333333333333,
              "#9c179e"
             ],
             [
              0.4444444444444444,
              "#bd3786"
             ],
             [
              0.5555555555555556,
              "#d8576b"
             ],
             [
              0.6666666666666666,
              "#ed7953"
             ],
             [
              0.7777777777777778,
              "#fb9f3a"
             ],
             [
              0.8888888888888888,
              "#fdca26"
             ],
             [
              1,
              "#f0f921"
             ]
            ],
            "type": "surface"
           }
          ],
          "table": [
           {
            "cells": {
             "fill": {
              "color": "#EBF0F8"
             },
             "line": {
              "color": "white"
             }
            },
            "header": {
             "fill": {
              "color": "#C8D4E3"
             },
             "line": {
              "color": "white"
             }
            },
            "type": "table"
           }
          ]
         },
         "layout": {
          "annotationdefaults": {
           "arrowcolor": "#2a3f5f",
           "arrowhead": 0,
           "arrowwidth": 1
          },
          "autotypenumbers": "strict",
          "coloraxis": {
           "colorbar": {
            "outlinewidth": 0,
            "ticks": ""
           }
          },
          "colorscale": {
           "diverging": [
            [
             0,
             "#8e0152"
            ],
            [
             0.1,
             "#c51b7d"
            ],
            [
             0.2,
             "#de77ae"
            ],
            [
             0.3,
             "#f1b6da"
            ],
            [
             0.4,
             "#fde0ef"
            ],
            [
             0.5,
             "#f7f7f7"
            ],
            [
             0.6,
             "#e6f5d0"
            ],
            [
             0.7,
             "#b8e186"
            ],
            [
             0.8,
             "#7fbc41"
            ],
            [
             0.9,
             "#4d9221"
            ],
            [
             1,
             "#276419"
            ]
           ],
           "sequential": [
            [
             0,
             "#0d0887"
            ],
            [
             0.1111111111111111,
             "#46039f"
            ],
            [
             0.2222222222222222,
             "#7201a8"
            ],
            [
             0.3333333333333333,
             "#9c179e"
            ],
            [
             0.4444444444444444,
             "#bd3786"
            ],
            [
             0.5555555555555556,
             "#d8576b"
            ],
            [
             0.6666666666666666,
             "#ed7953"
            ],
            [
             0.7777777777777778,
             "#fb9f3a"
            ],
            [
             0.8888888888888888,
             "#fdca26"
            ],
            [
             1,
             "#f0f921"
            ]
           ],
           "sequentialminus": [
            [
             0,
             "#0d0887"
            ],
            [
             0.1111111111111111,
             "#46039f"
            ],
            [
             0.2222222222222222,
             "#7201a8"
            ],
            [
             0.3333333333333333,
             "#9c179e"
            ],
            [
             0.4444444444444444,
             "#bd3786"
            ],
            [
             0.5555555555555556,
             "#d8576b"
            ],
            [
             0.6666666666666666,
             "#ed7953"
            ],
            [
             0.7777777777777778,
             "#fb9f3a"
            ],
            [
             0.8888888888888888,
             "#fdca26"
            ],
            [
             1,
             "#f0f921"
            ]
           ]
          },
          "colorway": [
           "#636efa",
           "#EF553B",
           "#00cc96",
           "#ab63fa",
           "#FFA15A",
           "#19d3f3",
           "#FF6692",
           "#B6E880",
           "#FF97FF",
           "#FECB52"
          ],
          "font": {
           "color": "#2a3f5f"
          },
          "geo": {
           "bgcolor": "white",
           "lakecolor": "white",
           "landcolor": "#E5ECF6",
           "showlakes": true,
           "showland": true,
           "subunitcolor": "white"
          },
          "hoverlabel": {
           "align": "left"
          },
          "hovermode": "closest",
          "mapbox": {
           "style": "light"
          },
          "paper_bgcolor": "white",
          "plot_bgcolor": "#E5ECF6",
          "polar": {
           "angularaxis": {
            "gridcolor": "white",
            "linecolor": "white",
            "ticks": ""
           },
           "bgcolor": "#E5ECF6",
           "radialaxis": {
            "gridcolor": "white",
            "linecolor": "white",
            "ticks": ""
           }
          },
          "scene": {
           "xaxis": {
            "backgroundcolor": "#E5ECF6",
            "gridcolor": "white",
            "gridwidth": 2,
            "linecolor": "white",
            "showbackground": true,
            "ticks": "",
            "zerolinecolor": "white"
           },
           "yaxis": {
            "backgroundcolor": "#E5ECF6",
            "gridcolor": "white",
            "gridwidth": 2,
            "linecolor": "white",
            "showbackground": true,
            "ticks": "",
            "zerolinecolor": "white"
           },
           "zaxis": {
            "backgroundcolor": "#E5ECF6",
            "gridcolor": "white",
            "gridwidth": 2,
            "linecolor": "white",
            "showbackground": true,
            "ticks": "",
            "zerolinecolor": "white"
           }
          },
          "shapedefaults": {
           "line": {
            "color": "#2a3f5f"
           }
          },
          "ternary": {
           "aaxis": {
            "gridcolor": "white",
            "linecolor": "white",
            "ticks": ""
           },
           "baxis": {
            "gridcolor": "white",
            "linecolor": "white",
            "ticks": ""
           },
           "bgcolor": "#E5ECF6",
           "caxis": {
            "gridcolor": "white",
            "linecolor": "white",
            "ticks": ""
           }
          },
          "title": {
           "x": 0.05
          },
          "xaxis": {
           "automargin": true,
           "gridcolor": "white",
           "linecolor": "white",
           "ticks": "",
           "title": {
            "standoff": 15
           },
           "zerolinecolor": "white",
           "zerolinewidth": 2
          },
          "yaxis": {
           "automargin": true,
           "gridcolor": "white",
           "linecolor": "white",
           "ticks": "",
           "title": {
            "standoff": 15
           },
           "zerolinecolor": "white",
           "zerolinewidth": 2
          }
         }
        },
        "width": 2000,
        "xaxis": {
         "anchor": "y",
         "domain": [
          0,
          1
         ],
         "title": {
          "text": "#"
         }
        },
        "yaxis": {
         "anchor": "x",
         "domain": [
          0,
          1
         ],
         "title": {
          "text": "Total"
         }
        }
       }
      }
     },
     "metadata": {},
     "output_type": "display_data"
    }
   ],
   "source": [
    "# interactive scatterplot with plotly express\n",
    "import plotly.express as px\n",
    "\n",
    "# create interactive scatterplot, x = #, y = total, size = total, color = type 1, symbol = dual type, hover name = name\n",
    "fig = px.scatter(df, x = '#', y = 'Total',\n",
    "                    size = 'Total', color = 'Primary Type',\n",
    "                    hover_name = 'Name')\n",
    "\n",
    "# add legend out of plot\n",
    "fig.update_layout(legend=dict(x=1, y=1))\n",
    "\n",
    "# adjust size of plot\n",
    "fig.update_layout(width = 2000, height = 1000)\n",
    "\n",
    "# show plot\n",
    "fig.show()\n",
    "\n",
    "# export plot to dashboard html\n",
    "fig.write_html(\"LE2_pokemon_total_id.html\")\n",
    "\n"
   ]
  },
  {
   "cell_type": "code",
   "execution_count": 15,
   "metadata": {},
   "outputs": [
    {
     "name": "stdout",
     "output_type": "stream",
     "text": [
      "Dash is running on http://127.0.0.1:5000/\n",
      "\n",
      "Dash is running on http://127.0.0.1:5000/\n",
      "\n",
      "Dash is running on http://127.0.0.1:5000/\n",
      "\n",
      " * Serving Flask app '__main__'\n",
      " * Debug mode: on\n"
     ]
    },
    {
     "ename": "SystemExit",
     "evalue": "1",
     "output_type": "error",
     "traceback": [
      "An exception has occurred, use %tb to see the full traceback.\n",
      "\u001b[1;31mSystemExit\u001b[0m\u001b[1;31m:\u001b[0m 1\n"
     ]
    },
    {
     "name": "stderr",
     "output_type": "stream",
     "text": [
      "c:\\Users\\Ben\\daw\\lib\\site-packages\\IPython\\core\\interactiveshell.py:3259: UserWarning:\n",
      "\n",
      "To exit: use 'exit', 'quit', or Ctrl-D.\n",
      "\n"
     ]
    }
   ],
   "source": [
    "# using dash and plotly express to make a pokemon dashboard\n",
    "import dash\n",
    "import dash_core_components as dcc\n",
    "import dash_html_components as html\n",
    "import plotly.express as px\n",
    "\n",
    "# create dash app\n",
    "app = dash.Dash(__name__)\n",
    "\n",
    "# create layout\n",
    "app.layout = html.Div([\n",
    "    html.H1('Pokemon Dashboard'),\n",
    "    html.H2('Pokemon Attack vs Defense'),\n",
    "    dcc.Graph(figure = px.scatter(df, x = 'Attack', y = 'Defense',\n",
    "                    size = 'Total', color = 'Primary Type',\n",
    "                    hover_name = 'Name')),\n",
    "    html.H2('Pokemon Attack vs Defense by Generation and Legendary'),\n",
    "    dcc.Graph(figure = px.scatter(df, x = 'Attack', y = 'Defense',\n",
    "                    size = 'Total', color = 'Primary Type',\n",
    "                    hover_name = 'Name', facet_col = 'Generation', facet_row = 'Legendary')),\n",
    "    html.H2('Pokemon Total Stats by ID'),\n",
    "    dcc.Graph(figure = px.scatter(df, x = '#', y = 'Total',\n",
    "                    size = 'Total', color = 'Primary Type',\n",
    "                    hover_name = 'Name'))\n",
    "])\n",
    "\n",
    "# run app\n",
    "if __name__ == '__main__':\n",
    "    app.run_server(port='5000', host='127.0.0.1', debug=True)\n"
   ]
  },
  {
   "cell_type": "code",
   "execution_count": 14,
   "metadata": {},
   "outputs": [
    {
     "name": "stderr",
     "output_type": "stream",
     "text": [
      "[NbConvertApp] Converting notebook LE2_pokemon_dashboard.ipynb to script\n",
      "[NbConvertApp] Writing 4610 bytes to LE2_pokemon_dashboard.py\n"
     ]
    }
   ],
   "source": [
    "# convert this notebook to python script\n",
    "!jupyter nbconvert --to script LE2_pokemon_dashboard.ipynb"
   ]
  }
 ],
 "metadata": {
  "kernelspec": {
   "display_name": "Python 3.9.7 ('daw')",
   "language": "python",
   "name": "python3"
  },
  "language_info": {
   "codemirror_mode": {
    "name": "ipython",
    "version": 3
   },
   "file_extension": ".py",
   "mimetype": "text/x-python",
   "name": "python",
   "nbconvert_exporter": "python",
   "pygments_lexer": "ipython3",
   "version": "3.9.7"
  },
  "orig_nbformat": 4,
  "vscode": {
   "interpreter": {
    "hash": "2afe0e74eafc49e4b2c88c6639579513037c4a91d13b1aa761ce3d4b3d99a875"
   }
  }
 },
 "nbformat": 4,
 "nbformat_minor": 2
}
